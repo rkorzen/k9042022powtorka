{
 "cells": [
  {
   "cell_type": "markdown",
   "id": "6056ef6d",
   "metadata": {},
   "source": [
    "# Struktury danych\n",
    "\n",
    "\n",
    "\n",
    "\n",
    "## Typy tablicowe\n",
    "\n",
    "| index  | 0 | 1 | 2 | 3 | \n",
    "|--------|---|---|---|---|\n",
    "| obiekt | A | B | C | D | \n",
    "\n",
    "\n",
    "### list\n",
    "\n",
    "dynamiczna tablica, pozwalająca na przechowywanie różnych typów\n",
    "\n",
    "|index  | 0   | 1   | 2   | 3   |\n",
    "|-------|-----|-----|-----|-----|\n",
    "|adres  | 0x1 | 0x4 | 0x8 | 0x9 |\n",
    "\n",
    "\n",
    "|adres  | 0x1 | 0x4 | 0x8 | 0x9 |\n",
    "|-------|-----|-----|-----|-----|\n",
    "|obiekt | A   | B   | C   | D   |"
   ]
  },
  {
   "cell_type": "code",
   "execution_count": null,
   "id": "50526fdd",
   "metadata": {},
   "outputs": [],
   "source": [
    "arr = [\"A\", \"B\", \"C\", \"D\"]\n",
    "arr[0]\n",
    "arr[0] = 42\n",
    "\n",
    "len(arr)"
   ]
  },
  {
   "cell_type": "markdown",
   "id": "07b00c65",
   "metadata": {},
   "source": [
    "### tuple\n",
    "\n",
    "Niemutowalna typ tablicowy - podobny do listy"
   ]
  },
  {
   "cell_type": "markdown",
   "id": "dc242440",
   "metadata": {},
   "source": [
    "### array.array"
   ]
  },
  {
   "cell_type": "code",
   "execution_count": null,
   "id": "5116db96",
   "metadata": {},
   "outputs": [],
   "source": [
    "import array\n",
    "\n",
    "arr = array.array(\"f\", (1.0, 1.5, 2.0, 2.5))"
   ]
  },
  {
   "cell_type": "code",
   "execution_count": null,
   "id": "050d9dc4",
   "metadata": {},
   "outputs": [],
   "source": [
    "dir(arr)"
   ]
  },
  {
   "cell_type": "code",
   "execution_count": null,
   "id": "1c91ff55",
   "metadata": {},
   "outputs": [],
   "source": [
    "arr.tobytes()"
   ]
  },
  {
   "cell_type": "code",
   "execution_count": null,
   "id": "6c19e277",
   "metadata": {},
   "outputs": [],
   "source": [
    "arr?"
   ]
  },
  {
   "cell_type": "code",
   "execution_count": null,
   "id": "2e500a3b",
   "metadata": {},
   "outputs": [],
   "source": [
    "len(arr)"
   ]
  },
  {
   "cell_type": "code",
   "execution_count": null,
   "id": "9c118f51",
   "metadata": {},
   "outputs": [],
   "source": [
    "arr[0]"
   ]
  },
  {
   "cell_type": "code",
   "execution_count": null,
   "id": "695b9d1a",
   "metadata": {},
   "outputs": [],
   "source": [
    "arr.append(42)"
   ]
  },
  {
   "cell_type": "code",
   "execution_count": null,
   "id": "b44ca53f",
   "metadata": {},
   "outputs": [],
   "source": [
    "from sys import getsizeof\n",
    "\n",
    "getsizeof?\n"
   ]
  },
  {
   "cell_type": "code",
   "execution_count": null,
   "id": "ee607922",
   "metadata": {},
   "outputs": [],
   "source": [
    "arr_l = [x for x in range(1, 100_001)]\n",
    "arr_a = array.array('i', arr_l)\n",
    "\n",
    "getsizeof(arr_l), getsizeof(arr_a)"
   ]
  },
  {
   "cell_type": "markdown",
   "id": "158a6bc2",
   "metadata": {},
   "source": [
    "### str\n",
    "\n",
    "Niemutowalna tablica znaków unicode\n",
    "Dane tekstowe"
   ]
  },
  {
   "cell_type": "code",
   "execution_count": null,
   "id": "8c2870bb",
   "metadata": {},
   "outputs": [],
   "source": [
    "arr = \"abcd\"\n",
    "arr[1]\n",
    "\n",
    "\"\".join([\"a\", \"c\"])\n",
    "\n",
    "\n",
    "lista = [1, 2, 3, 4]\n",
    "\n",
    "\"\".join([str(x) for x in lista])"
   ]
  },
  {
   "cell_type": "code",
   "execution_count": null,
   "id": "9a59d857",
   "metadata": {},
   "outputs": [],
   "source": [
    "\"\".join(map(str, lista))"
   ]
  },
  {
   "cell_type": "code",
   "execution_count": null,
   "id": "94304bc5",
   "metadata": {},
   "outputs": [],
   "source": [
    "# struktura reukurencyjna\n",
    "\n",
    "type(\"Abc\"), type(\"Abc\"[0])\n"
   ]
  },
  {
   "cell_type": "markdown",
   "id": "7981a654",
   "metadata": {},
   "source": [
    "### bytes\n",
    "\n",
    "niezmienna sekwencja pojedynczych bajtow lub liczb z zakresu 0 - 255"
   ]
  },
  {
   "cell_type": "code",
   "execution_count": null,
   "id": "0d0255f1",
   "metadata": {},
   "outputs": [],
   "source": [
    "arr = bytes((1, 2, 3, 4))\n",
    "arr"
   ]
  },
  {
   "cell_type": "code",
   "execution_count": null,
   "id": "9af68d7e",
   "metadata": {},
   "outputs": [],
   "source": [
    "arr = bytes(\"abcd\", encoding=\"utf-8\")\n",
    "arr"
   ]
  },
  {
   "cell_type": "code",
   "execution_count": null,
   "id": "10b1f6a7",
   "metadata": {},
   "outputs": [],
   "source": [
    "bytes?"
   ]
  },
  {
   "cell_type": "markdown",
   "id": "15404658",
   "metadata": {},
   "source": [
    "### bytearray"
   ]
  },
  {
   "cell_type": "markdown",
   "id": "333cd82c",
   "metadata": {},
   "source": [
    "mutowalna tablica pojedynczych bajtow (liczby 0-255)"
   ]
  },
  {
   "cell_type": "code",
   "execution_count": null,
   "id": "c6cff350",
   "metadata": {},
   "outputs": [],
   "source": [
    "ba = bytearray(arr)"
   ]
  },
  {
   "cell_type": "code",
   "execution_count": null,
   "id": "1e770d7a",
   "metadata": {},
   "outputs": [],
   "source": [
    "ba"
   ]
  },
  {
   "cell_type": "code",
   "execution_count": null,
   "id": "cfa849d4",
   "metadata": {},
   "outputs": [],
   "source": [
    "ba[0] = 1"
   ]
  },
  {
   "cell_type": "code",
   "execution_count": null,
   "id": "e4ed97e7",
   "metadata": {},
   "outputs": [],
   "source": [
    "ba"
   ]
  },
  {
   "cell_type": "code",
   "execution_count": null,
   "id": "754b7e1c",
   "metadata": {},
   "outputs": [],
   "source": [
    "# ba[0] = 256"
   ]
  },
  {
   "cell_type": "code",
   "execution_count": null,
   "id": "e2c4a12f",
   "metadata": {},
   "outputs": [],
   "source": [
    "%lsmagic"
   ]
  },
  {
   "cell_type": "code",
   "execution_count": null,
   "id": "78e02fa9",
   "metadata": {},
   "outputs": [],
   "source": [
    "%time [x for x in range(1000)]"
   ]
  },
  {
   "cell_type": "code",
   "execution_count": null,
   "id": "8fc73129",
   "metadata": {},
   "outputs": [],
   "source": [
    "%timeit -n100 [x for x in range(1000)]"
   ]
  },
  {
   "cell_type": "markdown",
   "id": "d45656c4",
   "metadata": {},
   "source": [
    "### Porównanie\n",
    "\n",
    "    Utwórz wyrażeniem listowym listę 100 000 losowych liczb z przedziału 0-255\n",
    "    Utwórz na jej podstawie krotkę\n",
    "    Utwórz tablicę array.array na podstwie listy\n",
    "    Utwórz tablicę np.array na podstawie listy\n",
    "    Porównaj rozmiary obiektów\n",
    "    Porównaj szybkość operacji wybierania (początek, środek, koniec)\n",
    "    Porównaj szybkość operacji zmiany obiektu (środek)\n",
    "    Porównaj szybkość operacji dodawania elementu do listy i array - początek, środek, koniec\n",
    "    Porównaj szybkośc usuwania elementów (początek, środek, koniec)"
   ]
  },
  {
   "cell_type": "code",
   "execution_count": null,
   "id": "18007e57",
   "metadata": {},
   "outputs": [],
   "source": [
    "!pip3 install numpy"
   ]
  },
  {
   "cell_type": "code",
   "execution_count": null,
   "id": "caad8514",
   "metadata": {},
   "outputs": [],
   "source": [
    "# 10:49 przerwai\n",
    "import random\n",
    "import numpy as np"
   ]
  },
  {
   "cell_type": "code",
   "execution_count": null,
   "id": "44c823c2",
   "metadata": {},
   "outputs": [],
   "source": [
    "a = collection_list = [random.randint(0, 255) for i in range(100_000)]\n",
    "b = collection_tuple = tuple(collection_list)\n",
    "c = collection_array = array.array('B', collection_list)\n",
    "d = collection_np_array = np.array(collection_list, dtype=np.int8)\n",
    "e = collection_bytes = bytes(a)\n",
    "f = collection_bytearray = bytearray(a)"
   ]
  },
  {
   "cell_type": "code",
   "execution_count": null,
   "id": "8b0e7bf3",
   "metadata": {},
   "outputs": [],
   "source": [
    "elements = [a, b, c, d, e, f]\n",
    "for el in elements: print(len(el))\n",
    "    "
   ]
  },
  {
   "cell_type": "code",
   "execution_count": null,
   "id": "ab9335d6",
   "metadata": {},
   "outputs": [],
   "source": [
    "from sys import getsizeof as _\n",
    "\n",
    "print(f\"\"\"\n",
    "list:      {_(a):>30}\n",
    "tuple:     {_(b):>30}\n",
    "array:     {_(c):>30}\n",
    "np.array:  {_(d):>30}\n",
    "bytes:     {_(e):>30}\n",
    "bytesarray {_(f):>30}\n",
    "\"\"\")"
   ]
  },
  {
   "cell_type": "code",
   "execution_count": null,
   "id": "3dbf446d",
   "metadata": {},
   "outputs": [],
   "source": [
    "from functools import partial\n",
    "\n",
    "timeit.repeat(partial(print, 1), number=10)"
   ]
  },
  {
   "cell_type": "code",
   "execution_count": null,
   "id": "f4634b51",
   "metadata": {},
   "outputs": [],
   "source": [
    "timeit.repeat?"
   ]
  },
  {
   "cell_type": "code",
   "execution_count": null,
   "id": "b3683354",
   "metadata": {},
   "outputs": [],
   "source": [
    "# porownaj szybkosc operacji wybierania - poczatek, srodek, koniec\n",
    "\n",
    "import timeit\n",
    "\n",
    "def get_elements(collection):\n",
    "    return collection[0], collection[50000], collection[-1]\n",
    "\n",
    "def measure_get_elements(name, collection, n=100):\n",
    "    t = min(timeit.repeat(partial(get_elements, collection), repeat=4, number=n))\n",
    "    print(f\"{name:15} {t}\")\n",
    "    \n",
    "\n",
    "data = {\n",
    "    \"list\": a,\n",
    "    \"tuple\": b,\n",
    "    \"array\": c,\n",
    "    \"nparray\": d,\n",
    "    \"bytes\": e,\n",
    "    \"bytesarray\": f\n",
    "}\n",
    "\n",
    "for k, v in data.items():\n",
    "    measure_get_elements(k, v)\n",
    "\n"
   ]
  },
  {
   "cell_type": "code",
   "execution_count": null,
   "id": "cb01dc8f",
   "metadata": {},
   "outputs": [],
   "source": [
    "%timeit collection_list.append(255)"
   ]
  },
  {
   "cell_type": "code",
   "execution_count": null,
   "id": "76743ffb",
   "metadata": {},
   "outputs": [],
   "source": [
    "%timeit collection_list.insert(0, 255)"
   ]
  },
  {
   "cell_type": "code",
   "execution_count": null,
   "id": "b62dcb00",
   "metadata": {},
   "outputs": [],
   "source": [
    "len(collection_list)"
   ]
  },
  {
   "cell_type": "markdown",
   "id": "bd005a17",
   "metadata": {},
   "source": [
    "## Słowniki, mapy, tablice haszujace, tablice asocjacyjne\n",
    "\n",
    "### dict"
   ]
  },
  {
   "cell_type": "code",
   "execution_count": null,
   "id": "cd027d5f",
   "metadata": {},
   "outputs": [],
   "source": [
    "g = dict(one=1, two=2, three=3)\n",
    "\n",
    "for el in g: print(el)"
   ]
  },
  {
   "cell_type": "code",
   "execution_count": null,
   "id": "3cc06261",
   "metadata": {},
   "outputs": [],
   "source": [
    "dir(g)"
   ]
  },
  {
   "cell_type": "markdown",
   "id": "6439f497",
   "metadata": {},
   "source": [
    "### collections.OrderedDict"
   ]
  },
  {
   "cell_type": "code",
   "execution_count": null,
   "id": "e7947452",
   "metadata": {},
   "outputs": [],
   "source": [
    "import collections\n",
    "\n",
    "g2 = collections.OrderedDict(one=1, two=2, three=3)"
   ]
  },
  {
   "cell_type": "code",
   "execution_count": null,
   "id": "941926b4",
   "metadata": {},
   "outputs": [],
   "source": [
    "dir(g2)"
   ]
  },
  {
   "cell_type": "code",
   "execution_count": null,
   "id": "a146642e",
   "metadata": {},
   "outputs": [],
   "source": [
    "help(g.popitem)"
   ]
  },
  {
   "cell_type": "code",
   "execution_count": null,
   "id": "137e48f4",
   "metadata": {},
   "outputs": [],
   "source": [
    "help(g2.popitem)"
   ]
  },
  {
   "cell_type": "code",
   "execution_count": null,
   "id": "f1de4b71",
   "metadata": {},
   "outputs": [],
   "source": [
    "help(g2.move_to_end)"
   ]
  },
  {
   "cell_type": "markdown",
   "id": "f6c329e2",
   "metadata": {},
   "source": [
    "### collections.defaultdict"
   ]
  },
  {
   "cell_type": "code",
   "execution_count": null,
   "id": "6293dbb8",
   "metadata": {},
   "outputs": [],
   "source": [
    "g2 = collections.defaultdict(int)\n",
    "\n",
    "g2['a'] += 1"
   ]
  },
  {
   "cell_type": "code",
   "execution_count": null,
   "id": "d5a4cae6",
   "metadata": {},
   "outputs": [],
   "source": [
    "g['a'] += 1"
   ]
  },
  {
   "cell_type": "code",
   "execution_count": null,
   "id": "9ff1b605",
   "metadata": {},
   "outputs": [],
   "source": [
    "g3b = collections.defaultdict(list)\n",
    "\n",
    "g3b[\"dogs\"].append(\"Canis\")"
   ]
  },
  {
   "cell_type": "code",
   "execution_count": null,
   "id": "06f3ef42",
   "metadata": {},
   "outputs": [],
   "source": [
    "g3b"
   ]
  },
  {
   "cell_type": "markdown",
   "id": "79b938d5",
   "metadata": {},
   "source": [
    "### collections.ChainMap\n",
    "\n",
    "grupuje wiele słowników w jedno mapowanie"
   ]
  },
  {
   "cell_type": "code",
   "execution_count": null,
   "id": "858e586c",
   "metadata": {},
   "outputs": [],
   "source": [
    "from collections import ChainMap\n",
    "\n",
    "dict_1 = {\"one\": 1, \"two\":2}\n",
    "dict_2 = {\"three\": 2, \"four\":4, \"one\": 100}\n",
    "\n",
    "chain = ChainMap(dict_1, dict_2)\n",
    "\n",
    "chain[\"one\"] = 50"
   ]
  },
  {
   "cell_type": "code",
   "execution_count": null,
   "id": "10ed9844",
   "metadata": {},
   "outputs": [],
   "source": [
    "from typing import Any\n",
    "\n",
    "def get_value_for_key(key, dicts: list[dict]) -> Any:\n",
    "    for dict_ in dicts:\n",
    "        try:\n",
    "            return dict_[key]\n",
    "        except KeyError:\n",
    "            pass\n",
    "    raise KeyError\n",
    "    \n",
    "    \n",
    "get_value_for_key(\"zzz\", [dict_1, dict_2])"
   ]
  },
  {
   "cell_type": "code",
   "execution_count": null,
   "id": "9cf9b9bd",
   "metadata": {},
   "outputs": [],
   "source": [
    "dict_1"
   ]
  },
  {
   "cell_type": "code",
   "execution_count": null,
   "id": "71a0908e",
   "metadata": {},
   "outputs": [],
   "source": [
    "dict_2"
   ]
  },
  {
   "cell_type": "code",
   "execution_count": null,
   "id": "4e212091",
   "metadata": {},
   "outputs": [],
   "source": [
    "# chain[\"bbb\"]"
   ]
  },
  {
   "cell_type": "markdown",
   "id": "2a4e08f1",
   "metadata": {},
   "source": [
    "### types.MappingProxyType - niemutowalny słownik\n",
    "\n",
    "Od Pythona 3.3 w góre - widok, opakowanie pozwalajace na odczyt"
   ]
  },
  {
   "cell_type": "code",
   "execution_count": null,
   "id": "20e4ad7f",
   "metadata": {},
   "outputs": [],
   "source": [
    "from types import MappingProxyType\n",
    "\n",
    "writable = {\"one\": 1, \"two\":2}\n",
    "read_only = MappingProxyType(writable)\n",
    "\n",
    "read_only"
   ]
  },
  {
   "cell_type": "code",
   "execution_count": null,
   "id": "ae76dea7",
   "metadata": {},
   "outputs": [],
   "source": [
    "type(read_only)"
   ]
  },
  {
   "cell_type": "code",
   "execution_count": null,
   "id": "fa5851c8",
   "metadata": {},
   "outputs": [],
   "source": [
    "read_only[\"one\"] "
   ]
  },
  {
   "cell_type": "code",
   "execution_count": null,
   "id": "8ddc7d7b",
   "metadata": {},
   "outputs": [],
   "source": [
    "# read_only[\"one\"]= 1"
   ]
  },
  {
   "cell_type": "markdown",
   "id": "734af20d",
   "metadata": {},
   "source": [
    "## Rekord, struktury\n",
    "\n",
    "Rekordy to struktury, które zapewniaja stała liczbę pól. Każde pole moze mięc inny typ\n",
    "\n",
    "\n",
    "experyment:\n",
    "\n",
    "\n",
    "| id | data | temperatura | \n",
    "|----|------|-------------|\n",
    "|0|11-02-1980| -2|\n",
    "|1|12-02-1980| -4|\n",
    "|2|13-02-1980| -6|\n",
    "|3|14-02-1980| -8|\n",
    "\n",
    "\n",
    "### dict "
   ]
  },
  {
   "cell_type": "code",
   "execution_count": null,
   "id": "3e43db6a",
   "metadata": {},
   "outputs": [],
   "source": [
    "rekord = {\"id\": 0 ,\"data\":\"11-02-1980\", \"temperatura\": -2 }\n",
    "\n",
    "rekord[\"temperatura\"] "
   ]
  },
  {
   "cell_type": "markdown",
   "id": "0891c12a",
   "metadata": {},
   "source": [
    "    + łatwośc implementacji, \n",
    "    + przenoszenie na inne typy - np JSON\n",
    "    - łatwe w modyfikacji\n",
    "    - podatne na błedy - brak walidacji\n",
    "\n",
    "\n",
    "### tuple:\n",
    "    \n",
    "    (0, \"11-02-1980\", -2)\n",
    "   \n",
    "    \n",
    "    + jest niezmienna\n",
    "    + szybkosc \n",
    "\n",
    "    - nie ma pol\n",
    "    - trudno jest utrzymac struktur - np w kontekscie ilosci indeksow,  (2, \"11-02-1980\", 2)\n",
    "    - brak walidacji\n",
    "    "
   ]
  },
  {
   "cell_type": "markdown",
   "id": "ba4612a7",
   "metadata": {},
   "source": [
    "### klasa"
   ]
  },
  {
   "cell_type": "code",
   "execution_count": null,
   "id": "1806e872",
   "metadata": {},
   "outputs": [],
   "source": [
    "class Temp:\n",
    "    __slots__ = (\"id\",\"data\", \"temperatura\")\n",
    "    def __init__(self, id: int, data: str, temperatura: float):\n",
    "        self.id = id\n",
    "        self.data = data\n",
    "        self.temperatura = temperatura\n",
    "        \n",
    "t = Temp(1, \"11-02-1980\", -2.0)\n",
    "\n",
    "t.temperatura\n",
    "\n",
    "\n",
    "getattr(t, \"temperatura\")"
   ]
  },
  {
   "cell_type": "code",
   "execution_count": null,
   "id": "08113210",
   "metadata": {},
   "outputs": [],
   "source": [
    "t.xxx = \"\""
   ]
  },
  {
   "cell_type": "markdown",
   "id": "b487cc9d",
   "metadata": {},
   "source": [
    "#### Zadanie\n",
    "\n",
    "Porównaj wydajność klas z `__slots__` z punktu widzenia deskryptora\n",
    "\n",
    "deskryptor - to obiekt, ktory pozwala na: pobieranie, ustawianie, kasowanie "
   ]
  },
  {
   "cell_type": "code",
   "execution_count": null,
   "id": "2c81ac8e",
   "metadata": {},
   "outputs": [],
   "source": [
    "class Temp:\n",
    "    \n",
    "    def __init__(self, id: int, data: str, temperatura: float):\n",
    "        self.id = id\n",
    "        self.data = data\n",
    "        self.temperatura = temperatura\n",
    "\n",
    "\n",
    "class TempSlots:\n",
    "    __slots__ = \"id\",\"data\", \"temperatura\", \"__dict__\"\n",
    "    def __init__(self, id: int, data: str, temperatura: float):\n",
    "        self.id = id\n",
    "        self.data = data\n",
    "        self.temperatura = temperatura\n",
    "\n",
    "def get_set_delete_dict(d: dict):\n",
    "    d[\"temperatura\"] = 12.3 \n",
    "    _ = d[\"temperatura\"]\n",
    "    del d[\"temperatura\"]\n",
    "\n",
    "def get_set_delete(temp: Temp | TempSlots):\n",
    "    temp.temperatura = 12.3\n",
    "    _ = temp.temperatura\n",
    "    del temp.temperatura\n",
    "    \n",
    "t = Temp(1, \"11-02-1980\", -2.0)\n",
    "\n",
    "t_slots = TempSlots(1, \"11-02-1980\", -2.0)\n",
    "t_slots.x = 1\n",
    "t_slots.x"
   ]
  },
  {
   "cell_type": "code",
   "execution_count": null,
   "id": "0e559b67",
   "metadata": {},
   "outputs": [],
   "source": [
    "%timeit get_set_delete(t)"
   ]
  },
  {
   "cell_type": "code",
   "execution_count": null,
   "id": "855d2268",
   "metadata": {},
   "outputs": [],
   "source": [
    "%timeit get_set_delete(t_slots)"
   ]
  },
  {
   "cell_type": "code",
   "execution_count": null,
   "id": "d66593dc",
   "metadata": {},
   "outputs": [],
   "source": [
    "%timeit get_set_delete_dict(rekord)"
   ]
  },
  {
   "cell_type": "code",
   "execution_count": null,
   "id": "7ec357e7",
   "metadata": {},
   "outputs": [],
   "source": [
    "(403 -318  ) / 403\n"
   ]
  },
  {
   "cell_type": "code",
   "execution_count": null,
   "id": "88aa774d",
   "metadata": {},
   "outputs": [],
   "source": [
    "import dis \n",
    "\n",
    "def create_tuple(): return (1, 2, 3, 4)\n",
    "\n",
    "def create_list(): return [1, 2, 3, 4]\n",
    "\n",
    "\n",
    "dis.dis(create_tuple)\n",
    "\n"
   ]
  },
  {
   "cell_type": "code",
   "execution_count": null,
   "id": "aa725267",
   "metadata": {},
   "outputs": [],
   "source": [
    "dis.dis(create_list)"
   ]
  },
  {
   "cell_type": "code",
   "execution_count": null,
   "id": "a60a924c",
   "metadata": {},
   "outputs": [],
   "source": [
    "dis.dis(get_set_delete)"
   ]
  },
  {
   "cell_type": "code",
   "execution_count": null,
   "id": "720e43e0",
   "metadata": {},
   "outputs": [],
   "source": [
    "dis.dis(get_set_delete_dict)"
   ]
  },
  {
   "cell_type": "markdown",
   "id": "92690b4e",
   "metadata": {},
   "source": [
    "Przerwa do 14:02"
   ]
  },
  {
   "cell_type": "markdown",
   "id": "bed11aee",
   "metadata": {},
   "source": [
    "### collections.NamedTuple\n",
    "\n",
    "- niemutowalna\n",
    "- umożliwia dostęp do atrybutów (poprzez kropke)\n",
    "- niezla reprezentacja napisowa\n",
    "\n",
    "od pythona2.6"
   ]
  },
  {
   "cell_type": "code",
   "execution_count": null,
   "id": "0ba215a8",
   "metadata": {},
   "outputs": [],
   "source": [
    "from collections import namedtuple\n",
    "\n",
    "Car = namedtuple(\"Car\", \"color mileage automatic\")\n",
    "\n",
    "Car"
   ]
  },
  {
   "cell_type": "code",
   "execution_count": null,
   "id": "dea7a499",
   "metadata": {},
   "outputs": [],
   "source": [
    "car_1 = Car(\"red\", 39000, True)"
   ]
  },
  {
   "cell_type": "code",
   "execution_count": null,
   "id": "746a0e73",
   "metadata": {},
   "outputs": [],
   "source": [
    "car_1"
   ]
  },
  {
   "cell_type": "code",
   "execution_count": null,
   "id": "2e30aed1",
   "metadata": {},
   "outputs": [],
   "source": [
    "car_1.color"
   ]
  },
  {
   "cell_type": "code",
   "execution_count": null,
   "id": "739e5d33",
   "metadata": {},
   "outputs": [],
   "source": [
    "car_1[0]"
   ]
  },
  {
   "cell_type": "markdown",
   "id": "8fda866d",
   "metadata": {},
   "source": [
    "### dataclasses.dataclass\n",
    "\n",
    "Od python 3.7\n",
    "\n",
    "- nie trzeba tworzyć  `__init__`\n",
    "- automatycznie tworzony jest `__repr__`\n",
    "- stosowanie adnotacji metodą dokumentacji\n",
    "\n"
   ]
  },
  {
   "cell_type": "code",
   "execution_count": null,
   "id": "08511c66",
   "metadata": {},
   "outputs": [],
   "source": [
    "class Car:\n",
    "    __slots__ = \"color\", \"mileage\", \"automatic\"\n",
    "    \n",
    "    color: str\n",
    "    mileage: float\n",
    "    automatic: bool\n",
    "        \n",
    "        \n",
    "c = Car()\n",
    "c2 = Car()\n",
    "c.color = \"red\"\n",
    "c2.color = \"green\"\n",
    "\n",
    "Car.color, c2.color, c.color"
   ]
  },
  {
   "cell_type": "code",
   "execution_count": null,
   "id": "53e1f86d",
   "metadata": {},
   "outputs": [],
   "source": [
    "from dataclasses import dataclass\n",
    "\n",
    "@dataclass\n",
    "class Car:\n",
    "    _id = 0\n",
    "    color: str\n",
    "    mileage: float\n",
    "    automatic: bool\n",
    "\n",
    "c = Car(\"red\", 39000, True)\n",
    "Car._id = 10\n",
    "\n",
    "# c._id = 10\n",
    "\n",
    "Car._id, c._id"
   ]
  },
  {
   "cell_type": "markdown",
   "id": "0f45645d",
   "metadata": {},
   "source": [
    "### typing.NamedTuple"
   ]
  },
  {
   "cell_type": "code",
   "execution_count": null,
   "id": "7a53b042",
   "metadata": {},
   "outputs": [],
   "source": [
    "from typing import NamedTuple\n",
    "\n",
    "class Car(NamedTuple):\n",
    "    color: str\n",
    "    mileage: float\n",
    "    automatic: bool\n",
    "        \n",
    "c = Car(\"red\", 39000, True)\n",
    "c, type(c), dir(c)"
   ]
  },
  {
   "cell_type": "markdown",
   "id": "c0133853",
   "metadata": {},
   "source": [
    "### struct.Struct\n",
    "\n"
   ]
  },
  {
   "cell_type": "code",
   "execution_count": null,
   "id": "5007bf0e",
   "metadata": {},
   "outputs": [],
   "source": [
    "import struct\n",
    "\n",
    "struct.Struct?\n",
    "\n",
    "MyStruct = struct.Struct(\"i?f\")\n",
    "\n",
    "data = MyStruct.pack(23, True, 42.0)\n",
    "\n",
    "data"
   ]
  },
  {
   "cell_type": "code",
   "execution_count": null,
   "id": "2f61a849",
   "metadata": {},
   "outputs": [],
   "source": [
    "MyStruct.unpack(data)"
   ]
  },
  {
   "cell_type": "markdown",
   "id": "c2e9500e",
   "metadata": {},
   "source": [
    "### types.SimpleNamespace"
   ]
  },
  {
   "cell_type": "code",
   "execution_count": null,
   "id": "ca493bb1",
   "metadata": {},
   "outputs": [],
   "source": [
    "from types import SimpleNamespace\n",
    "\n",
    "car1 = SimpleNamespace(color=\"red\", mileage=38000, automatic=False)\n",
    "\n",
    "car1"
   ]
  },
  {
   "cell_type": "code",
   "execution_count": null,
   "id": "9459e100",
   "metadata": {},
   "outputs": [],
   "source": [
    "car1.automatic"
   ]
  },
  {
   "cell_type": "markdown",
   "id": "2b79f74e",
   "metadata": {},
   "source": [
    "## Sets i Multisets\n",
    "\n",
    "### set\n",
    "\n",
    "### frozenset\n",
    "\n",
    "### collections.Counter"
   ]
  },
  {
   "cell_type": "code",
   "execution_count": null,
   "id": "18a7de84",
   "metadata": {},
   "outputs": [],
   "source": [
    "from collections import Counter\n",
    "\n",
    "inventory = Counter()\n",
    "\n"
   ]
  },
  {
   "cell_type": "code",
   "execution_count": null,
   "id": "5f79351b",
   "metadata": {},
   "outputs": [],
   "source": [
    "loot = {\"sword\": 1, \"bread\": 3}\n",
    "inventory.update(loot)\n",
    "\n",
    "inventory"
   ]
  },
  {
   "cell_type": "code",
   "execution_count": null,
   "id": "c6c4bce9",
   "metadata": {},
   "outputs": [],
   "source": [
    "more_loot = {\"sword\": 1, \"bread\": 3, \"shield\": 3}"
   ]
  },
  {
   "cell_type": "code",
   "execution_count": null,
   "id": "9a859b63",
   "metadata": {},
   "outputs": [],
   "source": [
    "inventory.update(more_loot)"
   ]
  },
  {
   "cell_type": "code",
   "execution_count": null,
   "id": "4cfc4625",
   "metadata": {},
   "outputs": [],
   "source": [
    "inventory"
   ]
  },
  {
   "cell_type": "code",
   "execution_count": null,
   "id": "5e9eda4c",
   "metadata": {},
   "outputs": [],
   "source": []
  },
  {
   "cell_type": "markdown",
   "id": "a06c2209",
   "metadata": {},
   "source": [
    "#### Policzyc znaki w napisie\n",
    "\n",
    "    x = policz_znaki(\"aaabb\")\n",
    "    x[\"a\"]\n",
    "    3"
   ]
  },
  {
   "cell_type": "code",
   "execution_count": null,
   "id": "bd34fea5",
   "metadata": {},
   "outputs": [],
   "source": [
    "def policz_znaki(text):\n",
    "    return Counter(text)\n",
    "\n",
    "policz_znaki(\"aaabb\")[\"a\"] == 3"
   ]
  },
  {
   "cell_type": "markdown",
   "id": "90790fb1",
   "metadata": {},
   "source": [
    "## Stosy\n",
    "\n",
    "LIFO (Last In First Out)\n",
    "\n",
    "#### Zadanie - \n",
    "\n",
    "zaimplementuj prosty stos w pythonie - `Stos` ma mieć metody push i pop\n",
    "\n",
    "    >>> s = Stos()\n",
    "    >>> s.push(1)\n",
    "    >>> s.pop()\n",
    "    1\n",
    "    >>> s.pop()\n",
    "    None"
   ]
  },
  {
   "cell_type": "markdown",
   "id": "98cf4265",
   "metadata": {},
   "source": [
    "### list"
   ]
  },
  {
   "cell_type": "code",
   "execution_count": null,
   "id": "a5f42677",
   "metadata": {},
   "outputs": [],
   "source": [
    "class Stos:\n",
    "    \n",
    "    def __init__(self):\n",
    "        self.stack = []\n",
    "        \n",
    "    def push(self, value):\n",
    "        self.stack.append(value)\n",
    "        \n",
    "    def pop(self):\n",
    "        try:\n",
    "            value = self.stack.pop()\n",
    "        except IndexError:\n",
    "            value = None\n",
    "        return value\n",
    "        \n",
    "    \n",
    "s = Stos()\n",
    "s.push(1)\n",
    "s.pop() == 1"
   ]
  },
  {
   "cell_type": "code",
   "execution_count": null,
   "id": "a1e189a4",
   "metadata": {},
   "outputs": [],
   "source": [
    "s.pop()\n"
   ]
  },
  {
   "cell_type": "markdown",
   "id": "bac17fb6",
   "metadata": {},
   "source": [
    "### collections.deque\n",
    "\n",
    "- definiuje podwojna kolejke, ktora obsluguje dodawanie i usuwanie z oby strony w czasie O(1)\n"
   ]
  },
  {
   "cell_type": "code",
   "execution_count": null,
   "id": "d27bbe3b",
   "metadata": {},
   "outputs": [],
   "source": [
    "from collections import deque\n",
    "\n",
    "s = deque()\n",
    "s.append(\"eat\")\n",
    "s.append(\"sleep\")\n",
    "s.append(\"code\")\n",
    "\n",
    "s"
   ]
  },
  {
   "cell_type": "code",
   "execution_count": null,
   "id": "a8d2406f",
   "metadata": {},
   "outputs": [],
   "source": [
    "s.pop()"
   ]
  },
  {
   "cell_type": "markdown",
   "id": "d6861d0f",
   "metadata": {},
   "source": [
    "#### zmodyfikuj klase Stos tak by mozna bylo wskazywac na podstawie czego ma byc tworzona. Porownaj czasy dodawania do stosu i zdjemowania ze stosu\n",
    "\n",
    "    s = Stos(base=deque)\n",
    "\n",
    "    s2 = Stos(base=list)\n",
    "\n",
    "    s.append(1)\n",
    "    s.pop()\n",
    "\n",
    "    s2.append(1)\n",
    "    s2.pop()\n",
    "\n"
   ]
  },
  {
   "cell_type": "code",
   "execution_count": null,
   "id": "3a424e4a",
   "metadata": {},
   "outputs": [],
   "source": [
    "from abc import ABC, abstractmethod\n",
    "\n",
    "\n",
    "class BaseStackInterface(ABC):\n",
    "    @abstractmethod\n",
    "    def append(self, value): pass\n",
    "\n",
    "    \n",
    "    @abstractmethod\n",
    "    def pop(self): pass\n",
    "\n",
    "    \n",
    "class BaseList(BaseStackInterface):\n",
    "    \n",
    "    def __init__(self):\n",
    "        self.container = []\n",
    "        \n",
    "    def append(self, value):\n",
    "        self.container.append(value)\n",
    "        \n",
    "    def pop(self):\n",
    "        return self.container.pop()\n",
    "    \n",
    "class Stos:\n",
    "    \n",
    "    def __init__(self, base: BaseStackInterface):\n",
    "        self.stack = base\n",
    "        \n",
    "    def push(self, value):\n",
    "        self.stack.append(value)\n",
    "        \n",
    "    def pop(self):\n",
    "        try:\n",
    "            value = self.stack.pop()\n",
    "        except IndexError:\n",
    "            value = None\n",
    "        return value\n",
    "        \n",
    "bl = BaseList()   \n",
    "s = Stos(bl)\n",
    "s.push(1)\n",
    "s.pop() == 1"
   ]
  },
  {
   "cell_type": "markdown",
   "id": "36f9d937",
   "metadata": {},
   "source": [
    "Zmusilismy sie do implementacji klas spelniajacych interfejs bazowej kolejki. \n",
    "\n",
    "### queue.LifoQueue\n",
    "\n",
    "W przypadki współbieżności\n"
   ]
  },
  {
   "cell_type": "code",
   "execution_count": null,
   "id": "4423a496",
   "metadata": {},
   "outputs": [],
   "source": [
    "from queue import LifoQueue\n",
    "\n",
    "s = LifoQueue()\n",
    "s.put(\"eat\")\n",
    "s.put(\"sleep\")\n",
    "s.put_nowait(\"code\")\n",
    "s\n",
    "\n",
    "    "
   ]
  },
  {
   "cell_type": "code",
   "execution_count": null,
   "id": "103aa17f",
   "metadata": {},
   "outputs": [],
   "source": [
    "# s.get_nowait() # => Empty exception"
   ]
  },
  {
   "cell_type": "markdown",
   "id": "c2dfa716",
   "metadata": {},
   "source": [
    "Przerwa do 15:40"
   ]
  },
  {
   "cell_type": "markdown",
   "id": "a0234e4f",
   "metadata": {},
   "source": [
    "## Kolejki \n",
    "\n",
    "FIFO"
   ]
  },
  {
   "cell_type": "markdown",
   "id": "a4ebc8c0",
   "metadata": {},
   "source": [
    "### Lista \n",
    "\n",
    "Słabo się nadaje do kolejki, ponieważ wstawianie na początek kolejki jest kosztowna operacja dla listy\n",
    "\n",
    "\n",
    "\n"
   ]
  },
  {
   "cell_type": "code",
   "execution_count": null,
   "id": "5d1dd610",
   "metadata": {},
   "outputs": [],
   "source": [
    "q =[]\n",
    "q.append(\"eat\")\n",
    "q.append(\"sleep\")\n",
    "q.append(\"code\")\n",
    "\n",
    "q"
   ]
  },
  {
   "cell_type": "code",
   "execution_count": null,
   "id": "6f8d2d41",
   "metadata": {},
   "outputs": [],
   "source": [
    "x = list(range(10000000))"
   ]
  },
  {
   "cell_type": "code",
   "execution_count": null,
   "id": "e23d1a61",
   "metadata": {},
   "outputs": [],
   "source": [
    "%timeit -n 100000 x.pop()"
   ]
  },
  {
   "cell_type": "code",
   "execution_count": null,
   "id": "5f0b50ca",
   "metadata": {},
   "outputs": [],
   "source": [
    "%timeit x.pop(0)"
   ]
  },
  {
   "cell_type": "markdown",
   "id": "46895a1d",
   "metadata": {},
   "source": [
    "### collections.deque"
   ]
  },
  {
   "cell_type": "code",
   "execution_count": null,
   "id": "b3f0e558",
   "metadata": {},
   "outputs": [],
   "source": [
    "from collections import deque\n",
    "\n",
    "q = deque()\n",
    "q.append(\"eat\")\n",
    "q.append(\"sleep\")\n",
    "q.append(\"code\")\n",
    "\n",
    "q"
   ]
  },
  {
   "cell_type": "code",
   "execution_count": null,
   "id": "46862c33",
   "metadata": {},
   "outputs": [],
   "source": [
    "q.popleft()"
   ]
  },
  {
   "cell_type": "code",
   "execution_count": null,
   "id": "2db4cbe3",
   "metadata": {},
   "outputs": [],
   "source": [
    "x = deque(range(10000000))"
   ]
  },
  {
   "cell_type": "code",
   "execution_count": null,
   "id": "4c629f3e",
   "metadata": {},
   "outputs": [],
   "source": [
    "%timeit -n 100000 x.pop()"
   ]
  },
  {
   "cell_type": "code",
   "execution_count": null,
   "id": "e0b3e309",
   "metadata": {},
   "outputs": [],
   "source": [
    "%timeit -n 100000 x.popleft()"
   ]
  },
  {
   "cell_type": "markdown",
   "id": "24cbb82f",
   "metadata": {},
   "source": [
    "### queue.Queue\n",
    "\n"
   ]
  },
  {
   "cell_type": "code",
   "execution_count": null,
   "id": "891954ac",
   "metadata": {},
   "outputs": [],
   "source": [
    "from queue import Queue\n",
    "\n",
    "x = Queue()\n",
    "y = list((x.put(i) for i in range(10000000)))"
   ]
  },
  {
   "cell_type": "code",
   "execution_count": null,
   "id": "8ea35e9f",
   "metadata": {},
   "outputs": [],
   "source": [
    "x.qsize()"
   ]
  },
  {
   "cell_type": "code",
   "execution_count": null,
   "id": "88750d02",
   "metadata": {},
   "outputs": [],
   "source": [
    "%timeit"
   ]
  },
  {
   "cell_type": "code",
   "execution_count": null,
   "id": "66d1e9f0",
   "metadata": {},
   "outputs": [],
   "source": [
    "def gen():\n",
    "    yield 1\n",
    "    yield 2\n",
    "    yield 3\n",
    "    \n",
    "g = gen()"
   ]
  },
  {
   "cell_type": "code",
   "execution_count": null,
   "id": "6828de9c",
   "metadata": {},
   "outputs": [],
   "source": [
    "import sys\n",
    "sys.getsizeof(g)"
   ]
  },
  {
   "cell_type": "code",
   "execution_count": null,
   "id": "f8688820",
   "metadata": {},
   "outputs": [],
   "source": [
    "lista = list(range(3))"
   ]
  },
  {
   "cell_type": "code",
   "execution_count": null,
   "id": "248b7a9d",
   "metadata": {},
   "outputs": [],
   "source": [
    "sys.getsizeof(lista)"
   ]
  },
  {
   "cell_type": "code",
   "execution_count": null,
   "id": "0bd52358",
   "metadata": {},
   "outputs": [],
   "source": [
    "def evengen():\n",
    "    i = 0\n",
    "    while True:\n",
    "        yield i \n",
    "        i += 2\n",
    "    "
   ]
  },
  {
   "cell_type": "code",
   "execution_count": null,
   "id": "1ba27253",
   "metadata": {},
   "outputs": [],
   "source": [
    "g = evengen()"
   ]
  },
  {
   "cell_type": "code",
   "execution_count": null,
   "id": "5135462e",
   "metadata": {},
   "outputs": [],
   "source": [
    "sys.getsizeof(g)"
   ]
  },
  {
   "cell_type": "code",
   "execution_count": null,
   "id": "d105180b",
   "metadata": {},
   "outputs": [],
   "source": [
    "next(g)"
   ]
  },
  {
   "cell_type": "code",
   "execution_count": null,
   "id": "382a9eb0",
   "metadata": {},
   "outputs": [],
   "source": [
    "%timeit -n 100000 x.get_nowait()"
   ]
  },
  {
   "cell_type": "markdown",
   "id": "9d22a810",
   "metadata": {},
   "source": [
    "## Kolejki priorytetow\n",
    "\n",
    "### lista"
   ]
  },
  {
   "cell_type": "code",
   "execution_count": null,
   "id": "d851b71c",
   "metadata": {},
   "outputs": [],
   "source": [
    "y = []\n",
    "y.append((2, \"code\"))\n",
    "y.append((3, \"sleep\"))\n",
    "y.append((1, \"eat\"))\n",
    "y.sort(reverse=True)\n",
    "y"
   ]
  },
  {
   "cell_type": "code",
   "execution_count": null,
   "id": "c993f21f",
   "metadata": {},
   "outputs": [],
   "source": [
    "while y:\n",
    "    next_item = y.pop()\n",
    "    print(next_item)"
   ]
  },
  {
   "cell_type": "markdown",
   "id": "8794e406",
   "metadata": {},
   "source": [
    "### heapq"
   ]
  },
  {
   "cell_type": "code",
   "execution_count": null,
   "id": "40993a52",
   "metadata": {},
   "outputs": [],
   "source": [
    "import heapq\n",
    "\n",
    "q = []\n",
    "\n",
    "# heapq.heappush(q, (2, \"code\"))\n",
    "# heapq.heappush(q, (3, \"sleep\"))\n",
    "# heapq.heappush(q, (1, \"eat\"))\n",
    "\n",
    "q.append((2, \"code\"))\n",
    "q.append((3, \"sleep\"))\n",
    "q.append((1, \"eat\"))\n",
    "\n",
    "\n",
    "while q:\n",
    "    next_item = heapq.heappop(q)\n",
    "    print(next_item)"
   ]
  },
  {
   "cell_type": "code",
   "execution_count": null,
   "id": "6d0d24f3",
   "metadata": {},
   "outputs": [],
   "source": [
    "dir(heapq)"
   ]
  },
  {
   "cell_type": "code",
   "execution_count": null,
   "id": "101e785a",
   "metadata": {},
   "outputs": [],
   "source": [
    "heapq??"
   ]
  },
  {
   "cell_type": "markdown",
   "id": "2ec849e9",
   "metadata": {},
   "source": [
    "### queue.PriorityQueue\n",
    "\n"
   ]
  },
  {
   "cell_type": "code",
   "execution_count": null,
   "id": "98297fb4",
   "metadata": {},
   "outputs": [],
   "source": [
    "from queue import PriorityQueue\n",
    "q = PriorityQueue()\n",
    "q.put((2, \"code\"))\n",
    "q.put((1, \"eat\"))\n",
    "q.put((3, \"sleep\"))\n",
    "\n",
    "while not q.empty():\n",
    "    next_item = q.get()\n",
    "    print(next_item)"
   ]
  },
  {
   "cell_type": "markdown",
   "id": "b6fc54ca",
   "metadata": {},
   "source": [
    "### \n",
    "\n",
    "Napisz funkcję, która zaakceptuje napis i zwróci słownik lub podobny do słownika obiekt, w którym słowa będą kluczem a wartościami będą wystąpienia słów.\n",
    "\n",
    "Np.:\n",
    "\n",
    "    >>> count_words(\"oh what a day what a lovely day\")\n",
    "    {'oh': 1, 'what': 2, 'a': 2, 'day': 2, 'lovely': 1}\n",
    "    >>> count_words(\"don't stop believing\")\n",
    "    {\"don't\": 1, 'stop': 1, 'believing': 1}\n",
    "\n",
    "#### bonus 1\n",
    "\n",
    "Zadbaj o to, by wielkość liter nie miała znaczenia.\n",
    "\n",
    "#### bonus 2 (zaawansowania - regexp)\n",
    "\n",
    "Ignoruj wszystkie znaki interpunkcyjne."
   ]
  },
  {
   "cell_type": "code",
   "execution_count": null,
   "id": "90e77995",
   "metadata": {},
   "outputs": [],
   "source": [
    "%%writefile count_test.py\n",
    "from __future__ import unicode_literals\n",
    "from contextlib import redirect_stdout\n",
    "from io import StringIO\n",
    "import unittest\n",
    "\n",
    "\n",
    "from count import count_words\n",
    "\n",
    "\n",
    "class CountWordsTests(unittest.TestCase):\n",
    "\n",
    "    \"\"\"Tests for count_words.\"\"\"\n",
    "\n",
    "    def test_zreturn_instead_of_print(self):\n",
    "        with redirect_stdout(StringIO()) as stdout:\n",
    "            actual = count_words(\"oh what a day what a lovely day\")\n",
    "        output = stdout.getvalue().strip()\n",
    "        if actual is None and output:\n",
    "            self.fail(\n",
    "                \"\\n\\nUh oh!\\n\"\n",
    "                \"It looks like you may have printed instead of returning.\\n\"\n",
    "                f\"None was returned but this was printed:\\n{output}\"\n",
    "            )\n",
    "\n",
    "    def test_simple_sentence(self):\n",
    "        actual = count_words(\"oh what a day what a lovely day\")\n",
    "        expected = {'oh': 1, 'what': 2, 'a': 2, 'day': 2, 'lovely': 1}\n",
    "        self.assertEqual(actual, expected)\n",
    "\n",
    "    def test_apostrophe(self):\n",
    "        actual = count_words(\"don't stop believing\")\n",
    "        expected = {\"don't\": 1, 'stop': 1, 'believing': 1}\n",
    "        self.assertEqual(actual, expected)\n",
    "\n",
    "    # To test the Bonus part of this exercise, comment out the following line\n",
    "    @unittest.expectedFailure\n",
    "    def test_capitalization(self):\n",
    "        actual = count_words(\"Oh what a day what a lovely day\")\n",
    "        expected = {'oh': 1, 'what': 2, 'a': 2, 'day': 2, 'lovely': 1}\n",
    "        self.assertEqual(actual, expected)\n",
    "\n",
    "    # To test the Bonus part of this exercise, comment out the following line\n",
    "    @unittest.expectedFailure\n",
    "    def test_symbols(self):\n",
    "        actual = count_words(\"Oh what a day, what a lovely day!\")\n",
    "        expected = {'oh': 1, 'what': 2, 'a': 2, 'day': 2, 'lovely': 1}\n",
    "        self.assertEqual(actual, expected)\n",
    "        actual = count_words(\"¿Te gusta Python?\")\n",
    "        expected = {'te': 1, 'gusta': 1, 'python': 1}\n",
    "        self.assertEqual(actual, expected)\n",
    "\n",
    "\n",
    "class AllowUnexpectedSuccessRunner(unittest.TextTestRunner):\n",
    "    \"\"\"Custom test runner to avoid FAILED message on unexpected successes.\"\"\"\n",
    "    class resultclass(unittest.TextTestResult):\n",
    "        def wasSuccessful(self):\n",
    "            return not (self.failures or self.errors)\n",
    "\n",
    "\n",
    "if __name__ == \"__main__\":\n",
    "    from platform import python_version\n",
    "    import sys\n",
    "    if sys.version_info < (3, 6):\n",
    "        sys.exit(\"Running {}.  Python 3.6 required.\".format(python_version()))\n",
    "    unittest.main(verbosity=2, testRunner=AllowUnexpectedSuccessRunner)\n"
   ]
  },
  {
   "cell_type": "code",
   "execution_count": null,
   "id": "438586b8",
   "metadata": {},
   "outputs": [],
   "source": [
    "pattern = \"\\b\\w+\\b\""
   ]
  },
  {
   "cell_type": "code",
   "execution_count": null,
   "id": "2dbdf98c",
   "metadata": {},
   "outputs": [],
   "source": [
    "import re\n",
    "\n",
    "pattern = re.compile(\"\\\\b\\w+\\\\b\")\n",
    "pattern = re.compile(r\"\\b\\w+\\b\")\n",
    "\n",
    "pattern.findall( \"oh what a day what a lovely day 1233 nice smith's\")\n"
   ]
  },
  {
   "cell_type": "code",
   "execution_count": null,
   "id": "7b8c2704",
   "metadata": {},
   "outputs": [],
   "source": [
    "re.findall(pattern, \"oh what a day what a lovely day 1233 nice smith's\" )"
   ]
  },
  {
   "cell_type": "code",
   "execution_count": null,
   "id": "87aece31",
   "metadata": {},
   "outputs": [],
   "source": [
    "%%writefile dane.txt\n",
    "\n",
    "Lorem ipsum 82-621 dolor sit user-88@email.com amet, consectetur adipiscing elit, sed do eiusmod user-6@email.com tempor user-93@email.edu.pl incididunt ut labore et dolore user-97@email.gov.uk magna aliqua. Ut enim ad minim veniam, quis nostrud user-54@email.gov.uk exercitation 41-764 ullamco 17-704 laboris user-28@email.gov.uk nisi ut aliquip ex ea commodo consequat. Duis aute irure user-76@email.gov.uk dolor in reprehenderit in voluptate velit esse cillum user-52@email.com dolore eu fugiat nulla pariatur. Excepteur sint 18 Feb 2009 occaecat cupidatat non proident, sunt 32-223 in culpa 17-106 qui officia deserunt mollit 66-292 anim id est laborum.\n",
    "Lorem ipsum dolor user-62@email.gov.uk sit amet, consectetur adipiscing elit, 12-403 sed do eiusmod tempor incididunt ut labore et 35-102 dolore 55-447 magna aliqua. Ut enim ad minim veniam, quis nostrud exercitation ullamco laboris nisi ut aliquip ex ea commodo consequat. Duis 84-557 aute irure user-63@email.gov.uk dolor in reprehenderit in 27-892 voluptate velit esse cillum dolore eu fugiat nulla pariatur. Excepteur sint occaecat cupidatat non proident, sunt in culpa qui officia deserunt mollit anim id est laborum.\n",
    "Lorem ipsum dolor sit amet, consectetur adipiscing elit, sed user-2@email.edu.pl do eiusmod user-28@email.pl tempor incididunt ut labore et dolore 20 Apr 2006 magna aliqua. Ut enim user-51@email.pl ad minim 22 Dec 1992 veniam, quis user-58@email.pl nostrud exercitation 20-681 ullamco laboris nisi ut aliquip 11 Dec 2003 ex ea commodo consequat. Duis aute 36-855 irure dolor in reprehenderit 87-892 in voluptate user-56@email.pl velit 19 Jan 2001 esse cillum dolore 25 Jul 2009 eu fugiat nulla pariatur. Excepteur sint 48-216 occaecat cupidatat 05 Apr 1990 non proident, sunt in culpa qui officia 55-640 deserunt mollit anim id est laborum.\n",
    "Lorem ipsum 24 Jan 1994 dolor sit user-49@email.pl amet, consectetur adipiscing elit, sed do 16-427 eiusmod user-79@email.pl tempor incididunt ut labore et dolore magna aliqua. Ut enim ad minim veniam, quis nostrud exercitation ullamco laboris nisi ut aliquip 34-147 ex ea user-30@email.pl commodo 24 Dec 2005 consequat. Duis aute irure dolor in reprehenderit in voluptate velit esse cillum user-31@email.com dolore eu fugiat user-7@email.edu.pl nulla pariatur. Excepteur sint occaecat cupidatat non proident, sunt in culpa qui user-55@email.pl officia user-36@email.com deserunt user-39@email.com mollit anim id est user-37@email.pl laborum.\n",
    "Lorem ipsum 79-617 dolor 57-807 sit user-13@email.pl amet, consectetur adipiscing elit, 25 Oct 1995 sed do eiusmod 60-468 tempor incididunt ut labore et dolore magna aliqua. Ut enim ad 26 Aug 1996 minim veniam, quis nostrud exercitation ullamco laboris nisi 77-839 ut aliquip ex ea commodo consequat. Duis 29-881 aute irure dolor in reprehenderit in voluptate velit esse cillum dolore eu fugiat user-52@email.com nulla pariatur. Excepteur sint occaecat cupidatat non user-58@email.pl proident, sunt in culpa qui 21 Jan 1992 officia deserunt mollit anim id est laborum.\n",
    "Lorem ipsum dolor 16-974 sit amet, consectetur adipiscing 19 Oct 1992 elit, sed do eiusmod tempor incididunt ut labore et dolore magna aliqua. Ut enim ad user-31@email.pl minim 21 Dec 2007 veniam, 73-331 quis nostrud exercitation 02 Mar 1995 ullamco laboris 01 Nov 1993 nisi ut aliquip ex ea 18 Nov 1993 commodo user-25@email.gov.uk consequat. Duis aute 12 Aug 1996 irure dolor in reprehenderit in voluptate 24-870 velit 01 Sep 2007 esse user-79@email.edu.pl cillum 71-568 dolore eu fugiat nulla pariatur. Excepteur sint occaecat cupidatat non 85-308 proident, sunt in culpa user-35@email.pl qui user-75@email.com officia deserunt mollit anim user-24@email.edu.pl id est laborum.\n",
    "37-719 Lorem ipsum dolor sit amet, consectetur adipiscing elit, sed do eiusmod tempor incididunt user-54@email.pl ut labore et dolore 39-165 magna aliqua. Ut enim 18-775 ad minim veniam, quis nostrud exercitation ullamco laboris nisi ut aliquip ex 15 Jun 1990 ea commodo consequat. Duis aute irure dolor 79-793 in 21-411 reprehenderit in 16 Oct 2003 voluptate velit esse user-8@email.edu.pl cillum dolore eu 16 Jun 1996 fugiat nulla pariatur. 68-849 Excepteur sint occaecat cupidatat non proident, sunt in culpa qui officia deserunt mollit anim 02 May 1993 id est laborum.\n",
    "Lorem ipsum dolor sit amet, consectetur adipiscing elit, 29 Jun 2005 sed do eiusmod tempor incididunt ut labore et dolore magna aliqua. Ut enim ad minim 54-200 veniam, quis nostrud exercitation ullamco laboris nisi ut user-71@email.gov.uk aliquip ex ea commodo consequat. Duis aute irure dolor in reprehenderit in voluptate velit esse cillum 19-591 dolore eu user-55@email.edu.pl fugiat nulla pariatur. Excepteur user-3@email.com sint occaecat cupidatat non proident, sunt in culpa qui officia deserunt mollit anim id est laborum.\n",
    "Lorem ipsum dolor sit amet, consectetur adipiscing user-1@email.gov.uk elit, sed do eiusmod tempor incididunt ut labore et 12 Mar 1993 dolore magna aliqua. Ut enim ad 73-327 minim veniam, quis nostrud exercitation ullamco 56-878 laboris nisi 69-185 ut aliquip ex ea user-48@email.gov.uk commodo consequat. Duis aute irure dolor in user-55@email.com reprehenderit in voluptate velit esse cillum dolore eu fugiat nulla pariatur. Excepteur sint occaecat cupidatat non proident, user-45@email.gov.uk sunt in culpa qui officia deserunt mollit anim id est laborum.\n",
    "23-685 Lorem ipsum dolor user-30@email.gov.uk sit amet, consectetur adipiscing 17 Jun 1990 elit, sed do eiusmod tempor incididunt ut labore user-41@email.edu.pl et dolore magna aliqua. Ut enim 46-482 ad 71-121 minim veniam, quis nostrud exercitation ullamco 02 Sep 1999 laboris user-70@email.gov.uk nisi ut 24 Nov 1998 aliquip ex ea commodo consequat. Duis aute irure dolor in reprehenderit in voluptate velit esse cillum dolore 51-887 eu fugiat nulla pariatur. user-73@email.com Excepteur sint occaecat 16 Oct 1991 cupidatat 84-557 non proident, sunt user-70@email.gov.uk in culpa qui user-63@email.edu.pl officia deserunt mollit anim id est laborum.\n"
   ]
  },
  {
   "cell_type": "code",
   "execution_count": null,
   "id": "13f577ca",
   "metadata": {},
   "outputs": [],
   "source": [
    "import re\n",
    "\n",
    "# https://docs.python.org/3/library/re.html"
   ]
  },
  {
   "cell_type": "code",
   "execution_count": null,
   "id": "0d94f651",
   "metadata": {},
   "outputs": [],
   "source": [
    "imiona = \"Adam Ola Andrzej Anastazja Grzegorz Cyprian\""
   ]
  },
  {
   "cell_type": "code",
   "execution_count": null,
   "id": "35123615",
   "metadata": {},
   "outputs": [],
   "source": [
    "name_a_pattern = re.compile(r\"A\\w+\")  # \\d\n",
    "\n",
    "name_a_pattern.findall(imiona)"
   ]
  },
  {
   "cell_type": "code",
   "execution_count": null,
   "id": "c23d5ae8",
   "metadata": {},
   "outputs": [],
   "source": [
    "zipcode_pattern = re.compile(r\"\\d{2}-\\d{3}\")  # \\d\\d-\\d\\d\\d\n",
    "email_pattern = re.compile(r\"[\\w.-]+@[\\w.-]+\")\n",
    "date_pattern = re.compile(r\"\\d{2} \\w{3} \\d{4}\")\n",
    "\n",
    "zipcodes = []\n",
    "emails = []\n",
    "dates = []\n",
    "\n",
    "with open(\"dane.txt\") as f:\n",
    "    for line in f:\n",
    "        zipcodes += zipcode_pattern.findall(line)\n",
    "        emails += email_pattern.findall(line)\n",
    "        dates += date_pattern.findall(line)\n",
    "        \n",
    "print(zipcodes)\n",
    "print(emails)\n",
    "print(dates)"
   ]
  },
  {
   "cell_type": "markdown",
   "id": "94e0d898",
   "metadata": {},
   "source": [
    "### Zadanie - stos:\n",
    "\n",
    "Napisz funkcję w Pythonie, która sprawdza, czy nawiasy w ciągu są zrównoważone, czy nie. Możliwe nawiasy to \"{}\" ,\" ()\" lub \"[]\". Użyj klasy Stack (metody push, pop, size) na bazie collections.dequeue\n",
    "\n",
    "```python\n",
    "    assert is_balanced(\"({a+b})\") is True\n",
    "    assert is_balanced(\"))((a+b}{\") is False\n",
    "    assert is_balanced(\"((a+b))\") is True\n",
    "    assert is_balanced(\"))\") os False\n",
    "    assert is_balanced(\"[a+b]*(x+2y)*{gg+kk}\") is True\n",
    "```"
   ]
  },
  {
   "cell_type": "code",
   "execution_count": null,
   "id": "4855188b",
   "metadata": {},
   "outputs": [],
   "source": [
    "from collections import deque\n",
    "\n",
    "class Stack:\n",
    "    def __init__(self):\n",
    "        self.container = deque()\n",
    "        \n",
    "    def push(self, value):\n",
    "        self.container.append(value)\n",
    "        \n",
    "    def pop(self): \n",
    "        return self.container.pop()\n",
    "    \n",
    "    def size(self):\n",
    "        return len(self.container)\n",
    "    \n",
    "    def is_empty(self):\n",
    "        return self.size() == 0\n",
    "\n",
    "def is_match(ch1, ch2):\n",
    "    match_dict = {\n",
    "        \")\": \"(\",\n",
    "        \"]\": \"[\",\n",
    "        \"}\": \"{\"\n",
    "    }\n",
    "    \n",
    "    return match_dict[ch1] == ch2 \n",
    "\n",
    "def is_balanced(s):\n",
    "    stack = Stack()\n",
    "    \n",
    "    for ch in s:\n",
    "        if ch in \"({[\":\n",
    "            stack.push(ch)\n",
    "        elif ch in \")}]\":\n",
    "            if stack.is_empty(): \n",
    "                return False\n",
    "            else:\n",
    "                return is_match(ch, stack.pop())\n",
    "            \n",
    "\n",
    "assert is_balanced(\"({a+b})\") is True\n",
    "assert is_balanced(\"))((a+b}{\") is False\n",
    "assert is_balanced(\"((a+b))\") is True\n",
    "assert is_balanced(\"))\") is False\n",
    "assert is_balanced(\"[a+b]*(x+2y)*{gg+kk}\") is True"
   ]
  },
  {
   "cell_type": "markdown",
   "id": "5f6dea13",
   "metadata": {},
   "source": [
    "## praca z plikami"
   ]
  },
  {
   "cell_type": "code",
   "execution_count": null,
   "id": "f6edb1a8",
   "metadata": {},
   "outputs": [],
   "source": [
    "try:\n",
    "    f = open(\"dane.txt\")\n",
    "    print(f)\n",
    "    print(dir(f))\n",
    "except Exception:\n",
    "    pass\n",
    "finally:\n",
    "    f.close()"
   ]
  },
  {
   "cell_type": "code",
   "execution_count": null,
   "id": "696b3544",
   "metadata": {},
   "outputs": [],
   "source": [
    "with open(\"dane.txt\") as f:\n",
    "    # w środku\n",
    "    print(f)\n",
    "# poza - tu jest automatycznie zamykany uchwyt do pliku\n",
    "\n"
   ]
  },
  {
   "cell_type": "code",
   "execution_count": null,
   "id": "795accd0",
   "metadata": {},
   "outputs": [],
   "source": [
    "class File:\n",
    "    def __init__(self, file_name, method):\n",
    "        self.file_obj = open(file_name, method)\n",
    "    def __enter__(self):\n",
    "        return self.file_obj\n",
    "    def __exit__(self, type, value, traceback):\n",
    "        print(\"Wywołuję exit\")\n",
    "        self.file_obj.close()\n",
    "        \n",
    "with File(\"dane.txt\", \"r\") as f: # __init__   __enter__\n",
    "    print(f.closed)\n",
    "    print(f )\n",
    "#__exit__"
   ]
  },
  {
   "cell_type": "code",
   "execution_count": null,
   "id": "1cea3bae",
   "metadata": {},
   "outputs": [],
   "source": [
    "f.closed"
   ]
  },
  {
   "cell_type": "markdown",
   "id": "c1dba464",
   "metadata": {},
   "source": [
    "przerewa do 10:42"
   ]
  },
  {
   "cell_type": "code",
   "execution_count": null,
   "id": "f87fdeb9",
   "metadata": {},
   "outputs": [],
   "source": [
    "%%writefile logs.txt\n",
    "\n",
    "user-9;LOGIN;102\n",
    "user-3;LOGIN;111\n",
    "user-1;LOGIN;209\n",
    "user-2;LOGIN;231\n",
    "user-1;LOGOUT;278\n",
    "user-2;LOGOUT;333\n",
    "user-3;LOGOUT;364\n",
    "user-2;LOGIN;471\n",
    "user-7;LOGIN;588\n",
    "user-6;LOGIN;674\n",
    "user-5;LOGIN;726\n",
    "cos tam\n",
    "user-10;LOGIN;803\n",
    "user-8;LOGIN;824\n",
    "user-5;LOGOUT;929\n",
    "user-5;LOGIN;1037\n",
    "user-4;LOGIN;1148\n",
    "user-3;LOGIN;1225\n",
    "user-2;LOGOUT;1238\n",
    "user-3;LOGOUT;1314\n",
    "user-9;LOGOUT;1400\n",
    "user-1;LOGIN;1520\n",
    "user-8;LOGOUT;1566\n",
    "user-4;LOGOUT;1580\n",
    "user-6;LOGOUT;1584\n",
    "system nie dziala\n",
    "user-10;LOGOUT;1591\n",
    "user-5;LOGOUT;1603\n",
    "user-4;LOGIN;1705\n",
    "user-3;LOGIN;1707\n",
    "user-7;LOGOUT;1806\n",
    "user-10;LOGIN;1908\n",
    "user-1;LOGOUT;1928\n",
    "user-10;LOGOUT;2012\n",
    "user-5;LOGIN;2071\n",
    "user-6;LOGIN;2187\n",
    "user-7;LOGIN;2206\n",
    "user-1;LOGIN;2272\n",
    "xxx\n",
    "user-8;LOGIN;2342\n",
    "user-1;LOGOUT;2459\n",
    "user-9;LOGIN;2463\n",
    "user-5;LOGOUT;2468\n",
    "user-7;LOGOUT;2488\n",
    "user-5;LOGIN;2498\n",
    "user-9;LOGOUT;2530\n",
    "user-1;LOGIN;2553\n",
    "user-3;LOGOUT;2578\n",
    "user-8;LOGOUT;2580\n",
    "user-4;LOGOUT;2659\n",
    "user-1;LOGOUT;2753\n",
    "user-10;LOGIN;2859\n",
    "user-5;LOGOUT;2894\n",
    "user-2;LOGIN;2941\n",
    "user-2;LOGOUT;3020\n",
    "user-4;LOGIN;3105\n",
    "user-2;LOGIN;3132\n",
    "user-9;LOGIN;3206\n",
    "user-1;LOGIN;3235\n",
    "user-6;LOGOUT;3250\n",
    "user-9;LOGOUT;3286\n",
    "user-4;LOGOUT;3317\n",
    "user-7;LOGIN;3350\n",
    "user-6;LOGIN;3465\n",
    "user-7;LOGOUT;3476\n",
    "user-6;LOGOUT;3581\n",
    "user-10;LOGOUT;3611\n",
    "user-8;LOGIN;3727\n",
    "user-1;LOGOUT;3754\n",
    "user-5;LOGIN;3862\n",
    "user-10;LOGIN;3926\n",
    "user-7;LOGIN;3980\n",
    "user-10;LOGOUT;4007\n",
    "user-5;LOGOUT;4101\n",
    "user-8;LOGOUT;4180\n",
    "user-1;LOGIN;4280\n",
    "user-8;LOGIN;4332\n",
    "user-4;LOGIN;4448\n",
    "user-2;LOGOUT;4559\n",
    "user-6;LOGIN;4563\n",
    "user-6;LOGOUT;4651\n",
    "user-8;LOGOUT;4719\n",
    "user-1;LOGOUT;4800\n",
    "user-9;LOGIN;4832\n",
    "user-6;LOGIN;4895\n",
    "user-6;LOGOUT;4957\n",
    "user-6;LOGIN;4962\n",
    "user-1;LOGIN;4991\n",
    "user-10;LOGIN;5028\n",
    "user-2;LOGIN;5102\n",
    "user-2;LOGOUT;5143\n",
    "user-8;LOGIN;5178\n",
    "user-1;LOGOUT;5291\n",
    "user-2;LOGIN;5297\n",
    "user-2;LOGOUT;5370\n",
    "user-9;LOGOUT;5378\n",
    "user-6;LOGOUT;5392\n",
    "\n",
    "user-6;LOGIN;5418\n",
    "user-9;LOGIN;5453\n",
    "user-3;LOGIN;5505\n",
    "user-2;LOGIN;5600\n",
    "user-2;LOGOUT;5651\n",
    "user-10;LOGOUT;5753\n",
    "user-9;LOGOUT;5846\n",
    "user-3;LOGOUT;5877\n",
    "user-7;LOGOUT;5925\n",
    "user-6;LOGOUT;6012\n",
    "user-8;LOGOUT;6063\n",
    "user-4;LOGOUT;6144\n"
   ]
  },
  {
   "cell_type": "code",
   "execution_count": null,
   "id": "050cb9d0",
   "metadata": {},
   "outputs": [],
   "source": [
    "open?\n"
   ]
  },
  {
   "cell_type": "code",
   "execution_count": null,
   "id": "032ad31e",
   "metadata": {},
   "outputs": [],
   "source": [
    "import sys\n",
    "sys.argv"
   ]
  },
  {
   "cell_type": "markdown",
   "id": "ff37fbd7",
   "metadata": {},
   "source": [
    "#### Zadanie - praca z plikami\n",
    "\n",
    "Napisz program wczytujacy plik z logami aktywnosci uzytkowników\n",
    "w systemie. Na podstawie wczytanych danych zapisz w pliku wyjściowym informacje o\n",
    "sumarycznym czasie przebywania kazdego uzytkownika w systemie.\n",
    "Wybierz odpowiednie linie z pliku korzystając np z wyrażen regularnych (lub jakiś inny sposób)\n",
    "\n",
    "\n",
    "Przykład użycia:\n",
    "\n",
    "$ python read_logs.py logs.txt raport.txt\n",
    "\n",
    "Czas przebywania w systemie:\n",
    "- user-1: 92 s\n",
    "- user-2: 51 s\n",
    "- user-3: 20 s"
   ]
  },
  {
   "cell_type": "code",
   "execution_count": null,
   "id": "fd364b6f",
   "metadata": {},
   "outputs": [],
   "source": [
    "%%writefile read_logs.py\n",
    "\n",
    "import re\n",
    "from collections import defaultdict\n",
    "import argparse\n",
    "\n",
    "parser = argparse.ArgumentParser(description=\"User log raport\")\n",
    "parser.add_argument(\"-f\", \"--file_in\", type=str)\n",
    "parser.add_argument(\"-o\", \"--output\", type=str)\n",
    "args = parser.parse_args()\n",
    "\n",
    "in_file = args.file_in\n",
    "out_file = args.output\n",
    "\n",
    "print(f\"in: {in_file}, out: {out_file}\")\n",
    "\n",
    "user_log_pattern = re.compile(\"\\w+-\\d+;(LOGIN|LOGOUT);\\d+\")\n",
    "user_last_login = {}\n",
    "user_total_time = defaultdict(int)\n",
    "\n",
    "\n",
    "def parse_line(line):\n",
    "    if user_log_pattern.match(line):\n",
    "        user, action, t = line.split(\";\")\n",
    "        t = int(t)\n",
    "        if action == \"LOGIN\":\n",
    "            user_last_login[user] = t\n",
    "        elif action == \"LOGOUT\":\n",
    "            user_total_time[user] += t - user_last_login[user]\n",
    "\n",
    "def read_logs():\n",
    "    with open(in_file) as logs:\n",
    "        for line in logs:\n",
    "            parse_line(line)\n",
    "                \n",
    "def create_report():\n",
    "    with open(out_file, 'w') as report:\n",
    "        report.write(\"Czas przebywania w systemie:\\n\\n\")\n",
    "        for u, t in sorted(user_total_time.items(), key=lambda x: x[1], reverse=True):\n",
    "            report.write(f\"{u:12}: {t} s\\n\")\n",
    "                \n",
    "\n",
    "def main():\n",
    "    read_logs()\n",
    "    create_report()\n",
    "    \n",
    "    \n",
    "if __name__ == \"__main__\":\n",
    "    main()\n",
    "\n",
    "    "
   ]
  },
  {
   "cell_type": "code",
   "execution_count": null,
   "id": "77223894",
   "metadata": {},
   "outputs": [],
   "source": [
    "!python3 read_logs.py -f logs.txt -o raport.txt"
   ]
  },
  {
   "cell_type": "code",
   "execution_count": null,
   "id": "907c3804",
   "metadata": {},
   "outputs": [],
   "source": [
    "!python3 read_logs.py -h"
   ]
  },
  {
   "cell_type": "code",
   "execution_count": null,
   "id": "dc80a06d",
   "metadata": {},
   "outputs": [],
   "source": [
    "x = 1\n",
    "x"
   ]
  },
  {
   "cell_type": "code",
   "execution_count": null,
   "id": "5ef134b4",
   "metadata": {},
   "outputs": [],
   "source": []
  },
  {
   "cell_type": "code",
   "execution_count": 5,
   "id": "a32428de",
   "metadata": {},
   "outputs": [],
   "source": [
    "from dataclasses import dataclass\n",
    "\n",
    "@dataclass\n",
    "class Vector:\n",
    "    x: int\n",
    "    y: int\n",
    "    z: int\n",
    "    \n",
    "    def to_dict(self):\n",
    "        return {\"x\": self.x, \"y\": self.y, \"z\": self.z}\n"
   ]
  },
  {
   "cell_type": "code",
   "execution_count": 6,
   "id": "e2fecc53",
   "metadata": {},
   "outputs": [],
   "source": [
    "v1 = Vector(1, 2, 3)\n",
    "\n",
    "v2 = Vector(4, 5, 6)"
   ]
  },
  {
   "cell_type": "code",
   "execution_count": 7,
   "id": "321203bb",
   "metadata": {},
   "outputs": [
    {
     "data": {
      "text/plain": [
       "{'x': 1, 'y': 2, 'z': 3}"
      ]
     },
     "execution_count": 7,
     "metadata": {},
     "output_type": "execute_result"
    }
   ],
   "source": [
    "v1.to_dict()"
   ]
  },
  {
   "cell_type": "code",
   "execution_count": 10,
   "id": "fecc1da7",
   "metadata": {},
   "outputs": [],
   "source": [
    "vectors = [v1, v2]\n",
    "\n",
    "with open(\"wektory.txt\", \"w\") as f:\n",
    "    f.write(\"x,y,z\\n\")\n",
    "    for v in vectors:\n",
    "        f.write(f\"{v.x},{v.y},{v.z}\\n\")\n"
   ]
  },
  {
   "cell_type": "code",
   "execution_count": 11,
   "id": "02135604",
   "metadata": {},
   "outputs": [
    {
     "name": "stdout",
     "output_type": "stream",
     "text": [
      "x,y,z\r\n",
      "1,2,3\r\n",
      "4,5,6\r\n"
     ]
    }
   ],
   "source": [
    "!cat wektory.txt"
   ]
  },
  {
   "cell_type": "code",
   "execution_count": 12,
   "id": "824a2635",
   "metadata": {},
   "outputs": [
    {
     "name": "stdout",
     "output_type": "stream",
     "text": [
      "['x', 'y', 'z']\n",
      "['1', '2', '3']\n",
      "['4', '5', '6']\n"
     ]
    }
   ],
   "source": [
    "import csv\n",
    "\n",
    "with open(\"wektory.txt\") as w:\n",
    "    reader = csv.reader(w)\n",
    "    for el in reader:\n",
    "        print(el)\n"
   ]
  },
  {
   "cell_type": "code",
   "execution_count": 14,
   "id": "9b465027",
   "metadata": {},
   "outputs": [
    {
     "name": "stdout",
     "output_type": "stream",
     "text": [
      "Vector(x='1', y='2', z='3')\n",
      "Vector(x='4', y='5', z='6')\n"
     ]
    }
   ],
   "source": [
    "with open(\"wektory.txt\") as w:\n",
    "    reader = csv.DictReader(w)\n",
    "    for el in reader:\n",
    "        print(Vector(**el))\n"
   ]
  },
  {
   "cell_type": "code",
   "execution_count": null,
   "id": "893de6a7",
   "metadata": {},
   "outputs": [],
   "source": [
    "import pickle\n",
    "\n",
    "\n",
    "dane = Vector(1, 2, 3)\n",
    "\n",
    "with open(\"dane.pickle\", \"wb\") as f:\n",
    "    pickle.dump(dane, f)\n"
   ]
  },
  {
   "cell_type": "code",
   "execution_count": 3,
   "id": "29e11083",
   "metadata": {},
   "outputs": [
    {
     "data": {
      "text/plain": [
       "Vector(x=1, y=2, z=3)"
      ]
     },
     "execution_count": 3,
     "metadata": {},
     "output_type": "execute_result"
    }
   ],
   "source": [
    "import pickle\n",
    "from dataclasses import dataclass\n",
    "@dataclass\n",
    "class Vector:\n",
    "    x: int\n",
    "    y: int\n",
    "    z: int\n",
    "        \n",
    "    \n",
    "\n",
    "with open(\"dane.pickle\", \"rb\") as f:\n",
    "    dane2 = pickle.load(f)\n",
    "dane2 "
   ]
  },
  {
   "cell_type": "code",
   "execution_count": 15,
   "id": "1a1c9ec0",
   "metadata": {},
   "outputs": [
    {
     "data": {
      "text/plain": [
       "{'x': 1, 'childs': [{'y': 2}, {'y': 3}]}"
      ]
     },
     "execution_count": 15,
     "metadata": {},
     "output_type": "execute_result"
    }
   ],
   "source": [
    "{'x': 1, 'childs': [{\"y\": 2}, {\"y\": 3}]}"
   ]
  },
  {
   "cell_type": "code",
   "execution_count": 17,
   "id": "4efd7f9c",
   "metadata": {},
   "outputs": [
    {
     "name": "stdout",
     "output_type": "stream",
     "text": [
      "{'x': 1, 'y': 2, 'z': 3}\n",
      "{'x': 4, 'y': 5, 'z': 6}\n"
     ]
    }
   ],
   "source": [
    "for v in vectors:\n",
    "    print(v.to_dict())"
   ]
  },
  {
   "cell_type": "markdown",
   "id": "24c5da2f",
   "metadata": {},
   "source": [
    "## JSON\n",
    "\n",
    "JavaScript Object Notation"
   ]
  },
  {
   "cell_type": "code",
   "execution_count": 19,
   "id": "8b41b835",
   "metadata": {},
   "outputs": [
    {
     "data": {
      "text/plain": [
       "'[{\"x\": 1, \"y\": 2, \"z\": 3}, {\"x\": 4, \"y\": 5, \"z\": 6}]'"
      ]
     },
     "execution_count": 19,
     "metadata": {},
     "output_type": "execute_result"
    }
   ],
   "source": [
    "import json\n",
    "\n",
    "json.dumps([x.to_dict() for x in vectors])"
   ]
  },
  {
   "cell_type": "code",
   "execution_count": 20,
   "id": "980317b1",
   "metadata": {},
   "outputs": [
    {
     "data": {
      "text/plain": [
       "[{'x': 1, 'y': 2, 'z': 3}, {'x': 4, 'y': 5, 'z': 6}]"
      ]
     },
     "execution_count": 20,
     "metadata": {},
     "output_type": "execute_result"
    }
   ],
   "source": [
    "json.loads('[{\"x\": 1, \"y\": 2, \"z\": 3}, {\"x\": 4, \"y\": 5, \"z\": 6}]')"
   ]
  },
  {
   "cell_type": "code",
   "execution_count": 21,
   "id": "f93bf60e",
   "metadata": {},
   "outputs": [],
   "source": [
    "with open(\"wektory.json\", \"w\") as f:\n",
    "    json.dump([x.to_dict() for x in vectors], f)"
   ]
  },
  {
   "cell_type": "code",
   "execution_count": 22,
   "id": "732ccc13",
   "metadata": {},
   "outputs": [
    {
     "name": "stdout",
     "output_type": "stream",
     "text": [
      "[{\"x\": 1, \"y\": 2, \"z\": 3}, {\"x\": 4, \"y\": 5, \"z\": 6}]"
     ]
    }
   ],
   "source": [
    "!cat wektory.json"
   ]
  },
  {
   "cell_type": "code",
   "execution_count": 24,
   "id": "0185f8fd",
   "metadata": {},
   "outputs": [],
   "source": [
    "with open(\"text.json\", \"w\") as f:\n",
    "    json.dump([\"zażółć geślą jaźń\"], f)"
   ]
  },
  {
   "cell_type": "code",
   "execution_count": 25,
   "id": "a5a06f4e",
   "metadata": {},
   "outputs": [
    {
     "name": "stdout",
     "output_type": "stream",
     "text": [
      "[\"za\\u017c\\u00f3\\u0142\\u0107 ge\\u015bl\\u0105 ja\\u017a\\u0144\"]"
     ]
    }
   ],
   "source": [
    "!cat text.json"
   ]
  },
  {
   "cell_type": "code",
   "execution_count": 26,
   "id": "140c7f08",
   "metadata": {},
   "outputs": [
    {
     "data": {
      "text/plain": [
       "['zażółć geślą jaźń']"
      ]
     },
     "execution_count": 26,
     "metadata": {},
     "output_type": "execute_result"
    }
   ],
   "source": [
    "with open(\"text.json\") as f:\n",
    "    x = json.load(f)\n",
    "x"
   ]
  },
  {
   "cell_type": "markdown",
   "id": "436a8445",
   "metadata": {},
   "source": [
    "### JSON - zadanie\n",
    "\n",
    "Napisz program obsługujacy baze danych pracowników. W bazie\n",
    "danych przechowuj imie, nazwisko, email, rok urodzenia, pensje.\n",
    "Skorzystaj z modułu json.\n",
    "\n",
    "Przykład uzycia:\n",
    "\n",
    "    $ python employees.py\n",
    "    Co chcesz zrobic? [d - dodaj, w - wypisz] d\n",
    "    Imie: Jan\n",
    "    Nazwisko: Nowak\n",
    "    Rok urodzenia: 1980\n",
    "    Pensja: 5000.0\n",
    "    $ python employees.py\n",
    "    Co chcesz zrobic? [d - dodaj, w - wypisz] w\n",
    "    Pracownicy:\n",
    "    - [1] Jan Nowak - rok: 1980, pensja: 5000.00 PLN"
   ]
  },
  {
   "cell_type": "code",
   "execution_count": 27,
   "id": "32550cb6",
   "metadata": {},
   "outputs": [],
   "source": [
    "from dataclasses import dataclass\n",
    "\n",
    "@dataclass\n",
    "class Employee:\n",
    "    name: str\n",
    "    last_name: str\n",
    "    b_year: int\n",
    "    salary: float\n",
    "\n",
    "    def to_dict(self):\n",
    "        return self.__dict__\n",
    "    \n",
    "e = Employee(\"AA\", \"BB\", 123, 123.0)"
   ]
  },
  {
   "cell_type": "code",
   "execution_count": 30,
   "id": "d88fb4f4",
   "metadata": {},
   "outputs": [
    {
     "data": {
      "text/plain": [
       "{'name': 'AA', 'last_name': 'BB', 'b_year': 123, 'salary': 123.0}"
      ]
     },
     "execution_count": 30,
     "metadata": {},
     "output_type": "execute_result"
    }
   ],
   "source": [
    "e.__dict__"
   ]
  },
  {
   "cell_type": "code",
   "execution_count": 29,
   "id": "ce4a5896",
   "metadata": {},
   "outputs": [
    {
     "data": {
      "text/plain": [
       "{'name': 'AA', 'last_name': 'BB', 'b_year': 123, 'salary': 123.0}"
      ]
     },
     "execution_count": 29,
     "metadata": {},
     "output_type": "execute_result"
    }
   ],
   "source": [
    "e.to_dict()"
   ]
  },
  {
   "cell_type": "code",
   "execution_count": 32,
   "id": "cd979b06",
   "metadata": {},
   "outputs": [],
   "source": [
    "with open(\"textcp1250.json\", \"w\", encoding=\"CP1250\") as f:\n",
    "    json.dump([\"Zażółć gęślą jaźń\"], f)"
   ]
  },
  {
   "cell_type": "code",
   "execution_count": 33,
   "id": "c1290459",
   "metadata": {},
   "outputs": [],
   "source": [
    "with open(\"textutf.json\", \"w\") as f:\n",
    "    json.dump([\"Zażółć gęślą jaźń\"], f)"
   ]
  },
  {
   "cell_type": "code",
   "execution_count": null,
   "id": "85e3bb6f",
   "metadata": {},
   "outputs": [],
   "source": []
  }
 ],
 "metadata": {
  "kernelspec": {
   "display_name": "Python 3 (ipykernel)",
   "language": "python",
   "name": "python3"
  },
  "language_info": {
   "codemirror_mode": {
    "name": "ipython",
    "version": 3
   },
   "file_extension": ".py",
   "mimetype": "text/x-python",
   "name": "python",
   "nbconvert_exporter": "python",
   "pygments_lexer": "ipython3",
   "version": "3.10.4"
  },
  "toc": {
   "base_numbering": 1,
   "nav_menu": {},
   "number_sections": true,
   "sideBar": true,
   "skip_h1_title": false,
   "title_cell": "Table of Contents",
   "title_sidebar": "Contents",
   "toc_cell": false,
   "toc_position": {},
   "toc_section_display": true,
   "toc_window_display": true
  }
 },
 "nbformat": 4,
 "nbformat_minor": 5
}
