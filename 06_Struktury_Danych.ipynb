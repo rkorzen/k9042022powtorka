{
 "cells": [
  {
   "cell_type": "markdown",
   "id": "6056ef6d",
   "metadata": {},
   "source": [
    "# Struktury danych\n",
    "\n",
    "\n",
    "\n",
    "\n",
    "## Typy tablicowe\n",
    "\n",
    "| index  | 0 | 1 | 2 | 3 | \n",
    "|--------|---|---|---|---|\n",
    "| obiekt | A | B | C | D | \n",
    "\n",
    "\n",
    "### list\n",
    "\n",
    "dynamiczna tablica, pozwalająca na przechowywanie różnych typów\n",
    "\n",
    "|index  | 0   | 1   | 2   | 3   |\n",
    "|-------|-----|-----|-----|-----|\n",
    "|adres  | 0x1 | 0x4 | 0x8 | 0x9 |\n",
    "\n",
    "\n",
    "|adres  | 0x1 | 0x4 | 0x8 | 0x9 |\n",
    "|-------|-----|-----|-----|-----|\n",
    "|obiekt | A   | B   | C   | D   |"
   ]
  },
  {
   "cell_type": "code",
   "execution_count": 1,
   "id": "50526fdd",
   "metadata": {},
   "outputs": [
    {
     "data": {
      "text/plain": [
       "4"
      ]
     },
     "execution_count": 1,
     "metadata": {},
     "output_type": "execute_result"
    }
   ],
   "source": [
    "arr = [\"A\", \"B\", \"C\", \"D\"]\n",
    "arr[0]\n",
    "arr[0] = 42\n",
    "\n",
    "len(arr)"
   ]
  },
  {
   "cell_type": "markdown",
   "id": "07b00c65",
   "metadata": {},
   "source": [
    "### tuple\n",
    "\n",
    "Niemutowalna typ tablicowy - podobny do listy"
   ]
  },
  {
   "cell_type": "markdown",
   "id": "dc242440",
   "metadata": {},
   "source": [
    "### array.array"
   ]
  },
  {
   "cell_type": "code",
   "execution_count": 2,
   "id": "5116db96",
   "metadata": {},
   "outputs": [],
   "source": [
    "import array\n",
    "\n",
    "arr = array.array(\"f\", (1.0, 1.5, 2.0, 2.5))"
   ]
  },
  {
   "cell_type": "code",
   "execution_count": 3,
   "id": "050d9dc4",
   "metadata": {},
   "outputs": [
    {
     "data": {
      "text/plain": [
       "['__add__',\n",
       " '__class__',\n",
       " '__contains__',\n",
       " '__copy__',\n",
       " '__deepcopy__',\n",
       " '__delattr__',\n",
       " '__delitem__',\n",
       " '__dir__',\n",
       " '__doc__',\n",
       " '__eq__',\n",
       " '__format__',\n",
       " '__ge__',\n",
       " '__getattribute__',\n",
       " '__getitem__',\n",
       " '__gt__',\n",
       " '__hash__',\n",
       " '__iadd__',\n",
       " '__imul__',\n",
       " '__init__',\n",
       " '__init_subclass__',\n",
       " '__iter__',\n",
       " '__le__',\n",
       " '__len__',\n",
       " '__lt__',\n",
       " '__module__',\n",
       " '__mul__',\n",
       " '__ne__',\n",
       " '__new__',\n",
       " '__reduce__',\n",
       " '__reduce_ex__',\n",
       " '__repr__',\n",
       " '__rmul__',\n",
       " '__setattr__',\n",
       " '__setitem__',\n",
       " '__sizeof__',\n",
       " '__str__',\n",
       " '__subclasshook__',\n",
       " 'append',\n",
       " 'buffer_info',\n",
       " 'byteswap',\n",
       " 'count',\n",
       " 'extend',\n",
       " 'frombytes',\n",
       " 'fromfile',\n",
       " 'fromlist',\n",
       " 'fromunicode',\n",
       " 'index',\n",
       " 'insert',\n",
       " 'itemsize',\n",
       " 'pop',\n",
       " 'remove',\n",
       " 'reverse',\n",
       " 'tobytes',\n",
       " 'tofile',\n",
       " 'tolist',\n",
       " 'tounicode',\n",
       " 'typecode']"
      ]
     },
     "execution_count": 3,
     "metadata": {},
     "output_type": "execute_result"
    }
   ],
   "source": [
    "dir(arr)"
   ]
  },
  {
   "cell_type": "code",
   "execution_count": 4,
   "id": "1c91ff55",
   "metadata": {},
   "outputs": [
    {
     "data": {
      "text/plain": [
       "b'\\x00\\x00\\x80?\\x00\\x00\\xc0?\\x00\\x00\\x00@\\x00\\x00 @'"
      ]
     },
     "execution_count": 4,
     "metadata": {},
     "output_type": "execute_result"
    }
   ],
   "source": [
    "arr.tobytes()"
   ]
  },
  {
   "cell_type": "code",
   "execution_count": 5,
   "id": "6c19e277",
   "metadata": {},
   "outputs": [],
   "source": [
    "arr?"
   ]
  },
  {
   "cell_type": "code",
   "execution_count": 6,
   "id": "2e500a3b",
   "metadata": {},
   "outputs": [
    {
     "data": {
      "text/plain": [
       "4"
      ]
     },
     "execution_count": 6,
     "metadata": {},
     "output_type": "execute_result"
    }
   ],
   "source": [
    "len(arr)"
   ]
  },
  {
   "cell_type": "code",
   "execution_count": 7,
   "id": "9c118f51",
   "metadata": {},
   "outputs": [
    {
     "data": {
      "text/plain": [
       "1.0"
      ]
     },
     "execution_count": 7,
     "metadata": {},
     "output_type": "execute_result"
    }
   ],
   "source": [
    "arr[0]"
   ]
  },
  {
   "cell_type": "code",
   "execution_count": 8,
   "id": "695b9d1a",
   "metadata": {},
   "outputs": [],
   "source": [
    "arr.append(42)"
   ]
  },
  {
   "cell_type": "code",
   "execution_count": 9,
   "id": "b44ca53f",
   "metadata": {},
   "outputs": [],
   "source": [
    "from sys import getsizeof\n",
    "\n",
    "getsizeof?\n"
   ]
  },
  {
   "cell_type": "code",
   "execution_count": 10,
   "id": "ee607922",
   "metadata": {},
   "outputs": [
    {
     "data": {
      "text/plain": [
       "(800984, 400080)"
      ]
     },
     "execution_count": 10,
     "metadata": {},
     "output_type": "execute_result"
    }
   ],
   "source": [
    "arr_l = [x for x in range(1, 100_001)]\n",
    "arr_a = array.array('i', arr_l)\n",
    "\n",
    "getsizeof(arr_l), getsizeof(arr_a)"
   ]
  },
  {
   "cell_type": "markdown",
   "id": "158a6bc2",
   "metadata": {},
   "source": [
    "### str\n",
    "\n",
    "Niemutowalna tablica znaków unicode\n",
    "Dane tekstowe"
   ]
  },
  {
   "cell_type": "code",
   "execution_count": 11,
   "id": "8c2870bb",
   "metadata": {},
   "outputs": [
    {
     "data": {
      "text/plain": [
       "'1234'"
      ]
     },
     "execution_count": 11,
     "metadata": {},
     "output_type": "execute_result"
    }
   ],
   "source": [
    "arr = \"abcd\"\n",
    "arr[1]\n",
    "\n",
    "\"\".join([\"a\", \"c\"])\n",
    "\n",
    "\n",
    "lista = [1, 2, 3, 4]\n",
    "\n",
    "\"\".join([str(x) for x in lista])"
   ]
  },
  {
   "cell_type": "code",
   "execution_count": 12,
   "id": "9a59d857",
   "metadata": {},
   "outputs": [
    {
     "data": {
      "text/plain": [
       "'1234'"
      ]
     },
     "execution_count": 12,
     "metadata": {},
     "output_type": "execute_result"
    }
   ],
   "source": [
    "\"\".join(map(str, lista))"
   ]
  },
  {
   "cell_type": "code",
   "execution_count": 13,
   "id": "94304bc5",
   "metadata": {},
   "outputs": [
    {
     "data": {
      "text/plain": [
       "(str, str)"
      ]
     },
     "execution_count": 13,
     "metadata": {},
     "output_type": "execute_result"
    }
   ],
   "source": [
    "# struktura reukurencyjna\n",
    "\n",
    "type(\"Abc\"), type(\"Abc\"[0])\n"
   ]
  },
  {
   "cell_type": "markdown",
   "id": "7981a654",
   "metadata": {},
   "source": [
    "### bytes\n",
    "\n",
    "niezmienna sekwencja pojedynczych bajtow lub liczb z zakresu 0 - 255"
   ]
  },
  {
   "cell_type": "code",
   "execution_count": 14,
   "id": "0d0255f1",
   "metadata": {},
   "outputs": [
    {
     "data": {
      "text/plain": [
       "b'\\x01\\x02\\x03\\x04'"
      ]
     },
     "execution_count": 14,
     "metadata": {},
     "output_type": "execute_result"
    }
   ],
   "source": [
    "arr = bytes((1, 2, 3, 4))\n",
    "arr"
   ]
  },
  {
   "cell_type": "code",
   "execution_count": 15,
   "id": "9af68d7e",
   "metadata": {},
   "outputs": [
    {
     "data": {
      "text/plain": [
       "b'abcd'"
      ]
     },
     "execution_count": 15,
     "metadata": {},
     "output_type": "execute_result"
    }
   ],
   "source": [
    "arr = bytes(\"abcd\", encoding=\"utf-8\")\n",
    "arr"
   ]
  },
  {
   "cell_type": "code",
   "execution_count": 16,
   "id": "10b1f6a7",
   "metadata": {},
   "outputs": [],
   "source": [
    "bytes?"
   ]
  },
  {
   "cell_type": "markdown",
   "id": "15404658",
   "metadata": {},
   "source": [
    "### bytearray"
   ]
  },
  {
   "cell_type": "markdown",
   "id": "333cd82c",
   "metadata": {},
   "source": [
    "mutowalna tablica pojedynczych bajtow (liczby 0-255)"
   ]
  },
  {
   "cell_type": "code",
   "execution_count": 17,
   "id": "c6cff350",
   "metadata": {},
   "outputs": [],
   "source": [
    "ba = bytearray(arr)"
   ]
  },
  {
   "cell_type": "code",
   "execution_count": 18,
   "id": "1e770d7a",
   "metadata": {},
   "outputs": [
    {
     "data": {
      "text/plain": [
       "bytearray(b'abcd')"
      ]
     },
     "execution_count": 18,
     "metadata": {},
     "output_type": "execute_result"
    }
   ],
   "source": [
    "ba"
   ]
  },
  {
   "cell_type": "code",
   "execution_count": 19,
   "id": "cfa849d4",
   "metadata": {},
   "outputs": [],
   "source": [
    "ba[0] = 1"
   ]
  },
  {
   "cell_type": "code",
   "execution_count": 20,
   "id": "e4ed97e7",
   "metadata": {},
   "outputs": [
    {
     "data": {
      "text/plain": [
       "bytearray(b'\\x01bcd')"
      ]
     },
     "execution_count": 20,
     "metadata": {},
     "output_type": "execute_result"
    }
   ],
   "source": [
    "ba"
   ]
  },
  {
   "cell_type": "code",
   "execution_count": 21,
   "id": "754b7e1c",
   "metadata": {},
   "outputs": [],
   "source": [
    "# ba[0] = 256"
   ]
  },
  {
   "cell_type": "code",
   "execution_count": 22,
   "id": "e2c4a12f",
   "metadata": {},
   "outputs": [
    {
     "data": {
      "application/json": {
       "cell": {
        "!": "OSMagics",
        "HTML": "Other",
        "SVG": "Other",
        "bash": "Other",
        "capture": "ExecutionMagics",
        "debug": "ExecutionMagics",
        "file": "Other",
        "html": "DisplayMagics",
        "javascript": "DisplayMagics",
        "js": "DisplayMagics",
        "latex": "DisplayMagics",
        "markdown": "DisplayMagics",
        "perl": "Other",
        "prun": "ExecutionMagics",
        "pypy": "Other",
        "python": "Other",
        "python2": "Other",
        "python3": "Other",
        "ruby": "Other",
        "script": "ScriptMagics",
        "sh": "Other",
        "svg": "DisplayMagics",
        "sx": "OSMagics",
        "system": "OSMagics",
        "time": "ExecutionMagics",
        "timeit": "ExecutionMagics",
        "writefile": "OSMagics"
       },
       "line": {
        "alias": "OSMagics",
        "alias_magic": "BasicMagics",
        "autoawait": "AsyncMagics",
        "autocall": "AutoMagics",
        "automagic": "AutoMagics",
        "autosave": "KernelMagics",
        "bookmark": "OSMagics",
        "cat": "Other",
        "cd": "OSMagics",
        "clear": "KernelMagics",
        "colors": "BasicMagics",
        "conda": "PackagingMagics",
        "config": "ConfigMagics",
        "connect_info": "KernelMagics",
        "cp": "Other",
        "debug": "ExecutionMagics",
        "dhist": "OSMagics",
        "dirs": "OSMagics",
        "doctest_mode": "BasicMagics",
        "ed": "Other",
        "edit": "KernelMagics",
        "env": "OSMagics",
        "gui": "BasicMagics",
        "hist": "Other",
        "history": "HistoryMagics",
        "killbgscripts": "ScriptMagics",
        "ldir": "Other",
        "less": "KernelMagics",
        "lf": "Other",
        "lk": "Other",
        "ll": "Other",
        "load": "CodeMagics",
        "load_ext": "ExtensionMagics",
        "loadpy": "CodeMagics",
        "logoff": "LoggingMagics",
        "logon": "LoggingMagics",
        "logstart": "LoggingMagics",
        "logstate": "LoggingMagics",
        "logstop": "LoggingMagics",
        "ls": "Other",
        "lsmagic": "BasicMagics",
        "lx": "Other",
        "macro": "ExecutionMagics",
        "magic": "BasicMagics",
        "man": "KernelMagics",
        "matplotlib": "PylabMagics",
        "mkdir": "Other",
        "more": "KernelMagics",
        "mv": "Other",
        "notebook": "BasicMagics",
        "page": "BasicMagics",
        "pastebin": "CodeMagics",
        "pdb": "ExecutionMagics",
        "pdef": "NamespaceMagics",
        "pdoc": "NamespaceMagics",
        "pfile": "NamespaceMagics",
        "pinfo": "NamespaceMagics",
        "pinfo2": "NamespaceMagics",
        "pip": "PackagingMagics",
        "popd": "OSMagics",
        "pprint": "BasicMagics",
        "precision": "BasicMagics",
        "prun": "ExecutionMagics",
        "psearch": "NamespaceMagics",
        "psource": "NamespaceMagics",
        "pushd": "OSMagics",
        "pwd": "OSMagics",
        "pycat": "OSMagics",
        "pylab": "PylabMagics",
        "qtconsole": "KernelMagics",
        "quickref": "BasicMagics",
        "recall": "HistoryMagics",
        "rehashx": "OSMagics",
        "reload_ext": "ExtensionMagics",
        "rep": "Other",
        "rerun": "HistoryMagics",
        "reset": "NamespaceMagics",
        "reset_selective": "NamespaceMagics",
        "rm": "Other",
        "rmdir": "Other",
        "run": "ExecutionMagics",
        "save": "CodeMagics",
        "sc": "OSMagics",
        "set_env": "OSMagics",
        "store": "StoreMagics",
        "sx": "OSMagics",
        "system": "OSMagics",
        "tb": "ExecutionMagics",
        "time": "ExecutionMagics",
        "timeit": "ExecutionMagics",
        "unalias": "OSMagics",
        "unload_ext": "ExtensionMagics",
        "who": "NamespaceMagics",
        "who_ls": "NamespaceMagics",
        "whos": "NamespaceMagics",
        "xdel": "NamespaceMagics",
        "xmode": "BasicMagics"
       }
      },
      "text/plain": [
       "Available line magics:\n",
       "%alias  %alias_magic  %autoawait  %autocall  %automagic  %autosave  %bookmark  %cat  %cd  %clear  %colors  %conda  %config  %connect_info  %cp  %debug  %dhist  %dirs  %doctest_mode  %ed  %edit  %env  %gui  %hist  %history  %killbgscripts  %ldir  %less  %lf  %lk  %ll  %load  %load_ext  %loadpy  %logoff  %logon  %logstart  %logstate  %logstop  %ls  %lsmagic  %lx  %macro  %magic  %man  %matplotlib  %mkdir  %more  %mv  %notebook  %page  %pastebin  %pdb  %pdef  %pdoc  %pfile  %pinfo  %pinfo2  %pip  %popd  %pprint  %precision  %prun  %psearch  %psource  %pushd  %pwd  %pycat  %pylab  %qtconsole  %quickref  %recall  %rehashx  %reload_ext  %rep  %rerun  %reset  %reset_selective  %rm  %rmdir  %run  %save  %sc  %set_env  %store  %sx  %system  %tb  %time  %timeit  %unalias  %unload_ext  %who  %who_ls  %whos  %xdel  %xmode\n",
       "\n",
       "Available cell magics:\n",
       "%%!  %%HTML  %%SVG  %%bash  %%capture  %%debug  %%file  %%html  %%javascript  %%js  %%latex  %%markdown  %%perl  %%prun  %%pypy  %%python  %%python2  %%python3  %%ruby  %%script  %%sh  %%svg  %%sx  %%system  %%time  %%timeit  %%writefile\n",
       "\n",
       "Automagic is ON, % prefix IS NOT needed for line magics."
      ]
     },
     "execution_count": 22,
     "metadata": {},
     "output_type": "execute_result"
    }
   ],
   "source": [
    "%lsmagic"
   ]
  },
  {
   "cell_type": "code",
   "execution_count": 23,
   "id": "78e02fa9",
   "metadata": {},
   "outputs": [
    {
     "name": "stdout",
     "output_type": "stream",
     "text": [
      "CPU times: user 29 µs, sys: 1 µs, total: 30 µs\n",
      "Wall time: 31.9 µs\n"
     ]
    },
    {
     "data": {
      "text/plain": [
       "[0,\n",
       " 1,\n",
       " 2,\n",
       " 3,\n",
       " 4,\n",
       " 5,\n",
       " 6,\n",
       " 7,\n",
       " 8,\n",
       " 9,\n",
       " 10,\n",
       " 11,\n",
       " 12,\n",
       " 13,\n",
       " 14,\n",
       " 15,\n",
       " 16,\n",
       " 17,\n",
       " 18,\n",
       " 19,\n",
       " 20,\n",
       " 21,\n",
       " 22,\n",
       " 23,\n",
       " 24,\n",
       " 25,\n",
       " 26,\n",
       " 27,\n",
       " 28,\n",
       " 29,\n",
       " 30,\n",
       " 31,\n",
       " 32,\n",
       " 33,\n",
       " 34,\n",
       " 35,\n",
       " 36,\n",
       " 37,\n",
       " 38,\n",
       " 39,\n",
       " 40,\n",
       " 41,\n",
       " 42,\n",
       " 43,\n",
       " 44,\n",
       " 45,\n",
       " 46,\n",
       " 47,\n",
       " 48,\n",
       " 49,\n",
       " 50,\n",
       " 51,\n",
       " 52,\n",
       " 53,\n",
       " 54,\n",
       " 55,\n",
       " 56,\n",
       " 57,\n",
       " 58,\n",
       " 59,\n",
       " 60,\n",
       " 61,\n",
       " 62,\n",
       " 63,\n",
       " 64,\n",
       " 65,\n",
       " 66,\n",
       " 67,\n",
       " 68,\n",
       " 69,\n",
       " 70,\n",
       " 71,\n",
       " 72,\n",
       " 73,\n",
       " 74,\n",
       " 75,\n",
       " 76,\n",
       " 77,\n",
       " 78,\n",
       " 79,\n",
       " 80,\n",
       " 81,\n",
       " 82,\n",
       " 83,\n",
       " 84,\n",
       " 85,\n",
       " 86,\n",
       " 87,\n",
       " 88,\n",
       " 89,\n",
       " 90,\n",
       " 91,\n",
       " 92,\n",
       " 93,\n",
       " 94,\n",
       " 95,\n",
       " 96,\n",
       " 97,\n",
       " 98,\n",
       " 99,\n",
       " 100,\n",
       " 101,\n",
       " 102,\n",
       " 103,\n",
       " 104,\n",
       " 105,\n",
       " 106,\n",
       " 107,\n",
       " 108,\n",
       " 109,\n",
       " 110,\n",
       " 111,\n",
       " 112,\n",
       " 113,\n",
       " 114,\n",
       " 115,\n",
       " 116,\n",
       " 117,\n",
       " 118,\n",
       " 119,\n",
       " 120,\n",
       " 121,\n",
       " 122,\n",
       " 123,\n",
       " 124,\n",
       " 125,\n",
       " 126,\n",
       " 127,\n",
       " 128,\n",
       " 129,\n",
       " 130,\n",
       " 131,\n",
       " 132,\n",
       " 133,\n",
       " 134,\n",
       " 135,\n",
       " 136,\n",
       " 137,\n",
       " 138,\n",
       " 139,\n",
       " 140,\n",
       " 141,\n",
       " 142,\n",
       " 143,\n",
       " 144,\n",
       " 145,\n",
       " 146,\n",
       " 147,\n",
       " 148,\n",
       " 149,\n",
       " 150,\n",
       " 151,\n",
       " 152,\n",
       " 153,\n",
       " 154,\n",
       " 155,\n",
       " 156,\n",
       " 157,\n",
       " 158,\n",
       " 159,\n",
       " 160,\n",
       " 161,\n",
       " 162,\n",
       " 163,\n",
       " 164,\n",
       " 165,\n",
       " 166,\n",
       " 167,\n",
       " 168,\n",
       " 169,\n",
       " 170,\n",
       " 171,\n",
       " 172,\n",
       " 173,\n",
       " 174,\n",
       " 175,\n",
       " 176,\n",
       " 177,\n",
       " 178,\n",
       " 179,\n",
       " 180,\n",
       " 181,\n",
       " 182,\n",
       " 183,\n",
       " 184,\n",
       " 185,\n",
       " 186,\n",
       " 187,\n",
       " 188,\n",
       " 189,\n",
       " 190,\n",
       " 191,\n",
       " 192,\n",
       " 193,\n",
       " 194,\n",
       " 195,\n",
       " 196,\n",
       " 197,\n",
       " 198,\n",
       " 199,\n",
       " 200,\n",
       " 201,\n",
       " 202,\n",
       " 203,\n",
       " 204,\n",
       " 205,\n",
       " 206,\n",
       " 207,\n",
       " 208,\n",
       " 209,\n",
       " 210,\n",
       " 211,\n",
       " 212,\n",
       " 213,\n",
       " 214,\n",
       " 215,\n",
       " 216,\n",
       " 217,\n",
       " 218,\n",
       " 219,\n",
       " 220,\n",
       " 221,\n",
       " 222,\n",
       " 223,\n",
       " 224,\n",
       " 225,\n",
       " 226,\n",
       " 227,\n",
       " 228,\n",
       " 229,\n",
       " 230,\n",
       " 231,\n",
       " 232,\n",
       " 233,\n",
       " 234,\n",
       " 235,\n",
       " 236,\n",
       " 237,\n",
       " 238,\n",
       " 239,\n",
       " 240,\n",
       " 241,\n",
       " 242,\n",
       " 243,\n",
       " 244,\n",
       " 245,\n",
       " 246,\n",
       " 247,\n",
       " 248,\n",
       " 249,\n",
       " 250,\n",
       " 251,\n",
       " 252,\n",
       " 253,\n",
       " 254,\n",
       " 255,\n",
       " 256,\n",
       " 257,\n",
       " 258,\n",
       " 259,\n",
       " 260,\n",
       " 261,\n",
       " 262,\n",
       " 263,\n",
       " 264,\n",
       " 265,\n",
       " 266,\n",
       " 267,\n",
       " 268,\n",
       " 269,\n",
       " 270,\n",
       " 271,\n",
       " 272,\n",
       " 273,\n",
       " 274,\n",
       " 275,\n",
       " 276,\n",
       " 277,\n",
       " 278,\n",
       " 279,\n",
       " 280,\n",
       " 281,\n",
       " 282,\n",
       " 283,\n",
       " 284,\n",
       " 285,\n",
       " 286,\n",
       " 287,\n",
       " 288,\n",
       " 289,\n",
       " 290,\n",
       " 291,\n",
       " 292,\n",
       " 293,\n",
       " 294,\n",
       " 295,\n",
       " 296,\n",
       " 297,\n",
       " 298,\n",
       " 299,\n",
       " 300,\n",
       " 301,\n",
       " 302,\n",
       " 303,\n",
       " 304,\n",
       " 305,\n",
       " 306,\n",
       " 307,\n",
       " 308,\n",
       " 309,\n",
       " 310,\n",
       " 311,\n",
       " 312,\n",
       " 313,\n",
       " 314,\n",
       " 315,\n",
       " 316,\n",
       " 317,\n",
       " 318,\n",
       " 319,\n",
       " 320,\n",
       " 321,\n",
       " 322,\n",
       " 323,\n",
       " 324,\n",
       " 325,\n",
       " 326,\n",
       " 327,\n",
       " 328,\n",
       " 329,\n",
       " 330,\n",
       " 331,\n",
       " 332,\n",
       " 333,\n",
       " 334,\n",
       " 335,\n",
       " 336,\n",
       " 337,\n",
       " 338,\n",
       " 339,\n",
       " 340,\n",
       " 341,\n",
       " 342,\n",
       " 343,\n",
       " 344,\n",
       " 345,\n",
       " 346,\n",
       " 347,\n",
       " 348,\n",
       " 349,\n",
       " 350,\n",
       " 351,\n",
       " 352,\n",
       " 353,\n",
       " 354,\n",
       " 355,\n",
       " 356,\n",
       " 357,\n",
       " 358,\n",
       " 359,\n",
       " 360,\n",
       " 361,\n",
       " 362,\n",
       " 363,\n",
       " 364,\n",
       " 365,\n",
       " 366,\n",
       " 367,\n",
       " 368,\n",
       " 369,\n",
       " 370,\n",
       " 371,\n",
       " 372,\n",
       " 373,\n",
       " 374,\n",
       " 375,\n",
       " 376,\n",
       " 377,\n",
       " 378,\n",
       " 379,\n",
       " 380,\n",
       " 381,\n",
       " 382,\n",
       " 383,\n",
       " 384,\n",
       " 385,\n",
       " 386,\n",
       " 387,\n",
       " 388,\n",
       " 389,\n",
       " 390,\n",
       " 391,\n",
       " 392,\n",
       " 393,\n",
       " 394,\n",
       " 395,\n",
       " 396,\n",
       " 397,\n",
       " 398,\n",
       " 399,\n",
       " 400,\n",
       " 401,\n",
       " 402,\n",
       " 403,\n",
       " 404,\n",
       " 405,\n",
       " 406,\n",
       " 407,\n",
       " 408,\n",
       " 409,\n",
       " 410,\n",
       " 411,\n",
       " 412,\n",
       " 413,\n",
       " 414,\n",
       " 415,\n",
       " 416,\n",
       " 417,\n",
       " 418,\n",
       " 419,\n",
       " 420,\n",
       " 421,\n",
       " 422,\n",
       " 423,\n",
       " 424,\n",
       " 425,\n",
       " 426,\n",
       " 427,\n",
       " 428,\n",
       " 429,\n",
       " 430,\n",
       " 431,\n",
       " 432,\n",
       " 433,\n",
       " 434,\n",
       " 435,\n",
       " 436,\n",
       " 437,\n",
       " 438,\n",
       " 439,\n",
       " 440,\n",
       " 441,\n",
       " 442,\n",
       " 443,\n",
       " 444,\n",
       " 445,\n",
       " 446,\n",
       " 447,\n",
       " 448,\n",
       " 449,\n",
       " 450,\n",
       " 451,\n",
       " 452,\n",
       " 453,\n",
       " 454,\n",
       " 455,\n",
       " 456,\n",
       " 457,\n",
       " 458,\n",
       " 459,\n",
       " 460,\n",
       " 461,\n",
       " 462,\n",
       " 463,\n",
       " 464,\n",
       " 465,\n",
       " 466,\n",
       " 467,\n",
       " 468,\n",
       " 469,\n",
       " 470,\n",
       " 471,\n",
       " 472,\n",
       " 473,\n",
       " 474,\n",
       " 475,\n",
       " 476,\n",
       " 477,\n",
       " 478,\n",
       " 479,\n",
       " 480,\n",
       " 481,\n",
       " 482,\n",
       " 483,\n",
       " 484,\n",
       " 485,\n",
       " 486,\n",
       " 487,\n",
       " 488,\n",
       " 489,\n",
       " 490,\n",
       " 491,\n",
       " 492,\n",
       " 493,\n",
       " 494,\n",
       " 495,\n",
       " 496,\n",
       " 497,\n",
       " 498,\n",
       " 499,\n",
       " 500,\n",
       " 501,\n",
       " 502,\n",
       " 503,\n",
       " 504,\n",
       " 505,\n",
       " 506,\n",
       " 507,\n",
       " 508,\n",
       " 509,\n",
       " 510,\n",
       " 511,\n",
       " 512,\n",
       " 513,\n",
       " 514,\n",
       " 515,\n",
       " 516,\n",
       " 517,\n",
       " 518,\n",
       " 519,\n",
       " 520,\n",
       " 521,\n",
       " 522,\n",
       " 523,\n",
       " 524,\n",
       " 525,\n",
       " 526,\n",
       " 527,\n",
       " 528,\n",
       " 529,\n",
       " 530,\n",
       " 531,\n",
       " 532,\n",
       " 533,\n",
       " 534,\n",
       " 535,\n",
       " 536,\n",
       " 537,\n",
       " 538,\n",
       " 539,\n",
       " 540,\n",
       " 541,\n",
       " 542,\n",
       " 543,\n",
       " 544,\n",
       " 545,\n",
       " 546,\n",
       " 547,\n",
       " 548,\n",
       " 549,\n",
       " 550,\n",
       " 551,\n",
       " 552,\n",
       " 553,\n",
       " 554,\n",
       " 555,\n",
       " 556,\n",
       " 557,\n",
       " 558,\n",
       " 559,\n",
       " 560,\n",
       " 561,\n",
       " 562,\n",
       " 563,\n",
       " 564,\n",
       " 565,\n",
       " 566,\n",
       " 567,\n",
       " 568,\n",
       " 569,\n",
       " 570,\n",
       " 571,\n",
       " 572,\n",
       " 573,\n",
       " 574,\n",
       " 575,\n",
       " 576,\n",
       " 577,\n",
       " 578,\n",
       " 579,\n",
       " 580,\n",
       " 581,\n",
       " 582,\n",
       " 583,\n",
       " 584,\n",
       " 585,\n",
       " 586,\n",
       " 587,\n",
       " 588,\n",
       " 589,\n",
       " 590,\n",
       " 591,\n",
       " 592,\n",
       " 593,\n",
       " 594,\n",
       " 595,\n",
       " 596,\n",
       " 597,\n",
       " 598,\n",
       " 599,\n",
       " 600,\n",
       " 601,\n",
       " 602,\n",
       " 603,\n",
       " 604,\n",
       " 605,\n",
       " 606,\n",
       " 607,\n",
       " 608,\n",
       " 609,\n",
       " 610,\n",
       " 611,\n",
       " 612,\n",
       " 613,\n",
       " 614,\n",
       " 615,\n",
       " 616,\n",
       " 617,\n",
       " 618,\n",
       " 619,\n",
       " 620,\n",
       " 621,\n",
       " 622,\n",
       " 623,\n",
       " 624,\n",
       " 625,\n",
       " 626,\n",
       " 627,\n",
       " 628,\n",
       " 629,\n",
       " 630,\n",
       " 631,\n",
       " 632,\n",
       " 633,\n",
       " 634,\n",
       " 635,\n",
       " 636,\n",
       " 637,\n",
       " 638,\n",
       " 639,\n",
       " 640,\n",
       " 641,\n",
       " 642,\n",
       " 643,\n",
       " 644,\n",
       " 645,\n",
       " 646,\n",
       " 647,\n",
       " 648,\n",
       " 649,\n",
       " 650,\n",
       " 651,\n",
       " 652,\n",
       " 653,\n",
       " 654,\n",
       " 655,\n",
       " 656,\n",
       " 657,\n",
       " 658,\n",
       " 659,\n",
       " 660,\n",
       " 661,\n",
       " 662,\n",
       " 663,\n",
       " 664,\n",
       " 665,\n",
       " 666,\n",
       " 667,\n",
       " 668,\n",
       " 669,\n",
       " 670,\n",
       " 671,\n",
       " 672,\n",
       " 673,\n",
       " 674,\n",
       " 675,\n",
       " 676,\n",
       " 677,\n",
       " 678,\n",
       " 679,\n",
       " 680,\n",
       " 681,\n",
       " 682,\n",
       " 683,\n",
       " 684,\n",
       " 685,\n",
       " 686,\n",
       " 687,\n",
       " 688,\n",
       " 689,\n",
       " 690,\n",
       " 691,\n",
       " 692,\n",
       " 693,\n",
       " 694,\n",
       " 695,\n",
       " 696,\n",
       " 697,\n",
       " 698,\n",
       " 699,\n",
       " 700,\n",
       " 701,\n",
       " 702,\n",
       " 703,\n",
       " 704,\n",
       " 705,\n",
       " 706,\n",
       " 707,\n",
       " 708,\n",
       " 709,\n",
       " 710,\n",
       " 711,\n",
       " 712,\n",
       " 713,\n",
       " 714,\n",
       " 715,\n",
       " 716,\n",
       " 717,\n",
       " 718,\n",
       " 719,\n",
       " 720,\n",
       " 721,\n",
       " 722,\n",
       " 723,\n",
       " 724,\n",
       " 725,\n",
       " 726,\n",
       " 727,\n",
       " 728,\n",
       " 729,\n",
       " 730,\n",
       " 731,\n",
       " 732,\n",
       " 733,\n",
       " 734,\n",
       " 735,\n",
       " 736,\n",
       " 737,\n",
       " 738,\n",
       " 739,\n",
       " 740,\n",
       " 741,\n",
       " 742,\n",
       " 743,\n",
       " 744,\n",
       " 745,\n",
       " 746,\n",
       " 747,\n",
       " 748,\n",
       " 749,\n",
       " 750,\n",
       " 751,\n",
       " 752,\n",
       " 753,\n",
       " 754,\n",
       " 755,\n",
       " 756,\n",
       " 757,\n",
       " 758,\n",
       " 759,\n",
       " 760,\n",
       " 761,\n",
       " 762,\n",
       " 763,\n",
       " 764,\n",
       " 765,\n",
       " 766,\n",
       " 767,\n",
       " 768,\n",
       " 769,\n",
       " 770,\n",
       " 771,\n",
       " 772,\n",
       " 773,\n",
       " 774,\n",
       " 775,\n",
       " 776,\n",
       " 777,\n",
       " 778,\n",
       " 779,\n",
       " 780,\n",
       " 781,\n",
       " 782,\n",
       " 783,\n",
       " 784,\n",
       " 785,\n",
       " 786,\n",
       " 787,\n",
       " 788,\n",
       " 789,\n",
       " 790,\n",
       " 791,\n",
       " 792,\n",
       " 793,\n",
       " 794,\n",
       " 795,\n",
       " 796,\n",
       " 797,\n",
       " 798,\n",
       " 799,\n",
       " 800,\n",
       " 801,\n",
       " 802,\n",
       " 803,\n",
       " 804,\n",
       " 805,\n",
       " 806,\n",
       " 807,\n",
       " 808,\n",
       " 809,\n",
       " 810,\n",
       " 811,\n",
       " 812,\n",
       " 813,\n",
       " 814,\n",
       " 815,\n",
       " 816,\n",
       " 817,\n",
       " 818,\n",
       " 819,\n",
       " 820,\n",
       " 821,\n",
       " 822,\n",
       " 823,\n",
       " 824,\n",
       " 825,\n",
       " 826,\n",
       " 827,\n",
       " 828,\n",
       " 829,\n",
       " 830,\n",
       " 831,\n",
       " 832,\n",
       " 833,\n",
       " 834,\n",
       " 835,\n",
       " 836,\n",
       " 837,\n",
       " 838,\n",
       " 839,\n",
       " 840,\n",
       " 841,\n",
       " 842,\n",
       " 843,\n",
       " 844,\n",
       " 845,\n",
       " 846,\n",
       " 847,\n",
       " 848,\n",
       " 849,\n",
       " 850,\n",
       " 851,\n",
       " 852,\n",
       " 853,\n",
       " 854,\n",
       " 855,\n",
       " 856,\n",
       " 857,\n",
       " 858,\n",
       " 859,\n",
       " 860,\n",
       " 861,\n",
       " 862,\n",
       " 863,\n",
       " 864,\n",
       " 865,\n",
       " 866,\n",
       " 867,\n",
       " 868,\n",
       " 869,\n",
       " 870,\n",
       " 871,\n",
       " 872,\n",
       " 873,\n",
       " 874,\n",
       " 875,\n",
       " 876,\n",
       " 877,\n",
       " 878,\n",
       " 879,\n",
       " 880,\n",
       " 881,\n",
       " 882,\n",
       " 883,\n",
       " 884,\n",
       " 885,\n",
       " 886,\n",
       " 887,\n",
       " 888,\n",
       " 889,\n",
       " 890,\n",
       " 891,\n",
       " 892,\n",
       " 893,\n",
       " 894,\n",
       " 895,\n",
       " 896,\n",
       " 897,\n",
       " 898,\n",
       " 899,\n",
       " 900,\n",
       " 901,\n",
       " 902,\n",
       " 903,\n",
       " 904,\n",
       " 905,\n",
       " 906,\n",
       " 907,\n",
       " 908,\n",
       " 909,\n",
       " 910,\n",
       " 911,\n",
       " 912,\n",
       " 913,\n",
       " 914,\n",
       " 915,\n",
       " 916,\n",
       " 917,\n",
       " 918,\n",
       " 919,\n",
       " 920,\n",
       " 921,\n",
       " 922,\n",
       " 923,\n",
       " 924,\n",
       " 925,\n",
       " 926,\n",
       " 927,\n",
       " 928,\n",
       " 929,\n",
       " 930,\n",
       " 931,\n",
       " 932,\n",
       " 933,\n",
       " 934,\n",
       " 935,\n",
       " 936,\n",
       " 937,\n",
       " 938,\n",
       " 939,\n",
       " 940,\n",
       " 941,\n",
       " 942,\n",
       " 943,\n",
       " 944,\n",
       " 945,\n",
       " 946,\n",
       " 947,\n",
       " 948,\n",
       " 949,\n",
       " 950,\n",
       " 951,\n",
       " 952,\n",
       " 953,\n",
       " 954,\n",
       " 955,\n",
       " 956,\n",
       " 957,\n",
       " 958,\n",
       " 959,\n",
       " 960,\n",
       " 961,\n",
       " 962,\n",
       " 963,\n",
       " 964,\n",
       " 965,\n",
       " 966,\n",
       " 967,\n",
       " 968,\n",
       " 969,\n",
       " 970,\n",
       " 971,\n",
       " 972,\n",
       " 973,\n",
       " 974,\n",
       " 975,\n",
       " 976,\n",
       " 977,\n",
       " 978,\n",
       " 979,\n",
       " 980,\n",
       " 981,\n",
       " 982,\n",
       " 983,\n",
       " 984,\n",
       " 985,\n",
       " 986,\n",
       " 987,\n",
       " 988,\n",
       " 989,\n",
       " 990,\n",
       " 991,\n",
       " 992,\n",
       " 993,\n",
       " 994,\n",
       " 995,\n",
       " 996,\n",
       " 997,\n",
       " 998,\n",
       " 999]"
      ]
     },
     "execution_count": 23,
     "metadata": {},
     "output_type": "execute_result"
    }
   ],
   "source": [
    "%time [x for x in range(1000)]"
   ]
  },
  {
   "cell_type": "code",
   "execution_count": 24,
   "id": "8fc73129",
   "metadata": {},
   "outputs": [
    {
     "name": "stdout",
     "output_type": "stream",
     "text": [
      "28.5 µs ± 2.44 µs per loop (mean ± std. dev. of 7 runs, 100 loops each)\n"
     ]
    }
   ],
   "source": [
    "%timeit -n100 [x for x in range(1000)]"
   ]
  },
  {
   "cell_type": "markdown",
   "id": "d45656c4",
   "metadata": {},
   "source": [
    "### Porównanie\n",
    "\n",
    "    Utwórz wyrażeniem listowym listę 100 000 losowych liczb z przedziału 0-255\n",
    "    Utwórz na jej podstawie krotkę\n",
    "    Utwórz tablicę array.array na podstwie listy\n",
    "    Utwórz tablicę np.array na podstawie listy\n",
    "    Porównaj rozmiary obiektów\n",
    "    Porównaj szybkość operacji wybierania (początek, środek, koniec)\n",
    "    Porównaj szybkość operacji zmiany obiektu (środek)\n",
    "    Porównaj szybkość operacji dodawania elementu do listy i array - początek, środek, koniec\n",
    "    Porównaj szybkośc usuwania elementów (początek, środek, koniec)"
   ]
  },
  {
   "cell_type": "code",
   "execution_count": 25,
   "id": "18007e57",
   "metadata": {},
   "outputs": [
    {
     "name": "stdout",
     "output_type": "stream",
     "text": [
      "Requirement already satisfied: numpy in /Library/Frameworks/Python.framework/Versions/3.10/lib/python3.10/site-packages (1.22.3)\r\n"
     ]
    }
   ],
   "source": [
    "!pip3 install numpy"
   ]
  },
  {
   "cell_type": "code",
   "execution_count": 26,
   "id": "caad8514",
   "metadata": {},
   "outputs": [],
   "source": [
    "# 10:49 przerwai\n",
    "import random\n",
    "import numpy as np"
   ]
  },
  {
   "cell_type": "code",
   "execution_count": 27,
   "id": "44c823c2",
   "metadata": {},
   "outputs": [],
   "source": [
    "a = collection_list = [random.randint(0, 255) for i in range(100_000)]\n",
    "b = collection_tuple = tuple(collection_list)\n",
    "c = collection_array = array.array('B', collection_list)\n",
    "d = collection_np_array = np.array(collection_list, dtype=np.int8)\n",
    "e = collection_bytes = bytes(a)\n",
    "f = collection_bytearray = bytearray(a)"
   ]
  },
  {
   "cell_type": "code",
   "execution_count": 28,
   "id": "8b0e7bf3",
   "metadata": {},
   "outputs": [
    {
     "name": "stdout",
     "output_type": "stream",
     "text": [
      "100000\n",
      "100000\n",
      "100000\n",
      "100000\n",
      "100000\n",
      "100000\n"
     ]
    }
   ],
   "source": [
    "elements = [a, b, c, d, e, f]\n",
    "for el in elements: print(len(el))\n",
    "    "
   ]
  },
  {
   "cell_type": "code",
   "execution_count": 29,
   "id": "ab9335d6",
   "metadata": {},
   "outputs": [
    {
     "name": "stdout",
     "output_type": "stream",
     "text": [
      "\n",
      "list:                              800984\n",
      "tuple:                             800040\n",
      "array:                             100080\n",
      "np.array:                          100112\n",
      "bytes:                             100033\n",
      "bytesarray                         106048\n",
      "\n"
     ]
    }
   ],
   "source": [
    "from sys import getsizeof as _\n",
    "\n",
    "print(f\"\"\"\n",
    "list:      {_(a):>30}\n",
    "tuple:     {_(b):>30}\n",
    "array:     {_(c):>30}\n",
    "np.array:  {_(d):>30}\n",
    "bytes:     {_(e):>30}\n",
    "bytesarray {_(f):>30}\n",
    "\"\"\")"
   ]
  },
  {
   "cell_type": "code",
   "execution_count": 30,
   "id": "3dbf446d",
   "metadata": {},
   "outputs": [
    {
     "ename": "NameError",
     "evalue": "name 'timeit' is not defined",
     "output_type": "error",
     "traceback": [
      "\u001b[0;31m---------------------------------------------------------------------------\u001b[0m",
      "\u001b[0;31mNameError\u001b[0m                                 Traceback (most recent call last)",
      "Input \u001b[0;32mIn [30]\u001b[0m, in \u001b[0;36m<cell line: 3>\u001b[0;34m()\u001b[0m\n\u001b[1;32m      1\u001b[0m \u001b[38;5;28;01mfrom\u001b[39;00m \u001b[38;5;21;01mfunctools\u001b[39;00m \u001b[38;5;28;01mimport\u001b[39;00m partial\n\u001b[0;32m----> 3\u001b[0m \u001b[43mtimeit\u001b[49m\u001b[38;5;241m.\u001b[39mrepeat(partial(\u001b[38;5;28mprint\u001b[39m, \u001b[38;5;241m1\u001b[39m), number\u001b[38;5;241m=\u001b[39m\u001b[38;5;241m10\u001b[39m)\n",
      "\u001b[0;31mNameError\u001b[0m: name 'timeit' is not defined"
     ]
    }
   ],
   "source": [
    "from functools import partial\n",
    "\n",
    "timeit.repeat(partial(print, 1), number=10)"
   ]
  },
  {
   "cell_type": "code",
   "execution_count": null,
   "id": "f4634b51",
   "metadata": {},
   "outputs": [],
   "source": [
    "timeit.repeat?"
   ]
  },
  {
   "cell_type": "code",
   "execution_count": null,
   "id": "b3683354",
   "metadata": {},
   "outputs": [],
   "source": [
    "# porownaj szybkosc operacji wybierania - poczatek, srodek, koniec\n",
    "\n",
    "import timeit\n",
    "\n",
    "def get_elements(collection):\n",
    "    return collection[0], collection[50000], collection[-1]\n",
    "\n",
    "def measure_get_elements(name, collection, n=100):\n",
    "    t = min(timeit.repeat(partial(get_elements, collection), repeat=4, number=n))\n",
    "    print(f\"{name:15} {t}\")\n",
    "    \n",
    "\n",
    "data = {\n",
    "    \"list\": a,\n",
    "    \"tuple\": b,\n",
    "    \"array\": c,\n",
    "    \"nparray\": d,\n",
    "    \"bytes\": e,\n",
    "    \"bytesarray\": f\n",
    "}\n",
    "\n",
    "for k, v in data.items():\n",
    "    measure_get_elements(k, v)\n",
    "\n"
   ]
  },
  {
   "cell_type": "code",
   "execution_count": null,
   "id": "cb01dc8f",
   "metadata": {},
   "outputs": [],
   "source": [
    "%timeit collection_list.append(255)"
   ]
  },
  {
   "cell_type": "code",
   "execution_count": null,
   "id": "76743ffb",
   "metadata": {},
   "outputs": [],
   "source": [
    "%timeit collection_list.insert(0, 255)"
   ]
  },
  {
   "cell_type": "code",
   "execution_count": null,
   "id": "b62dcb00",
   "metadata": {},
   "outputs": [],
   "source": [
    "len(collection_list)"
   ]
  },
  {
   "cell_type": "markdown",
   "id": "bd005a17",
   "metadata": {},
   "source": [
    "## Słowniki, mapy, tablice haszujace, tablice asocjacyjne\n",
    "\n",
    "### dict"
   ]
  },
  {
   "cell_type": "code",
   "execution_count": null,
   "id": "cd027d5f",
   "metadata": {},
   "outputs": [],
   "source": [
    "g = dict(one=1, two=2, three=3)\n",
    "\n",
    "for el in g: print(el)"
   ]
  },
  {
   "cell_type": "code",
   "execution_count": null,
   "id": "3cc06261",
   "metadata": {},
   "outputs": [],
   "source": [
    "dir(g)"
   ]
  },
  {
   "cell_type": "markdown",
   "id": "6439f497",
   "metadata": {},
   "source": [
    "### collections.OrderedDict"
   ]
  },
  {
   "cell_type": "code",
   "execution_count": null,
   "id": "e7947452",
   "metadata": {},
   "outputs": [],
   "source": [
    "import collections\n",
    "\n",
    "g2 = collections.OrderedDict(one=1, two=2, three=3)"
   ]
  },
  {
   "cell_type": "code",
   "execution_count": null,
   "id": "941926b4",
   "metadata": {},
   "outputs": [],
   "source": [
    "dir(g2)"
   ]
  },
  {
   "cell_type": "code",
   "execution_count": null,
   "id": "a146642e",
   "metadata": {},
   "outputs": [],
   "source": [
    "help(g.popitem)"
   ]
  },
  {
   "cell_type": "code",
   "execution_count": null,
   "id": "137e48f4",
   "metadata": {},
   "outputs": [],
   "source": [
    "help(g2.popitem)"
   ]
  },
  {
   "cell_type": "code",
   "execution_count": null,
   "id": "f1de4b71",
   "metadata": {},
   "outputs": [],
   "source": [
    "help(g2.move_to_end)"
   ]
  },
  {
   "cell_type": "markdown",
   "id": "f6c329e2",
   "metadata": {},
   "source": [
    "### collections.defaultdict"
   ]
  },
  {
   "cell_type": "code",
   "execution_count": null,
   "id": "6293dbb8",
   "metadata": {},
   "outputs": [],
   "source": [
    "g2 = collections.defaultdict(int)\n",
    "\n",
    "g2['a'] += 1"
   ]
  },
  {
   "cell_type": "code",
   "execution_count": null,
   "id": "d5a4cae6",
   "metadata": {},
   "outputs": [],
   "source": [
    "g['a'] += 1"
   ]
  },
  {
   "cell_type": "code",
   "execution_count": null,
   "id": "9ff1b605",
   "metadata": {},
   "outputs": [],
   "source": [
    "g3b = collections.defaultdict(list)\n",
    "\n",
    "g3b[\"dogs\"].append(\"Canis\")"
   ]
  },
  {
   "cell_type": "code",
   "execution_count": null,
   "id": "06f3ef42",
   "metadata": {},
   "outputs": [],
   "source": [
    "g3b"
   ]
  },
  {
   "cell_type": "markdown",
   "id": "79b938d5",
   "metadata": {},
   "source": [
    "### collections.ChainMap\n",
    "\n",
    "grupuje wiele słowników w jedno mapowanie"
   ]
  },
  {
   "cell_type": "code",
   "execution_count": null,
   "id": "858e586c",
   "metadata": {},
   "outputs": [],
   "source": [
    "from collections import ChainMap\n",
    "\n",
    "dict_1 = {\"one\": 1, \"two\":2}\n",
    "dict_2 = {\"three\": 2, \"four\":4, \"one\": 100}\n",
    "\n",
    "chain = ChainMap(dict_1, dict_2)\n",
    "\n",
    "chain[\"one\"] = 50"
   ]
  },
  {
   "cell_type": "code",
   "execution_count": null,
   "id": "10ed9844",
   "metadata": {},
   "outputs": [],
   "source": [
    "from typing import Any\n",
    "\n",
    "def get_value_for_key(key, dicts: list[dict]) -> Any:\n",
    "    for dict_ in dicts:\n",
    "        try:\n",
    "            return dict_[key]\n",
    "        except KeyError:\n",
    "            pass\n",
    "    raise KeyError\n",
    "    \n",
    "    \n",
    "get_value_for_key(\"zzz\", [dict_1, dict_2])"
   ]
  },
  {
   "cell_type": "code",
   "execution_count": null,
   "id": "9cf9b9bd",
   "metadata": {},
   "outputs": [],
   "source": [
    "dict_1"
   ]
  },
  {
   "cell_type": "code",
   "execution_count": null,
   "id": "71a0908e",
   "metadata": {},
   "outputs": [],
   "source": [
    "dict_2"
   ]
  },
  {
   "cell_type": "code",
   "execution_count": null,
   "id": "4e212091",
   "metadata": {},
   "outputs": [],
   "source": [
    "# chain[\"bbb\"]"
   ]
  },
  {
   "cell_type": "markdown",
   "id": "2a4e08f1",
   "metadata": {},
   "source": [
    "### types.MappingProxyType - niemutowalny słownik\n",
    "\n",
    "Od Pythona 3.3 w góre - widok, opakowanie pozwalajace na odczyt"
   ]
  },
  {
   "cell_type": "code",
   "execution_count": null,
   "id": "20e4ad7f",
   "metadata": {},
   "outputs": [],
   "source": [
    "from types import MappingProxyType\n",
    "\n",
    "writable = {\"one\": 1, \"two\":2}\n",
    "read_only = MappingProxyType(writable)\n",
    "\n",
    "read_only"
   ]
  },
  {
   "cell_type": "code",
   "execution_count": null,
   "id": "ae76dea7",
   "metadata": {},
   "outputs": [],
   "source": [
    "type(read_only)"
   ]
  },
  {
   "cell_type": "code",
   "execution_count": null,
   "id": "fa5851c8",
   "metadata": {},
   "outputs": [],
   "source": [
    "read_only[\"one\"] "
   ]
  },
  {
   "cell_type": "code",
   "execution_count": null,
   "id": "8ddc7d7b",
   "metadata": {},
   "outputs": [],
   "source": [
    "# read_only[\"one\"]= 1"
   ]
  },
  {
   "cell_type": "markdown",
   "id": "734af20d",
   "metadata": {},
   "source": [
    "## Rekord, struktury\n",
    "\n",
    "Rekordy to struktury, które zapewniaja stała liczbę pól. Każde pole moze mięc inny typ\n",
    "\n",
    "\n",
    "experyment:\n",
    "\n",
    "\n",
    "| id | data | temperatura | \n",
    "|----|------|-------------|\n",
    "|0|11-02-1980| -2|\n",
    "|1|12-02-1980| -4|\n",
    "|2|13-02-1980| -6|\n",
    "|3|14-02-1980| -8|\n",
    "\n",
    "\n",
    "### dict "
   ]
  },
  {
   "cell_type": "code",
   "execution_count": null,
   "id": "3e43db6a",
   "metadata": {},
   "outputs": [],
   "source": [
    "rekord = {\"id\": 0 ,\"data\":\"11-02-1980\", \"temperatura\": -2 }\n",
    "\n",
    "rekord[\"temperatura\"] "
   ]
  },
  {
   "cell_type": "markdown",
   "id": "0891c12a",
   "metadata": {},
   "source": [
    "    + łatwośc implementacji, \n",
    "    + przenoszenie na inne typy - np JSON\n",
    "    - łatwe w modyfikacji\n",
    "    - podatne na błedy - brak walidacji\n",
    "\n",
    "\n",
    "### tuple:\n",
    "    \n",
    "    (0, \"11-02-1980\", -2)\n",
    "   \n",
    "    \n",
    "    + jest niezmienna\n",
    "    + szybkosc \n",
    "\n",
    "    - nie ma pol\n",
    "    - trudno jest utrzymac struktur - np w kontekscie ilosci indeksow,  (2, \"11-02-1980\", 2)\n",
    "    - brak walidacji\n",
    "    "
   ]
  },
  {
   "cell_type": "markdown",
   "id": "ba4612a7",
   "metadata": {},
   "source": [
    "### klasa"
   ]
  },
  {
   "cell_type": "code",
   "execution_count": null,
   "id": "1806e872",
   "metadata": {},
   "outputs": [],
   "source": [
    "class Temp:\n",
    "    __slots__ = (\"id\",\"data\", \"temperatura\")\n",
    "    def __init__(self, id: int, data: str, temperatura: float):\n",
    "        self.id = id\n",
    "        self.data = data\n",
    "        self.temperatura = temperatura\n",
    "        \n",
    "t = Temp(1, \"11-02-1980\", -2.0)\n",
    "\n",
    "t.temperatura\n",
    "\n",
    "\n",
    "getattr(t, \"temperatura\")"
   ]
  },
  {
   "cell_type": "code",
   "execution_count": null,
   "id": "08113210",
   "metadata": {},
   "outputs": [],
   "source": [
    "t.xxx = \"\""
   ]
  },
  {
   "cell_type": "markdown",
   "id": "b487cc9d",
   "metadata": {},
   "source": [
    "#### Zadanie\n",
    "\n",
    "Porównaj wydajność klas z `__slots__` z punktu widzenia deskryptora\n",
    "\n",
    "deskryptor - to obiekt, ktory pozwala na: pobieranie, ustawianie, kasowanie "
   ]
  },
  {
   "cell_type": "code",
   "execution_count": null,
   "id": "2c81ac8e",
   "metadata": {},
   "outputs": [],
   "source": [
    "class Temp:\n",
    "    \n",
    "    def __init__(self, id: int, data: str, temperatura: float):\n",
    "        self.id = id\n",
    "        self.data = data\n",
    "        self.temperatura = temperatura\n",
    "\n",
    "\n",
    "class TempSlots:\n",
    "    __slots__ = \"id\",\"data\", \"temperatura\", \"__dict__\"\n",
    "    def __init__(self, id: int, data: str, temperatura: float):\n",
    "        self.id = id\n",
    "        self.data = data\n",
    "        self.temperatura = temperatura\n",
    "\n",
    "def get_set_delete_dict(d: dict):\n",
    "    d[\"temperatura\"] = 12.3 \n",
    "    _ = d[\"temperatura\"]\n",
    "    del d[\"temperatura\"]\n",
    "\n",
    "def get_set_delete(temp: Temp | TempSlots):\n",
    "    temp.temperatura = 12.3\n",
    "    _ = temp.temperatura\n",
    "    del temp.temperatura\n",
    "    \n",
    "t = Temp(1, \"11-02-1980\", -2.0)\n",
    "\n",
    "t_slots = TempSlots(1, \"11-02-1980\", -2.0)\n",
    "t_slots.x = 1\n",
    "t_slots.x"
   ]
  },
  {
   "cell_type": "code",
   "execution_count": null,
   "id": "0e559b67",
   "metadata": {},
   "outputs": [],
   "source": [
    "%timeit get_set_delete(t)"
   ]
  },
  {
   "cell_type": "code",
   "execution_count": null,
   "id": "855d2268",
   "metadata": {},
   "outputs": [],
   "source": [
    "%timeit get_set_delete(t_slots)"
   ]
  },
  {
   "cell_type": "code",
   "execution_count": null,
   "id": "d66593dc",
   "metadata": {},
   "outputs": [],
   "source": [
    "%timeit get_set_delete_dict(rekord)"
   ]
  },
  {
   "cell_type": "code",
   "execution_count": null,
   "id": "7ec357e7",
   "metadata": {},
   "outputs": [],
   "source": [
    "(403 -318  ) / 403\n"
   ]
  },
  {
   "cell_type": "code",
   "execution_count": null,
   "id": "88aa774d",
   "metadata": {},
   "outputs": [],
   "source": [
    "import dis \n",
    "\n",
    "def create_tuple(): return (1, 2, 3, 4)\n",
    "\n",
    "def create_list(): return [1, 2, 3, 4]\n",
    "\n",
    "\n",
    "dis.dis(create_tuple)\n",
    "\n"
   ]
  },
  {
   "cell_type": "code",
   "execution_count": null,
   "id": "aa725267",
   "metadata": {},
   "outputs": [],
   "source": [
    "dis.dis(create_list)"
   ]
  },
  {
   "cell_type": "code",
   "execution_count": null,
   "id": "a60a924c",
   "metadata": {},
   "outputs": [],
   "source": [
    "dis.dis(get_set_delete)"
   ]
  },
  {
   "cell_type": "code",
   "execution_count": null,
   "id": "720e43e0",
   "metadata": {},
   "outputs": [],
   "source": [
    "dis.dis(get_set_delete_dict)"
   ]
  },
  {
   "cell_type": "markdown",
   "id": "92690b4e",
   "metadata": {},
   "source": [
    "Przerwa do 14:02"
   ]
  },
  {
   "cell_type": "markdown",
   "id": "bed11aee",
   "metadata": {},
   "source": [
    "### collections.NamedTuple\n",
    "\n",
    "- niemutowalna\n",
    "- umożliwia dostęp do atrybutów (poprzez kropke)\n",
    "- niezla reprezentacja napisowa\n",
    "\n",
    "od pythona2.6"
   ]
  },
  {
   "cell_type": "code",
   "execution_count": null,
   "id": "0ba215a8",
   "metadata": {},
   "outputs": [],
   "source": [
    "from collections import namedtuple\n",
    "\n",
    "Car = namedtuple(\"Car\", \"color mileage automatic\")\n",
    "\n",
    "Car"
   ]
  },
  {
   "cell_type": "code",
   "execution_count": null,
   "id": "dea7a499",
   "metadata": {},
   "outputs": [],
   "source": [
    "car_1 = Car(\"red\", 39000, True)"
   ]
  },
  {
   "cell_type": "code",
   "execution_count": null,
   "id": "746a0e73",
   "metadata": {},
   "outputs": [],
   "source": [
    "car_1"
   ]
  },
  {
   "cell_type": "code",
   "execution_count": null,
   "id": "2e30aed1",
   "metadata": {},
   "outputs": [],
   "source": [
    "car_1.color"
   ]
  },
  {
   "cell_type": "code",
   "execution_count": null,
   "id": "739e5d33",
   "metadata": {},
   "outputs": [],
   "source": [
    "car_1[0]"
   ]
  },
  {
   "cell_type": "markdown",
   "id": "8fda866d",
   "metadata": {},
   "source": [
    "### dataclasses.dataclass\n",
    "\n",
    "Od python 3.7\n",
    "\n",
    "- nie trzeba tworzyć  `__init__`\n",
    "- automatycznie tworzony jest `__repr__`\n",
    "- stosowanie adnotacji metodą dokumentacji\n",
    "\n"
   ]
  },
  {
   "cell_type": "code",
   "execution_count": null,
   "id": "08511c66",
   "metadata": {},
   "outputs": [],
   "source": [
    "class Car:\n",
    "    __slots__ = \"color\", \"mileage\", \"automatic\"\n",
    "    \n",
    "    color: str\n",
    "    mileage: float\n",
    "    automatic: bool\n",
    "        \n",
    "        \n",
    "c = Car()\n",
    "c2 = Car()\n",
    "c.color = \"red\"\n",
    "c2.color = \"green\"\n",
    "\n",
    "Car.color, c2.color, c.color"
   ]
  },
  {
   "cell_type": "code",
   "execution_count": null,
   "id": "53e1f86d",
   "metadata": {},
   "outputs": [],
   "source": [
    "from dataclasses import dataclass\n",
    "\n",
    "@dataclass\n",
    "class Car:\n",
    "    _id = 0\n",
    "    color: str\n",
    "    mileage: float\n",
    "    automatic: bool\n",
    "\n",
    "c = Car(\"red\", 39000, True)\n",
    "Car._id = 10\n",
    "\n",
    "# c._id = 10\n",
    "\n",
    "Car._id, c._id"
   ]
  },
  {
   "cell_type": "markdown",
   "id": "0f45645d",
   "metadata": {},
   "source": [
    "### typing.NamedTuple"
   ]
  },
  {
   "cell_type": "code",
   "execution_count": null,
   "id": "7a53b042",
   "metadata": {},
   "outputs": [],
   "source": [
    "from typing import NamedTuple\n",
    "\n",
    "class Car(NamedTuple):\n",
    "    color: str\n",
    "    mileage: float\n",
    "    automatic: bool\n",
    "        \n",
    "c = Car(\"red\", 39000, True)\n",
    "c, type(c), dir(c)"
   ]
  },
  {
   "cell_type": "markdown",
   "id": "c0133853",
   "metadata": {},
   "source": [
    "### struct.Struct\n",
    "\n"
   ]
  },
  {
   "cell_type": "code",
   "execution_count": null,
   "id": "5007bf0e",
   "metadata": {},
   "outputs": [],
   "source": [
    "import struct\n",
    "\n",
    "struct.Struct?\n",
    "\n",
    "MyStruct = struct.Struct(\"i?f\")\n",
    "\n",
    "data = MyStruct.pack(23, True, 42.0)\n",
    "\n",
    "data"
   ]
  },
  {
   "cell_type": "code",
   "execution_count": null,
   "id": "2f61a849",
   "metadata": {},
   "outputs": [],
   "source": [
    "MyStruct.unpack(data)"
   ]
  },
  {
   "cell_type": "markdown",
   "id": "c2e9500e",
   "metadata": {},
   "source": [
    "### types.SimpleNamespace"
   ]
  },
  {
   "cell_type": "code",
   "execution_count": null,
   "id": "ca493bb1",
   "metadata": {},
   "outputs": [],
   "source": [
    "from types import SimpleNamespace\n",
    "\n",
    "car1 = SimpleNamespace(color=\"red\", mileage=38000, automatic=False)\n",
    "\n",
    "car1"
   ]
  },
  {
   "cell_type": "code",
   "execution_count": null,
   "id": "9459e100",
   "metadata": {},
   "outputs": [],
   "source": [
    "car1.automatic"
   ]
  },
  {
   "cell_type": "markdown",
   "id": "2b79f74e",
   "metadata": {},
   "source": [
    "## Sets i Multisets\n",
    "\n",
    "### set\n",
    "\n",
    "### frozenset\n",
    "\n",
    "### collections.Counter"
   ]
  },
  {
   "cell_type": "code",
   "execution_count": null,
   "id": "18a7de84",
   "metadata": {},
   "outputs": [],
   "source": [
    "from collections import Counter\n",
    "\n",
    "inventory = Counter()\n",
    "\n"
   ]
  },
  {
   "cell_type": "code",
   "execution_count": null,
   "id": "5f79351b",
   "metadata": {},
   "outputs": [],
   "source": [
    "loot = {\"sword\": 1, \"bread\": 3}\n",
    "inventory.update(loot)\n",
    "\n",
    "inventory"
   ]
  },
  {
   "cell_type": "code",
   "execution_count": null,
   "id": "c6c4bce9",
   "metadata": {},
   "outputs": [],
   "source": [
    "more_loot = {\"sword\": 1, \"bread\": 3, \"shield\": 3}"
   ]
  },
  {
   "cell_type": "code",
   "execution_count": null,
   "id": "9a859b63",
   "metadata": {},
   "outputs": [],
   "source": [
    "inventory.update(more_loot)"
   ]
  },
  {
   "cell_type": "code",
   "execution_count": null,
   "id": "4cfc4625",
   "metadata": {},
   "outputs": [],
   "source": [
    "inventory"
   ]
  },
  {
   "cell_type": "code",
   "execution_count": null,
   "id": "5e9eda4c",
   "metadata": {},
   "outputs": [],
   "source": []
  },
  {
   "cell_type": "markdown",
   "id": "a06c2209",
   "metadata": {},
   "source": [
    "#### Policzyc znaki w napisie\n",
    "\n",
    "    x = policz_znaki(\"aaabb\")\n",
    "    x[\"a\"]\n",
    "    3"
   ]
  },
  {
   "cell_type": "code",
   "execution_count": null,
   "id": "bd34fea5",
   "metadata": {},
   "outputs": [],
   "source": [
    "def policz_znaki(text):\n",
    "    return Counter(text)\n",
    "\n",
    "policz_znaki(\"aaabb\")[\"a\"] == 3"
   ]
  },
  {
   "cell_type": "markdown",
   "id": "90790fb1",
   "metadata": {},
   "source": [
    "## Stosy\n",
    "\n",
    "LIFO (Last In First Out)\n",
    "\n",
    "#### Zadanie - \n",
    "\n",
    "zaimplementuj prosty stos w pythonie - `Stos` ma mieć metody push i pop\n",
    "\n",
    "    >>> s = Stos()\n",
    "    >>> s.push(1)\n",
    "    >>> s.pop()\n",
    "    1\n",
    "    >>> s.pop()\n",
    "    None"
   ]
  },
  {
   "cell_type": "markdown",
   "id": "98cf4265",
   "metadata": {},
   "source": [
    "### list"
   ]
  },
  {
   "cell_type": "code",
   "execution_count": null,
   "id": "a5f42677",
   "metadata": {},
   "outputs": [],
   "source": [
    "class Stos:\n",
    "    \n",
    "    def __init__(self):\n",
    "        self.stack = []\n",
    "        \n",
    "    def push(self, value):\n",
    "        self.stack.append(value)\n",
    "        \n",
    "    def pop(self):\n",
    "        try:\n",
    "            value = self.stack.pop()\n",
    "        except IndexError:\n",
    "            value = None\n",
    "        return value\n",
    "        \n",
    "    \n",
    "s = Stos()\n",
    "s.push(1)\n",
    "s.pop() == 1"
   ]
  },
  {
   "cell_type": "code",
   "execution_count": null,
   "id": "a1e189a4",
   "metadata": {},
   "outputs": [],
   "source": [
    "s.pop()\n"
   ]
  },
  {
   "cell_type": "markdown",
   "id": "bac17fb6",
   "metadata": {},
   "source": [
    "### collections.deque\n",
    "\n",
    "- definiuje podwojna kolejke, ktora obsluguje dodawanie i usuwanie z oby strony w czasie O(1)\n"
   ]
  },
  {
   "cell_type": "code",
   "execution_count": null,
   "id": "d27bbe3b",
   "metadata": {},
   "outputs": [],
   "source": [
    "from collections import deque\n",
    "\n",
    "s = deque()\n",
    "s.append(\"eat\")\n",
    "s.append(\"sleep\")\n",
    "s.append(\"code\")\n",
    "\n",
    "s"
   ]
  },
  {
   "cell_type": "code",
   "execution_count": null,
   "id": "a8d2406f",
   "metadata": {},
   "outputs": [],
   "source": [
    "s.pop()"
   ]
  },
  {
   "cell_type": "markdown",
   "id": "d6861d0f",
   "metadata": {},
   "source": [
    "#### zmodyfikuj klase Stos tak by mozna bylo wskazywac na podstawie czego ma byc tworzona. Porownaj czasy dodawania do stosu i zdjemowania ze stosu\n",
    "\n",
    "    s = Stos(base=deque)\n",
    "\n",
    "    s2 = Stos(base=list)\n",
    "\n",
    "    s.append(1)\n",
    "    s.pop()\n",
    "\n",
    "    s2.append(1)\n",
    "    s2.pop()\n",
    "\n"
   ]
  },
  {
   "cell_type": "code",
   "execution_count": null,
   "id": "3a424e4a",
   "metadata": {},
   "outputs": [],
   "source": [
    "from abc import ABC, abstractmethod\n",
    "\n",
    "\n",
    "class BaseStackInterface(ABC):\n",
    "    @abstractmethod\n",
    "    def append(self, value): pass\n",
    "\n",
    "    \n",
    "    @abstractmethod\n",
    "    def pop(self): pass\n",
    "\n",
    "    \n",
    "class BaseList(BaseStackInterface):\n",
    "    \n",
    "    def __init__(self):\n",
    "        self.container = []\n",
    "        \n",
    "    def append(self, value):\n",
    "        self.container.append(value)\n",
    "        \n",
    "    def pop(self):\n",
    "        return self.container.pop()\n",
    "    \n",
    "class Stos:\n",
    "    \n",
    "    def __init__(self, base: BaseStackInterface):\n",
    "        self.stack = base\n",
    "        \n",
    "    def push(self, value):\n",
    "        self.stack.append(value)\n",
    "        \n",
    "    def pop(self):\n",
    "        try:\n",
    "            value = self.stack.pop()\n",
    "        except IndexError:\n",
    "            value = None\n",
    "        return value\n",
    "        \n",
    "bl = BaseList()   \n",
    "s = Stos(bl)\n",
    "s.push(1)\n",
    "s.pop() == 1"
   ]
  },
  {
   "cell_type": "markdown",
   "id": "36f9d937",
   "metadata": {},
   "source": [
    "Zmusilismy sie do implementacji klas spelniajacych interfejs bazowej kolejki. \n",
    "\n",
    "### queue.LifoQueue\n",
    "\n",
    "W przypadki współbieżności\n"
   ]
  },
  {
   "cell_type": "code",
   "execution_count": null,
   "id": "4423a496",
   "metadata": {},
   "outputs": [],
   "source": [
    "from queue import LifoQueue\n",
    "\n",
    "s = LifoQueue()\n",
    "s.put(\"eat\")\n",
    "s.put(\"sleep\")\n",
    "s.put_nowait(\"code\")\n",
    "s\n",
    "\n",
    "    "
   ]
  },
  {
   "cell_type": "code",
   "execution_count": null,
   "id": "103aa17f",
   "metadata": {},
   "outputs": [],
   "source": [
    "# s.get_nowait() # => Empty exception"
   ]
  },
  {
   "cell_type": "markdown",
   "id": "c2dfa716",
   "metadata": {},
   "source": [
    "Przerwa do 15:40"
   ]
  },
  {
   "cell_type": "markdown",
   "id": "a0234e4f",
   "metadata": {},
   "source": [
    "## Kolejki \n",
    "\n",
    "FIFO"
   ]
  },
  {
   "cell_type": "markdown",
   "id": "a4ebc8c0",
   "metadata": {},
   "source": [
    "### Lista \n",
    "\n",
    "Słabo się nadaje do kolejki, ponieważ wstawianie na początek kolejki jest kosztowna operacja dla listy\n",
    "\n",
    "\n",
    "\n"
   ]
  },
  {
   "cell_type": "code",
   "execution_count": 31,
   "id": "5d1dd610",
   "metadata": {},
   "outputs": [
    {
     "data": {
      "text/plain": [
       "['eat', 'sleep', 'code']"
      ]
     },
     "execution_count": 31,
     "metadata": {},
     "output_type": "execute_result"
    }
   ],
   "source": [
    "q =[]\n",
    "q.append(\"eat\")\n",
    "q.append(\"sleep\")\n",
    "q.append(\"code\")\n",
    "\n",
    "q"
   ]
  },
  {
   "cell_type": "code",
   "execution_count": 48,
   "id": "6f8d2d41",
   "metadata": {},
   "outputs": [],
   "source": [
    "x = list(range(10000000))"
   ]
  },
  {
   "cell_type": "code",
   "execution_count": 45,
   "id": "e23d1a61",
   "metadata": {},
   "outputs": [
    {
     "name": "stdout",
     "output_type": "stream",
     "text": [
      "54.5 ns ± 2.41 ns per loop (mean ± std. dev. of 7 runs, 100,000 loops each)\n"
     ]
    }
   ],
   "source": [
    "%timeit -n 100000 x.pop()"
   ]
  },
  {
   "cell_type": "code",
   "execution_count": 49,
   "id": "5f0b50ca",
   "metadata": {},
   "outputs": [
    {
     "name": "stdout",
     "output_type": "stream",
     "text": [
      "6.57 ms ± 86.8 µs per loop (mean ± std. dev. of 7 runs, 100 loops each)\n"
     ]
    }
   ],
   "source": [
    "%timeit x.pop(0)"
   ]
  },
  {
   "cell_type": "markdown",
   "id": "46895a1d",
   "metadata": {},
   "source": [
    "### collections.deque"
   ]
  },
  {
   "cell_type": "code",
   "execution_count": 50,
   "id": "b3f0e558",
   "metadata": {},
   "outputs": [
    {
     "data": {
      "text/plain": [
       "deque(['eat', 'sleep', 'code'])"
      ]
     },
     "execution_count": 50,
     "metadata": {},
     "output_type": "execute_result"
    }
   ],
   "source": [
    "from collections import deque\n",
    "\n",
    "q = deque()\n",
    "q.append(\"eat\")\n",
    "q.append(\"sleep\")\n",
    "q.append(\"code\")\n",
    "\n",
    "q"
   ]
  },
  {
   "cell_type": "code",
   "execution_count": 53,
   "id": "46862c33",
   "metadata": {},
   "outputs": [
    {
     "data": {
      "text/plain": [
       "'code'"
      ]
     },
     "execution_count": 53,
     "metadata": {},
     "output_type": "execute_result"
    }
   ],
   "source": [
    "q.popleft()"
   ]
  },
  {
   "cell_type": "code",
   "execution_count": 58,
   "id": "2db4cbe3",
   "metadata": {},
   "outputs": [],
   "source": [
    "x = deque(range(10000000))"
   ]
  },
  {
   "cell_type": "code",
   "execution_count": 57,
   "id": "4c629f3e",
   "metadata": {},
   "outputs": [
    {
     "name": "stdout",
     "output_type": "stream",
     "text": [
      "58.3 ns ± 3.73 ns per loop (mean ± std. dev. of 7 runs, 100,000 loops each)\n"
     ]
    }
   ],
   "source": [
    "%timeit -n 100000 x.pop()"
   ]
  },
  {
   "cell_type": "code",
   "execution_count": 59,
   "id": "e0b3e309",
   "metadata": {},
   "outputs": [
    {
     "name": "stdout",
     "output_type": "stream",
     "text": [
      "58.4 ns ± 1.51 ns per loop (mean ± std. dev. of 7 runs, 100,000 loops each)\n"
     ]
    }
   ],
   "source": [
    "%timeit -n 100000 x.popleft()"
   ]
  },
  {
   "cell_type": "markdown",
   "id": "24cbb82f",
   "metadata": {},
   "source": [
    "### queue.Queue\n",
    "\n"
   ]
  },
  {
   "cell_type": "code",
   "execution_count": 87,
   "id": "891954ac",
   "metadata": {},
   "outputs": [],
   "source": [
    "from queue import Queue\n",
    "\n",
    "x = Queue()\n",
    "y = list((x.put(i) for i in range(10000000)))"
   ]
  },
  {
   "cell_type": "code",
   "execution_count": 88,
   "id": "8ea35e9f",
   "metadata": {},
   "outputs": [
    {
     "data": {
      "text/plain": [
       "10000000"
      ]
     },
     "execution_count": 88,
     "metadata": {},
     "output_type": "execute_result"
    }
   ],
   "source": [
    "x.qsize()"
   ]
  },
  {
   "cell_type": "code",
   "execution_count": 82,
   "id": "88750d02",
   "metadata": {},
   "outputs": [],
   "source": [
    "%timeit"
   ]
  },
  {
   "cell_type": "code",
   "execution_count": 95,
   "id": "66d1e9f0",
   "metadata": {},
   "outputs": [],
   "source": [
    "def gen():\n",
    "    yield 1\n",
    "    yield 2\n",
    "    yield 3\n",
    "    \n",
    "g = gen()"
   ]
  },
  {
   "cell_type": "code",
   "execution_count": 97,
   "id": "6828de9c",
   "metadata": {},
   "outputs": [
    {
     "data": {
      "text/plain": [
       "104"
      ]
     },
     "execution_count": 97,
     "metadata": {},
     "output_type": "execute_result"
    }
   ],
   "source": [
    "import sys\n",
    "sys.getsizeof(g)"
   ]
  },
  {
   "cell_type": "code",
   "execution_count": 110,
   "id": "f8688820",
   "metadata": {},
   "outputs": [],
   "source": [
    "lista = list(range(3))"
   ]
  },
  {
   "cell_type": "code",
   "execution_count": 104,
   "id": "248b7a9d",
   "metadata": {},
   "outputs": [
    {
     "data": {
      "text/plain": [
       "80"
      ]
     },
     "execution_count": 104,
     "metadata": {},
     "output_type": "execute_result"
    }
   ],
   "source": [
    "sys.getsizeof(lista)"
   ]
  },
  {
   "cell_type": "code",
   "execution_count": 127,
   "id": "0bd52358",
   "metadata": {},
   "outputs": [],
   "source": [
    "def evengen():\n",
    "    i = 0\n",
    "    while True:\n",
    "        yield i \n",
    "        i += 2\n",
    "    "
   ]
  },
  {
   "cell_type": "code",
   "execution_count": 128,
   "id": "1ba27253",
   "metadata": {},
   "outputs": [],
   "source": [
    "g = evengen()"
   ]
  },
  {
   "cell_type": "code",
   "execution_count": 129,
   "id": "5135462e",
   "metadata": {},
   "outputs": [
    {
     "data": {
      "text/plain": [
       "104"
      ]
     },
     "execution_count": 129,
     "metadata": {},
     "output_type": "execute_result"
    }
   ],
   "source": [
    "sys.getsizeof(g)"
   ]
  },
  {
   "cell_type": "code",
   "execution_count": 132,
   "id": "d105180b",
   "metadata": {},
   "outputs": [
    {
     "data": {
      "text/plain": [
       "4"
      ]
     },
     "execution_count": 132,
     "metadata": {},
     "output_type": "execute_result"
    }
   ],
   "source": [
    "next(g)"
   ]
  },
  {
   "cell_type": "code",
   "execution_count": 133,
   "id": "382a9eb0",
   "metadata": {},
   "outputs": [
    {
     "name": "stdout",
     "output_type": "stream",
     "text": [
      "1.4 µs ± 69.2 ns per loop (mean ± std. dev. of 7 runs, 100,000 loops each)\n"
     ]
    }
   ],
   "source": [
    "%timeit -n 100000 x.get_nowait()"
   ]
  },
  {
   "cell_type": "markdown",
   "id": "9d22a810",
   "metadata": {},
   "source": [
    "## Kolejki priorytetow\n",
    "\n",
    "### lista"
   ]
  },
  {
   "cell_type": "code",
   "execution_count": 139,
   "id": "d851b71c",
   "metadata": {},
   "outputs": [
    {
     "data": {
      "text/plain": [
       "[(3, 'sleep'), (2, 'code'), (1, 'eat')]"
      ]
     },
     "execution_count": 139,
     "metadata": {},
     "output_type": "execute_result"
    }
   ],
   "source": [
    "y = []\n",
    "y.append((2, \"code\"))\n",
    "y.append((3, \"sleep\"))\n",
    "y.append((1, \"eat\"))\n",
    "y.sort(reverse=True)\n",
    "y"
   ]
  },
  {
   "cell_type": "code",
   "execution_count": 140,
   "id": "c993f21f",
   "metadata": {},
   "outputs": [
    {
     "name": "stdout",
     "output_type": "stream",
     "text": [
      "(1, 'eat')\n",
      "(2, 'code')\n",
      "(3, 'sleep')\n"
     ]
    }
   ],
   "source": [
    "while y:\n",
    "    next_item = y.pop()\n",
    "    print(next_item)"
   ]
  },
  {
   "cell_type": "markdown",
   "id": "8794e406",
   "metadata": {},
   "source": [
    "### heapq"
   ]
  },
  {
   "cell_type": "code",
   "execution_count": 145,
   "id": "40993a52",
   "metadata": {},
   "outputs": [
    {
     "name": "stdout",
     "output_type": "stream",
     "text": [
      "(2, 'code')\n",
      "(1, 'eat')\n",
      "(3, 'sleep')\n"
     ]
    }
   ],
   "source": [
    "import heapq\n",
    "\n",
    "q = []\n",
    "\n",
    "# heapq.heappush(q, (2, \"code\"))\n",
    "# heapq.heappush(q, (3, \"sleep\"))\n",
    "# heapq.heappush(q, (1, \"eat\"))\n",
    "\n",
    "q.append((2, \"code\"))\n",
    "q.append((3, \"sleep\"))\n",
    "q.append((1, \"eat\"))\n",
    "\n",
    "\n",
    "while q:\n",
    "    next_item = heapq.heappop(q)\n",
    "    print(next_item)"
   ]
  },
  {
   "cell_type": "code",
   "execution_count": 146,
   "id": "6d0d24f3",
   "metadata": {},
   "outputs": [
    {
     "data": {
      "text/plain": [
       "['__about__',\n",
       " '__all__',\n",
       " '__builtins__',\n",
       " '__cached__',\n",
       " '__doc__',\n",
       " '__file__',\n",
       " '__loader__',\n",
       " '__name__',\n",
       " '__package__',\n",
       " '__spec__',\n",
       " '_heapify_max',\n",
       " '_heappop_max',\n",
       " '_heapreplace_max',\n",
       " '_siftdown',\n",
       " '_siftdown_max',\n",
       " '_siftup',\n",
       " '_siftup_max',\n",
       " 'heapify',\n",
       " 'heappop',\n",
       " 'heappush',\n",
       " 'heappushpop',\n",
       " 'heapreplace',\n",
       " 'merge',\n",
       " 'nlargest',\n",
       " 'nsmallest']"
      ]
     },
     "execution_count": 146,
     "metadata": {},
     "output_type": "execute_result"
    }
   ],
   "source": [
    "dir(heapq)"
   ]
  },
  {
   "cell_type": "code",
   "execution_count": 148,
   "id": "101e785a",
   "metadata": {},
   "outputs": [],
   "source": [
    "heapq??"
   ]
  },
  {
   "cell_type": "markdown",
   "id": "2ec849e9",
   "metadata": {},
   "source": [
    "### queue.PriorityQueue\n",
    "\n"
   ]
  },
  {
   "cell_type": "code",
   "execution_count": 150,
   "id": "98297fb4",
   "metadata": {},
   "outputs": [
    {
     "name": "stdout",
     "output_type": "stream",
     "text": [
      "(1, 'eat')\n",
      "(2, 'code')\n",
      "(3, 'sleep')\n"
     ]
    }
   ],
   "source": [
    "from queue import PriorityQueue\n",
    "q = PriorityQueue()\n",
    "q.put((2, \"code\"))\n",
    "q.put((1, \"eat\"))\n",
    "q.put((3, \"sleep\"))\n",
    "\n",
    "while not q.empty():\n",
    "    next_item = q.get()\n",
    "    print(next_item)"
   ]
  },
  {
   "cell_type": "markdown",
   "id": "b6fc54ca",
   "metadata": {},
   "source": [
    "### \n",
    "\n",
    "Napisz funkcję, która zaakceptuje napis i zwróci słownik lub podobny do słownika obiekt, w którym słowa będą kluczem a wartościami będą wystąpienia słów.\n",
    "\n",
    "Np.:\n",
    "\n",
    "    >>> count_words(\"oh what a day what a lovely day\")\n",
    "    {'oh': 1, 'what': 2, 'a': 2, 'day': 2, 'lovely': 1}\n",
    "    >>> count_words(\"don't stop believing\")\n",
    "    {\"don't\": 1, 'stop': 1, 'believing': 1}\n",
    "\n",
    "#### bonus 1\n",
    "\n",
    "Zadbaj o to, by wielkość liter nie miała znaczenia.\n",
    "\n",
    "#### bonus 2 (zaawansowania - regexp)\n",
    "\n",
    "Ignoruj wszystkie znaki interpunkcyjne."
   ]
  },
  {
   "cell_type": "code",
   "execution_count": 151,
   "id": "90e77995",
   "metadata": {},
   "outputs": [
    {
     "name": "stdout",
     "output_type": "stream",
     "text": [
      "Writing count_test.py\n"
     ]
    }
   ],
   "source": [
    "%%writefile count_test.py\n",
    "from __future__ import unicode_literals\n",
    "from contextlib import redirect_stdout\n",
    "from io import StringIO\n",
    "import unittest\n",
    "\n",
    "\n",
    "from count import count_words\n",
    "\n",
    "\n",
    "class CountWordsTests(unittest.TestCase):\n",
    "\n",
    "    \"\"\"Tests for count_words.\"\"\"\n",
    "\n",
    "    def test_zreturn_instead_of_print(self):\n",
    "        with redirect_stdout(StringIO()) as stdout:\n",
    "            actual = count_words(\"oh what a day what a lovely day\")\n",
    "        output = stdout.getvalue().strip()\n",
    "        if actual is None and output:\n",
    "            self.fail(\n",
    "                \"\\n\\nUh oh!\\n\"\n",
    "                \"It looks like you may have printed instead of returning.\\n\"\n",
    "                f\"None was returned but this was printed:\\n{output}\"\n",
    "            )\n",
    "\n",
    "    def test_simple_sentence(self):\n",
    "        actual = count_words(\"oh what a day what a lovely day\")\n",
    "        expected = {'oh': 1, 'what': 2, 'a': 2, 'day': 2, 'lovely': 1}\n",
    "        self.assertEqual(actual, expected)\n",
    "\n",
    "    def test_apostrophe(self):\n",
    "        actual = count_words(\"don't stop believing\")\n",
    "        expected = {\"don't\": 1, 'stop': 1, 'believing': 1}\n",
    "        self.assertEqual(actual, expected)\n",
    "\n",
    "    # To test the Bonus part of this exercise, comment out the following line\n",
    "    @unittest.expectedFailure\n",
    "    def test_capitalization(self):\n",
    "        actual = count_words(\"Oh what a day what a lovely day\")\n",
    "        expected = {'oh': 1, 'what': 2, 'a': 2, 'day': 2, 'lovely': 1}\n",
    "        self.assertEqual(actual, expected)\n",
    "\n",
    "    # To test the Bonus part of this exercise, comment out the following line\n",
    "    @unittest.expectedFailure\n",
    "    def test_symbols(self):\n",
    "        actual = count_words(\"Oh what a day, what a lovely day!\")\n",
    "        expected = {'oh': 1, 'what': 2, 'a': 2, 'day': 2, 'lovely': 1}\n",
    "        self.assertEqual(actual, expected)\n",
    "        actual = count_words(\"¿Te gusta Python?\")\n",
    "        expected = {'te': 1, 'gusta': 1, 'python': 1}\n",
    "        self.assertEqual(actual, expected)\n",
    "\n",
    "\n",
    "class AllowUnexpectedSuccessRunner(unittest.TextTestRunner):\n",
    "    \"\"\"Custom test runner to avoid FAILED message on unexpected successes.\"\"\"\n",
    "    class resultclass(unittest.TextTestResult):\n",
    "        def wasSuccessful(self):\n",
    "            return not (self.failures or self.errors)\n",
    "\n",
    "\n",
    "if __name__ == \"__main__\":\n",
    "    from platform import python_version\n",
    "    import sys\n",
    "    if sys.version_info < (3, 6):\n",
    "        sys.exit(\"Running {}.  Python 3.6 required.\".format(python_version()))\n",
    "    unittest.main(verbosity=2, testRunner=AllowUnexpectedSuccessRunner)\n"
   ]
  },
  {
   "cell_type": "code",
   "execution_count": 158,
   "id": "438586b8",
   "metadata": {},
   "outputs": [],
   "source": [
    "pattern = \"\\b\\w+\\b\""
   ]
  },
  {
   "cell_type": "code",
   "execution_count": 165,
   "id": "2dbdf98c",
   "metadata": {},
   "outputs": [
    {
     "data": {
      "text/plain": [
       "['oh',\n",
       " 'what',\n",
       " 'a',\n",
       " 'day',\n",
       " 'what',\n",
       " 'a',\n",
       " 'lovely',\n",
       " 'day',\n",
       " '1233',\n",
       " 'nice',\n",
       " 'smith',\n",
       " 's']"
      ]
     },
     "execution_count": 165,
     "metadata": {},
     "output_type": "execute_result"
    }
   ],
   "source": [
    "import re\n",
    "\n",
    "pattern = re.compile(\"\\\\b\\w+\\\\b\")\n",
    "pattern = re.compile(r\"\\b\\w+\\b\")\n",
    "\n",
    "pattern.findall( \"oh what a day what a lovely day 1233 nice smith's\")\n"
   ]
  },
  {
   "cell_type": "code",
   "execution_count": 159,
   "id": "7b8c2704",
   "metadata": {},
   "outputs": [
    {
     "data": {
      "text/plain": [
       "[]"
      ]
     },
     "execution_count": 159,
     "metadata": {},
     "output_type": "execute_result"
    }
   ],
   "source": [
    "re.findall(pattern, \"oh what a day what a lovely day 1233 nice smith's\" )"
   ]
  },
  {
   "cell_type": "code",
   "execution_count": 166,
   "id": "87aece31",
   "metadata": {},
   "outputs": [
    {
     "name": "stdout",
     "output_type": "stream",
     "text": [
      "Writing dane.txt\n"
     ]
    }
   ],
   "source": [
    "%%writefile dane.txt\n",
    "\n",
    "Lorem ipsum 82-621 dolor sit user-88@email.com amet, consectetur adipiscing elit, sed do eiusmod user-6@email.com tempor user-93@email.edu.pl incididunt ut labore et dolore user-97@email.gov.uk magna aliqua. Ut enim ad minim veniam, quis nostrud user-54@email.gov.uk exercitation 41-764 ullamco 17-704 laboris user-28@email.gov.uk nisi ut aliquip ex ea commodo consequat. Duis aute irure user-76@email.gov.uk dolor in reprehenderit in voluptate velit esse cillum user-52@email.com dolore eu fugiat nulla pariatur. Excepteur sint 18 Feb 2009 occaecat cupidatat non proident, sunt 32-223 in culpa 17-106 qui officia deserunt mollit 66-292 anim id est laborum.\n",
    "Lorem ipsum dolor user-62@email.gov.uk sit amet, consectetur adipiscing elit, 12-403 sed do eiusmod tempor incididunt ut labore et 35-102 dolore 55-447 magna aliqua. Ut enim ad minim veniam, quis nostrud exercitation ullamco laboris nisi ut aliquip ex ea commodo consequat. Duis 84-557 aute irure user-63@email.gov.uk dolor in reprehenderit in 27-892 voluptate velit esse cillum dolore eu fugiat nulla pariatur. Excepteur sint occaecat cupidatat non proident, sunt in culpa qui officia deserunt mollit anim id est laborum.\n",
    "Lorem ipsum dolor sit amet, consectetur adipiscing elit, sed user-2@email.edu.pl do eiusmod user-28@email.pl tempor incididunt ut labore et dolore 20 Apr 2006 magna aliqua. Ut enim user-51@email.pl ad minim 22 Dec 1992 veniam, quis user-58@email.pl nostrud exercitation 20-681 ullamco laboris nisi ut aliquip 11 Dec 2003 ex ea commodo consequat. Duis aute 36-855 irure dolor in reprehenderit 87-892 in voluptate user-56@email.pl velit 19 Jan 2001 esse cillum dolore 25 Jul 2009 eu fugiat nulla pariatur. Excepteur sint 48-216 occaecat cupidatat 05 Apr 1990 non proident, sunt in culpa qui officia 55-640 deserunt mollit anim id est laborum.\n",
    "Lorem ipsum 24 Jan 1994 dolor sit user-49@email.pl amet, consectetur adipiscing elit, sed do 16-427 eiusmod user-79@email.pl tempor incididunt ut labore et dolore magna aliqua. Ut enim ad minim veniam, quis nostrud exercitation ullamco laboris nisi ut aliquip 34-147 ex ea user-30@email.pl commodo 24 Dec 2005 consequat. Duis aute irure dolor in reprehenderit in voluptate velit esse cillum user-31@email.com dolore eu fugiat user-7@email.edu.pl nulla pariatur. Excepteur sint occaecat cupidatat non proident, sunt in culpa qui user-55@email.pl officia user-36@email.com deserunt user-39@email.com mollit anim id est user-37@email.pl laborum.\n",
    "Lorem ipsum 79-617 dolor 57-807 sit user-13@email.pl amet, consectetur adipiscing elit, 25 Oct 1995 sed do eiusmod 60-468 tempor incididunt ut labore et dolore magna aliqua. Ut enim ad 26 Aug 1996 minim veniam, quis nostrud exercitation ullamco laboris nisi 77-839 ut aliquip ex ea commodo consequat. Duis 29-881 aute irure dolor in reprehenderit in voluptate velit esse cillum dolore eu fugiat user-52@email.com nulla pariatur. Excepteur sint occaecat cupidatat non user-58@email.pl proident, sunt in culpa qui 21 Jan 1992 officia deserunt mollit anim id est laborum.\n",
    "Lorem ipsum dolor 16-974 sit amet, consectetur adipiscing 19 Oct 1992 elit, sed do eiusmod tempor incididunt ut labore et dolore magna aliqua. Ut enim ad user-31@email.pl minim 21 Dec 2007 veniam, 73-331 quis nostrud exercitation 02 Mar 1995 ullamco laboris 01 Nov 1993 nisi ut aliquip ex ea 18 Nov 1993 commodo user-25@email.gov.uk consequat. Duis aute 12 Aug 1996 irure dolor in reprehenderit in voluptate 24-870 velit 01 Sep 2007 esse user-79@email.edu.pl cillum 71-568 dolore eu fugiat nulla pariatur. Excepteur sint occaecat cupidatat non 85-308 proident, sunt in culpa user-35@email.pl qui user-75@email.com officia deserunt mollit anim user-24@email.edu.pl id est laborum.\n",
    "37-719 Lorem ipsum dolor sit amet, consectetur adipiscing elit, sed do eiusmod tempor incididunt user-54@email.pl ut labore et dolore 39-165 magna aliqua. Ut enim 18-775 ad minim veniam, quis nostrud exercitation ullamco laboris nisi ut aliquip ex 15 Jun 1990 ea commodo consequat. Duis aute irure dolor 79-793 in 21-411 reprehenderit in 16 Oct 2003 voluptate velit esse user-8@email.edu.pl cillum dolore eu 16 Jun 1996 fugiat nulla pariatur. 68-849 Excepteur sint occaecat cupidatat non proident, sunt in culpa qui officia deserunt mollit anim 02 May 1993 id est laborum.\n",
    "Lorem ipsum dolor sit amet, consectetur adipiscing elit, 29 Jun 2005 sed do eiusmod tempor incididunt ut labore et dolore magna aliqua. Ut enim ad minim 54-200 veniam, quis nostrud exercitation ullamco laboris nisi ut user-71@email.gov.uk aliquip ex ea commodo consequat. Duis aute irure dolor in reprehenderit in voluptate velit esse cillum 19-591 dolore eu user-55@email.edu.pl fugiat nulla pariatur. Excepteur user-3@email.com sint occaecat cupidatat non proident, sunt in culpa qui officia deserunt mollit anim id est laborum.\n",
    "Lorem ipsum dolor sit amet, consectetur adipiscing user-1@email.gov.uk elit, sed do eiusmod tempor incididunt ut labore et 12 Mar 1993 dolore magna aliqua. Ut enim ad 73-327 minim veniam, quis nostrud exercitation ullamco 56-878 laboris nisi 69-185 ut aliquip ex ea user-48@email.gov.uk commodo consequat. Duis aute irure dolor in user-55@email.com reprehenderit in voluptate velit esse cillum dolore eu fugiat nulla pariatur. Excepteur sint occaecat cupidatat non proident, user-45@email.gov.uk sunt in culpa qui officia deserunt mollit anim id est laborum.\n",
    "23-685 Lorem ipsum dolor user-30@email.gov.uk sit amet, consectetur adipiscing 17 Jun 1990 elit, sed do eiusmod tempor incididunt ut labore user-41@email.edu.pl et dolore magna aliqua. Ut enim 46-482 ad 71-121 minim veniam, quis nostrud exercitation ullamco 02 Sep 1999 laboris user-70@email.gov.uk nisi ut 24 Nov 1998 aliquip ex ea commodo consequat. Duis aute irure dolor in reprehenderit in voluptate velit esse cillum dolore 51-887 eu fugiat nulla pariatur. user-73@email.com Excepteur sint occaecat 16 Oct 1991 cupidatat 84-557 non proident, sunt user-70@email.gov.uk in culpa qui user-63@email.edu.pl officia deserunt mollit anim id est laborum.\n"
   ]
  },
  {
   "cell_type": "code",
   "execution_count": 172,
   "id": "b8e1ea88",
   "metadata": {},
   "outputs": [],
   "source": [
    "import re\n",
    "\n",
    "# https://docs.python.org/3/library/re.html"
   ]
  },
  {
   "cell_type": "code",
   "execution_count": 170,
   "id": "93527f16",
   "metadata": {},
   "outputs": [],
   "source": [
    "imiona = \"Adam Ola Andrzej Anastazja Grzegorz Cyprian\""
   ]
  },
  {
   "cell_type": "code",
   "execution_count": 171,
   "id": "2f4906c8",
   "metadata": {},
   "outputs": [
    {
     "data": {
      "text/plain": [
       "['Adam', 'Andrzej', 'Anastazja']"
      ]
     },
     "execution_count": 171,
     "metadata": {},
     "output_type": "execute_result"
    }
   ],
   "source": [
    "name_a_pattern = re.compile(r\"A\\w+\")  # \\d\n",
    "\n",
    "name_a_pattern.findall(imiona)"
   ]
  },
  {
   "cell_type": "code",
   "execution_count": 179,
   "id": "641cd668",
   "metadata": {},
   "outputs": [
    {
     "name": "stdout",
     "output_type": "stream",
     "text": [
      "['82-621', '41-764', '17-704', '32-223', '17-106', '66-292', '12-403', '35-102', '55-447', '84-557', '27-892', '20-681', '36-855', '87-892', '48-216', '55-640', '16-427', '34-147', '79-617', '57-807', '60-468', '77-839', '29-881', '16-974', '73-331', '24-870', '71-568', '85-308', '37-719', '39-165', '18-775', '79-793', '21-411', '68-849', '54-200', '19-591', '73-327', '56-878', '69-185', '23-685', '46-482', '71-121', '51-887', '84-557']\n",
      "['user-88@email.com', 'user-6@email.com', 'user-93@email.edu.pl', 'user-97@email.gov.uk', 'user-54@email.gov.uk', 'user-28@email.gov.uk', 'user-76@email.gov.uk', 'user-52@email.com', 'user-62@email.gov.uk', 'user-63@email.gov.uk', 'user-2@email.edu.pl', 'user-28@email.pl', 'user-51@email.pl', 'user-58@email.pl', 'user-56@email.pl', 'user-49@email.pl', 'user-79@email.pl', 'user-30@email.pl', 'user-31@email.com', 'user-7@email.edu.pl', 'user-55@email.pl', 'user-36@email.com', 'user-39@email.com', 'user-37@email.pl', 'user-13@email.pl', 'user-52@email.com', 'user-58@email.pl', 'user-31@email.pl', 'user-25@email.gov.uk', 'user-79@email.edu.pl', 'user-35@email.pl', 'user-75@email.com', 'user-24@email.edu.pl', 'user-54@email.pl', 'user-8@email.edu.pl', 'user-71@email.gov.uk', 'user-55@email.edu.pl', 'user-3@email.com', 'user-1@email.gov.uk', 'user-48@email.gov.uk', 'user-55@email.com', 'user-45@email.gov.uk', 'user-30@email.gov.uk', 'user-41@email.edu.pl', 'user-70@email.gov.uk', 'user-73@email.com', 'user-70@email.gov.uk', 'user-63@email.edu.pl']\n",
      "['18 Feb 2009', '20 Apr 2006', '22 Dec 1992', '11 Dec 2003', '19 Jan 2001', '25 Jul 2009', '05 Apr 1990', '24 Jan 1994', '24 Dec 2005', '25 Oct 1995', '26 Aug 1996', '21 Jan 1992', '19 Oct 1992', '21 Dec 2007', '02 Mar 1995', '01 Nov 1993', '18 Nov 1993', '12 Aug 1996', '01 Sep 2007', '15 Jun 1990', '16 Oct 2003', '16 Jun 1996', '02 May 1993', '29 Jun 2005', '12 Mar 1993', '17 Jun 1990', '02 Sep 1999', '24 Nov 1998', '16 Oct 1991']\n"
     ]
    }
   ],
   "source": [
    "zipcode_pattern = re.compile(r\"\\d{2}-\\d{3}\")  # \\d\\d-\\d\\d\\d\n",
    "email_pattern = re.compile(r\"[\\w.-]+@[\\w.-]+\")\n",
    "date_pattern = re.compile(r\"\\d{2} \\w{3} \\d{4}\")\n",
    "\n",
    "zipcodes = []\n",
    "emails = []\n",
    "dates = []\n",
    "\n",
    "with open(\"dane.txt\") as f:\n",
    "    for line in f:\n",
    "        zipcodes += zipcode_pattern.findall(line)\n",
    "        emails += email_pattern.findall(line)\n",
    "        dates += date_pattern.findall(line)\n",
    "        \n",
    "print(zipcodes)\n",
    "print(emails)\n",
    "print(dates)"
   ]
  },
  {
   "cell_type": "markdown",
   "id": "6395dbb8",
   "metadata": {},
   "source": [
    "### Zadanie - stos:\n",
    "\n",
    "Napisz funkcję w Pythonie, która sprawdza, czy nawiasy w ciągu są zrównoważone, czy nie. Możliwe nawiasy to \"{}\" ,\" ()\" lub \"[]\". Użyj klasy Stack (metody push, pop, size) na bazie collections.dequeue\n",
    "\n",
    "```python\n",
    "    assert is_balanced(\"({a+b})\") is True\n",
    "    assert is_balanced(\"))((a+b}{\") is False\n",
    "    assert is_balanced(\"((a+b))\") is True\n",
    "    assert is_balanced(\"))\") os False\n",
    "    assert is_balanced(\"[a+b]*(x+2y)*{gg+kk}\") is True\n",
    "```"
   ]
  },
  {
   "cell_type": "code",
   "execution_count": 183,
   "id": "ad91ed10",
   "metadata": {},
   "outputs": [],
   "source": [
    "from collections import deque\n",
    "\n",
    "class Stack:\n",
    "    def __init__(self):\n",
    "        self.container = deque()\n",
    "        \n",
    "    def push(self, value):\n",
    "        self.container.append(value)\n",
    "        \n",
    "    def pop(self): \n",
    "        return self.container.pop()\n",
    "    \n",
    "    def size(self):\n",
    "        return len(self.container)\n",
    "    \n",
    "    def is_empty(self):\n",
    "        return self.size() == 0\n",
    "\n",
    "def is_match(ch1, ch2):\n",
    "    match_dict = {\n",
    "        \")\": \"(\",\n",
    "        \"]\": \"[\",\n",
    "        \"}\": \"{\"\n",
    "    }\n",
    "    \n",
    "    return match_dict[ch1] == ch2 \n",
    "\n",
    "def is_balanced(s):\n",
    "    stack = Stack()\n",
    "    \n",
    "    for ch in s:\n",
    "        if ch in \"({[\":\n",
    "            stack.push(ch)\n",
    "        elif ch in \")}]\":\n",
    "            if stack.is_empty(): \n",
    "                return False\n",
    "            else:\n",
    "                return is_match(ch, stack.pop())\n",
    "            \n",
    "\n",
    "assert is_balanced(\"({a+b})\") is True\n",
    "assert is_balanced(\"))((a+b}{\") is False\n",
    "assert is_balanced(\"((a+b))\") is True\n",
    "assert is_balanced(\"))\") is False\n",
    "assert is_balanced(\"[a+b]*(x+2y)*{gg+kk}\") is True"
   ]
  },
  {
   "cell_type": "markdown",
   "id": "93512a7a",
   "metadata": {},
   "source": [
    "## praca z plikami"
   ]
  },
  {
   "cell_type": "code",
   "execution_count": 186,
   "id": "3c5128ca",
   "metadata": {},
   "outputs": [
    {
     "name": "stdout",
     "output_type": "stream",
     "text": [
      "<_io.TextIOWrapper name='dane.txt' mode='r' encoding='UTF-8'>\n",
      "['_CHUNK_SIZE', '__class__', '__del__', '__delattr__', '__dict__', '__dir__', '__doc__', '__enter__', '__eq__', '__exit__', '__format__', '__ge__', '__getattribute__', '__gt__', '__hash__', '__init__', '__init_subclass__', '__iter__', '__le__', '__lt__', '__ne__', '__new__', '__next__', '__reduce__', '__reduce_ex__', '__repr__', '__setattr__', '__sizeof__', '__str__', '__subclasshook__', '_checkClosed', '_checkReadable', '_checkSeekable', '_checkWritable', '_finalizing', 'buffer', 'close', 'closed', 'detach', 'encoding', 'errors', 'fileno', 'flush', 'isatty', 'line_buffering', 'mode', 'name', 'newlines', 'read', 'readable', 'readline', 'readlines', 'reconfigure', 'seek', 'seekable', 'tell', 'truncate', 'writable', 'write', 'write_through', 'writelines']\n"
     ]
    }
   ],
   "source": [
    "try:\n",
    "    f = open(\"dane.txt\")\n",
    "    print(f)\n",
    "    print(dir(f))\n",
    "except Exception:\n",
    "    pass\n",
    "finally:\n",
    "    f.close()"
   ]
  },
  {
   "cell_type": "code",
   "execution_count": 187,
   "id": "ad201211",
   "metadata": {},
   "outputs": [
    {
     "name": "stdout",
     "output_type": "stream",
     "text": [
      "<_io.TextIOWrapper name='dane.txt' mode='r' encoding='UTF-8'>\n"
     ]
    }
   ],
   "source": [
    "with open(\"dane.txt\") as f:\n",
    "    # w środku\n",
    "    print(f)\n",
    "# poza - tu jest automatycznie zamykany uchwyt do pliku\n",
    "\n"
   ]
  },
  {
   "cell_type": "code",
   "execution_count": 191,
   "id": "95c3f635",
   "metadata": {},
   "outputs": [
    {
     "name": "stdout",
     "output_type": "stream",
     "text": [
      "False\n",
      "<_io.TextIOWrapper name='dane.txt' mode='r' encoding='UTF-8'>\n",
      "Wywołuję exit\n"
     ]
    }
   ],
   "source": [
    "class File:\n",
    "    def __init__(self, file_name, method):\n",
    "        self.file_obj = open(file_name, method)\n",
    "    def __enter__(self):\n",
    "        return self.file_obj\n",
    "    def __exit__(self, type, value, traceback):\n",
    "        print(\"Wywołuję exit\")\n",
    "        self.file_obj.close()\n",
    "        \n",
    "with File(\"dane.txt\", \"r\") as f: # __init__   __enter__\n",
    "    print(f.closed)\n",
    "    print(f )\n",
    "#__exit__"
   ]
  },
  {
   "cell_type": "code",
   "execution_count": 190,
   "id": "cd4767fd",
   "metadata": {},
   "outputs": [
    {
     "data": {
      "text/plain": [
       "True"
      ]
     },
     "execution_count": 190,
     "metadata": {},
     "output_type": "execute_result"
    }
   ],
   "source": [
    "f.closed"
   ]
  },
  {
   "cell_type": "markdown",
   "id": "a4564bb0",
   "metadata": {},
   "source": [
    "przerewa do 10:42"
   ]
  },
  {
   "cell_type": "code",
   "execution_count": 192,
   "id": "c1c0034d",
   "metadata": {},
   "outputs": [
    {
     "name": "stdout",
     "output_type": "stream",
     "text": [
      "Writing logs.txt\n"
     ]
    }
   ],
   "source": [
    "%%writefile logs.txt\n",
    "\n",
    "user-9;LOGIN;102\n",
    "user-3;LOGIN;111\n",
    "user-1;LOGIN;209\n",
    "user-2;LOGIN;231\n",
    "user-1;LOGOUT;278\n",
    "user-2;LOGOUT;333\n",
    "user-3;LOGOUT;364\n",
    "user-2;LOGIN;471\n",
    "user-7;LOGIN;588\n",
    "user-6;LOGIN;674\n",
    "user-5;LOGIN;726\n",
    "cos tam\n",
    "user-10;LOGIN;803\n",
    "user-8;LOGIN;824\n",
    "user-5;LOGOUT;929\n",
    "user-5;LOGIN;1037\n",
    "user-4;LOGIN;1148\n",
    "user-3;LOGIN;1225\n",
    "user-2;LOGOUT;1238\n",
    "user-3;LOGOUT;1314\n",
    "user-9;LOGOUT;1400\n",
    "user-1;LOGIN;1520\n",
    "user-8;LOGOUT;1566\n",
    "user-4;LOGOUT;1580\n",
    "user-6;LOGOUT;1584\n",
    "system nie dziala\n",
    "user-10;LOGOUT;1591\n",
    "user-5;LOGOUT;1603\n",
    "user-4;LOGIN;1705\n",
    "user-3;LOGIN;1707\n",
    "user-7;LOGOUT;1806\n",
    "user-10;LOGIN;1908\n",
    "user-1;LOGOUT;1928\n",
    "user-10;LOGOUT;2012\n",
    "user-5;LOGIN;2071\n",
    "user-6;LOGIN;2187\n",
    "user-7;LOGIN;2206\n",
    "user-1;LOGIN;2272\n",
    "xxx\n",
    "user-8;LOGIN;2342\n",
    "user-1;LOGOUT;2459\n",
    "user-9;LOGIN;2463\n",
    "user-5;LOGOUT;2468\n",
    "user-7;LOGOUT;2488\n",
    "user-5;LOGIN;2498\n",
    "user-9;LOGOUT;2530\n",
    "user-1;LOGIN;2553\n",
    "user-3;LOGOUT;2578\n",
    "user-8;LOGOUT;2580\n",
    "user-4;LOGOUT;2659\n",
    "user-1;LOGOUT;2753\n",
    "user-10;LOGIN;2859\n",
    "user-5;LOGOUT;2894\n",
    "user-2;LOGIN;2941\n",
    "user-2;LOGOUT;3020\n",
    "user-4;LOGIN;3105\n",
    "user-2;LOGIN;3132\n",
    "user-9;LOGIN;3206\n",
    "user-1;LOGIN;3235\n",
    "user-6;LOGOUT;3250\n",
    "user-9;LOGOUT;3286\n",
    "user-4;LOGOUT;3317\n",
    "user-7;LOGIN;3350\n",
    "user-6;LOGIN;3465\n",
    "user-7;LOGOUT;3476\n",
    "user-6;LOGOUT;3581\n",
    "user-10;LOGOUT;3611\n",
    "user-8;LOGIN;3727\n",
    "user-1;LOGOUT;3754\n",
    "user-5;LOGIN;3862\n",
    "user-10;LOGIN;3926\n",
    "user-7;LOGIN;3980\n",
    "user-10;LOGOUT;4007\n",
    "user-5;LOGOUT;4101\n",
    "user-8;LOGOUT;4180\n",
    "user-1;LOGIN;4280\n",
    "user-8;LOGIN;4332\n",
    "user-4;LOGIN;4448\n",
    "user-2;LOGOUT;4559\n",
    "user-6;LOGIN;4563\n",
    "user-6;LOGOUT;4651\n",
    "user-8;LOGOUT;4719\n",
    "user-1;LOGOUT;4800\n",
    "user-9;LOGIN;4832\n",
    "user-6;LOGIN;4895\n",
    "user-6;LOGOUT;4957\n",
    "user-6;LOGIN;4962\n",
    "user-1;LOGIN;4991\n",
    "user-10;LOGIN;5028\n",
    "user-2;LOGIN;5102\n",
    "user-2;LOGOUT;5143\n",
    "user-8;LOGIN;5178\n",
    "user-1;LOGOUT;5291\n",
    "user-2;LOGIN;5297\n",
    "user-2;LOGOUT;5370\n",
    "user-9;LOGOUT;5378\n",
    "user-6;LOGOUT;5392\n",
    "\n",
    "user-6;LOGIN;5418\n",
    "user-9;LOGIN;5453\n",
    "user-3;LOGIN;5505\n",
    "user-2;LOGIN;5600\n",
    "user-2;LOGOUT;5651\n",
    "user-10;LOGOUT;5753\n",
    "user-9;LOGOUT;5846\n",
    "user-3;LOGOUT;5877\n",
    "user-7;LOGOUT;5925\n",
    "user-6;LOGOUT;6012\n",
    "user-8;LOGOUT;6063\n",
    "user-4;LOGOUT;6144\n"
   ]
  },
  {
   "cell_type": "code",
   "execution_count": 193,
   "id": "21283968",
   "metadata": {},
   "outputs": [],
   "source": [
    "open?\n"
   ]
  },
  {
   "cell_type": "code",
   "execution_count": 194,
   "id": "16f35e42",
   "metadata": {},
   "outputs": [
    {
     "data": {
      "text/plain": [
       "['/Library/Frameworks/Python.framework/Versions/3.10/lib/python3.10/site-packages/ipykernel_launcher.py',\n",
       " '-f',\n",
       " '/Users/rkorzen/Library/Jupyter/runtime/kernel-0ca1ea7c-7daa-4c50-8ffd-9a18ab6b29a5.json']"
      ]
     },
     "execution_count": 194,
     "metadata": {},
     "output_type": "execute_result"
    }
   ],
   "source": [
    "import sys\n",
    "sys.argv"
   ]
  },
  {
   "cell_type": "markdown",
   "id": "db0e88ff",
   "metadata": {},
   "source": [
    "#### Zadanie - praca z plikami\n",
    "\n",
    "Napisz program wczytujacy plik z logami aktywnosci uzytkowników\n",
    "w systemie. Na podstawie wczytanych danych zapisz w pliku wyjściowym informacje o\n",
    "sumarycznym czasie przebywania kazdego uzytkownika w systemie.\n",
    "Wybierz odpowiednie linie z pliku korzystając np z wyrażen regularnych (lub jakiś inny sposób)\n",
    "\n",
    "\n",
    "Przykład użycia:\n",
    "\n",
    "$ python read_logs.py logs.txt raport.txt\n",
    "\n",
    "Czas przebywania w systemie:\n",
    "- user-1: 92 s\n",
    "- user-2: 51 s\n",
    "- user-3: 20 s"
   ]
  }
 ],
 "metadata": {
  "kernelspec": {
   "display_name": "Python 3 (ipykernel)",
   "language": "python",
   "name": "python3"
  },
  "language_info": {
   "codemirror_mode": {
    "name": "ipython",
    "version": 3
   },
   "file_extension": ".py",
   "mimetype": "text/x-python",
   "name": "python",
   "nbconvert_exporter": "python",
   "pygments_lexer": "ipython3",
   "version": "3.10.4"
  },
  "toc": {
   "base_numbering": 1,
   "nav_menu": {},
   "number_sections": true,
   "sideBar": true,
   "skip_h1_title": false,
   "title_cell": "Table of Contents",
   "title_sidebar": "Contents",
   "toc_cell": false,
   "toc_position": {},
   "toc_section_display": true,
   "toc_window_display": true
  }
 },
 "nbformat": 4,
 "nbformat_minor": 5
}
