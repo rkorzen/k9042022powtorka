{
 "cells": [
  {
   "cell_type": "markdown",
   "id": "13d54641",
   "metadata": {},
   "source": [
    "# Aplikacje webowe\n",
    "\n",
    "## Basics\n",
    "\n",
    "### HTML\n",
    "\n",
    "HyperText Markup Language - język opisujący budowę strony internetowej.\n",
    "\n",
    "https://www.w3schools.com/html/default.asp\n",
    "\n",
    "#### Tag\n",
    "   \n",
    "```\n",
    "   tag             domkniecie taga\n",
    "   <tag>   tresc   </tag>\n",
    "   \n",
    "      atrybut\n",
    "   <a href=\"2.html\">link</a>\n",
    "```\n",
    "##### Podstawowe tagi\n",
    "\n",
    "Nagłówki: `h1-h6`\n",
    "\n",
    "Akapit: `p`\n",
    "\n",
    "contener: `div`\n",
    "\n",
    "Link: `a`\n",
    "\n",
    "obrazek: `img`\n",
    "\n",
    "Listy:\n",
    "    \n",
    "    \n",
    "    nienumerowana:\n",
    "    <ul>\n",
    "        <li></li>\n",
    "    </ul>\n",
    "    \n",
    "    numerowana\n",
    "    <ol>\n",
    "        <li></li>\n",
    "    </ol>\n",
    "    \n",
    "Tabela: \n",
    "\n",
    "    <table></table>\n",
    "    \n",
    "inne:\n",
    "\n",
    "     section, article, header, footer\n",
    "\n",
    "### CSS\n",
    "\n",
    "https://www.w3schools.com/css/default.asp\n",
    "\n",
    "### Bootstrap\n",
    "\n",
    "https://www.w3schools.com/bootstrap/bootstrap_ver.asp\n",
    "\n"
   ]
  },
  {
   "cell_type": "code",
   "execution_count": null,
   "id": "73354d1d",
   "metadata": {},
   "outputs": [],
   "source": [
    "przerwa do 15:48"
   ]
  },
  {
   "cell_type": "markdown",
   "id": "37c31bf0",
   "metadata": {},
   "source": [
    "## URL\n",
    "\n",
    "\n",
    "    <schemat>:<czesc hierarchiczna>\n",
    "    \n",
    "    https://www.alx.pl:5555/pl/bootcamp-backend-python/?type=pythom&form=bootcamp\n",
    "    \n",
    "               //www.alx.pl /bootcamp-backend-python/>\n",
    "    <protokół>:<host>       /<path>                   ?<query string>#<fragment>\n",
    "\n",
    "\n",
    "\n",
    "## Flask\n",
    "\n"
   ]
  },
  {
   "cell_type": "code",
   "execution_count": 2,
   "id": "70510dfe",
   "metadata": {},
   "outputs": [
    {
     "name": "stdout",
     "output_type": "stream",
     "text": [
      "Writing app.py\n"
     ]
    }
   ],
   "source": [
    "%%writefile app.py\n",
    "\n",
    "from flask import Flask\n",
    "\n",
    "app = Flask(__name__)\n",
    "\n",
    "@app.route(\"/\")\n",
    "def hello():\n",
    "    return \"Hello world\""
   ]
  },
  {
   "cell_type": "code",
   "execution_count": null,
   "id": "750068fa",
   "metadata": {},
   "outputs": [],
   "source": []
  }
 ],
 "metadata": {
  "kernelspec": {
   "display_name": "Python 3 (ipykernel)",
   "language": "python",
   "name": "python3"
  },
  "language_info": {
   "codemirror_mode": {
    "name": "ipython",
    "version": 3
   },
   "file_extension": ".py",
   "mimetype": "text/x-python",
   "name": "python",
   "nbconvert_exporter": "python",
   "pygments_lexer": "ipython3",
   "version": "3.10.4"
  },
  "toc": {
   "base_numbering": 1,
   "nav_menu": {},
   "number_sections": true,
   "sideBar": true,
   "skip_h1_title": false,
   "title_cell": "Table of Contents",
   "title_sidebar": "Contents",
   "toc_cell": false,
   "toc_position": {},
   "toc_section_display": true,
   "toc_window_display": false
  }
 },
 "nbformat": 4,
 "nbformat_minor": 5
}
