{
 "cells": [
  {
   "cell_type": "markdown",
   "id": "4de2987a",
   "metadata": {},
   "source": [
    "# GIT \n",
    "\n",
    "## VIM\n",
    "\n",
    "    vim nazwapliku   - otwarcie pliku\n",
    "    \n",
    "    moze byc tez odpalony przy robieniu commita\n",
    "    \n",
    "    \n",
    "    escp + i  -  wejscie w tryb pisania (insert)\n",
    "    \n",
    "    escp      - wejscie w tryb polecen\n",
    "    \n",
    "    \n",
    "    W trybie polecen:\n",
    "    \n",
    "    dd - usuniecie lini\n",
    "    \n",
    "    :u - undo\n",
    "    \n",
    "    \n",
    "    :wq - zapisz i wyjdzie\n",
    "    \n",
    "    \n",
    "\n",
    "## inicjalizajca\n",
    "\n",
    "    git init\n",
    "\n",
    "    git clone <adres>\n",
    "    \n",
    "## working directory\n",
    "\n",
    "\n",
    "    git add <nazwa pliku>\n",
    "    \n",
    "    git add .\n",
    "    \n",
    "    git commit\n",
    "    \n",
    "    git commit -m \"Commit message\"\n",
    "    \n",
    "    \n",
    "    \n",
    "inne przydatne polecenia:\n",
    "\n",
    "\n",
    "    git log\n",
    "    \n",
    "    git show \n",
    "    \n",
    "    git show @^^  (^^ oznacza dwa przed HEAD, ^^^ - 3 przed HEAD itd\n",
    "    \n",
    "    git remote \n",
    "    \n",
    "    git remote -v\n",
    "    \n",
    "    git remote remove <nazwa>\n",
    "    \n",
    "    git branch\n",
    "    \n",
    "    git rm --cached \n",
    "    \n",
    "   "
   ]
  },
  {
   "cell_type": "code",
   "execution_count": 1,
   "id": "bf733d23",
   "metadata": {},
   "outputs": [
    {
     "data": {
      "text/plain": [
       "40"
      ]
     },
     "execution_count": 1,
     "metadata": {},
     "output_type": "execute_result"
    }
   ],
   "source": [
    "len(\"3a2ff625a54c54f653b3f3e547850572c24cc293\")"
   ]
  },
  {
   "cell_type": "markdown",
   "id": "29866ccc",
   "metadata": {},
   "source": [
    "## Środowisko programistyczne\n",
    "\n",
    "## Środowisko wirtualne\n",
    "\n",
    "    python -m venv venv\n",
    "    venv\\Scripts\\activate\n",
    "    \n",
    "    deactivate\n",
    "    \n",
    "## black\n",
    "\n",
    "    pip install black\n",
    "    \n",
    "    black <nazwa>\n",
    "    \n",
    "## flake8\n",
    "\n",
    "\n",
    "    pip install flake8\n",
    "    \n",
    "    flake8 <nazwa>\n",
    "    \n",
    "## Sonarlint\n",
    "\n",
    "    plugin do VSC i PyCharm\n",
    "    \n",
    "## mypy\n",
    "\n",
    "    pip install mypy\n",
    "    \n",
    "    mypy <nazwa>"
   ]
  },
  {
   "cell_type": "markdown",
   "id": "061dffc6",
   "metadata": {},
   "source": [
    "# Testy - pierwsze starcie\n",
    "\n",
    "## assert \n",
    "\n",
    "    assert False\n",
    "    \n",
    "    assert a == b\n",
    "    \n",
    "### Zadanie\n",
    "\n",
    "\n",
    "Napisz funkcję encrypt, która zaszyfruje tekst zgodnie z szyfrem cesara. \n",
    "Oraz decrypt, która odkoduje ten tekst. \n",
    "\n",
    "    >>> encrypt(\"CEASER CIPHER DEMO\", 4)\n",
    "    IEWIVrGMTLIVrHIQS\n",
    "    >>> decrypt(\"IEWIVrGMTLIVrHIQS\", 4)\n",
    "    'CEASERzCIPHERzDEMO'\n",
    "    \n",
    "Wersj trudniejsza\n",
    "\n",
    "    >>> decrypt(\"IEWIVrGMTLIVrHIQS\", 4)\n",
    "    'CEASER CIPHER DEMO'"
   ]
  },
  {
   "cell_type": "code",
   "execution_count": 7,
   "id": "71235cd7",
   "metadata": {},
   "outputs": [
    {
     "ename": "AssertionError",
     "evalue": "",
     "output_type": "error",
     "traceback": [
      "\u001b[0;31m---------------------------------------------------------------------------\u001b[0m",
      "\u001b[0;31mAssertionError\u001b[0m                            Traceback (most recent call last)",
      "Input \u001b[0;32mIn [7]\u001b[0m, in \u001b[0;36m<cell line: 6>\u001b[0;34m()\u001b[0m\n\u001b[1;32m      2\u001b[0m     \u001b[38;5;28;01mreturn\u001b[39;00m \u001b[38;5;124m\"\u001b[39m\u001b[38;5;124mIEWIVrGMTLIVrHIQS\u001b[39m\u001b[38;5;124m\"\u001b[39m\n\u001b[1;32m      4\u001b[0m \u001b[38;5;28;01massert\u001b[39;00m encrypt(\u001b[38;5;124m\"\u001b[39m\u001b[38;5;124mCEASER CIPHER DEMO\u001b[39m\u001b[38;5;124m\"\u001b[39m, \u001b[38;5;241m4\u001b[39m) \u001b[38;5;241m==\u001b[39m \u001b[38;5;124m\"\u001b[39m\u001b[38;5;124mIEWIVrGMTLIVrHIQS\u001b[39m\u001b[38;5;124m\"\u001b[39m\n\u001b[0;32m----> 6\u001b[0m \u001b[38;5;28;01massert\u001b[39;00m encrypt(\u001b[38;5;124m\"\u001b[39m\u001b[38;5;124mA\u001b[39m\u001b[38;5;124m\"\u001b[39m, \u001b[38;5;241m4\u001b[39m) \u001b[38;5;241m==\u001b[39m \u001b[38;5;124m\"\u001b[39m\u001b[38;5;124mW\u001b[39m\u001b[38;5;124m\"\u001b[39m\n",
      "\u001b[0;31mAssertionError\u001b[0m: "
     ]
    }
   ],
   "source": [
    "def encrypt(text, shift):\n",
    "    return \"IEWIVrGMTLIVrHIQS\"\n",
    "\n",
    "assert encrypt(\"CEASER CIPHER DEMO\", 4) == \"IEWIVrGMTLIVrHIQS\"\n",
    "\n",
    "assert encrypt(\"A\", 4) == \"W\"\n",
    "# assert decrypt(\"IEWIVrGMTLIVrHIQS\", 4) == 'CEASERzCIPHERzDEMO'\n",
    "    "
   ]
  },
  {
   "cell_type": "code",
   "execution_count": 8,
   "id": "2727c51a",
   "metadata": {},
   "outputs": [],
   "source": [
    "chr?"
   ]
  },
  {
   "cell_type": "code",
   "execution_count": 12,
   "id": "18eac20f",
   "metadata": {},
   "outputs": [
    {
     "data": {
      "text/plain": [
       "'A'"
      ]
     },
     "execution_count": 12,
     "metadata": {},
     "output_type": "execute_result"
    }
   ],
   "source": [
    "chr(65)"
   ]
  },
  {
   "cell_type": "code",
   "execution_count": 13,
   "id": "0e78422f",
   "metadata": {},
   "outputs": [
    {
     "data": {
      "text/plain": [
       "'B'"
      ]
     },
     "execution_count": 13,
     "metadata": {},
     "output_type": "execute_result"
    }
   ],
   "source": [
    "chr(66)"
   ]
  },
  {
   "cell_type": "code",
   "execution_count": 14,
   "id": "cd12b170",
   "metadata": {},
   "outputs": [
    {
     "data": {
      "text/plain": [
       "66"
      ]
     },
     "execution_count": 14,
     "metadata": {},
     "output_type": "execute_result"
    }
   ],
   "source": [
    "ord(\"B\")"
   ]
  },
  {
   "cell_type": "code",
   "execution_count": 15,
   "id": "667ddbb5",
   "metadata": {},
   "outputs": [
    {
     "data": {
      "text/plain": [
       "98"
      ]
     },
     "execution_count": 15,
     "metadata": {},
     "output_type": "execute_result"
    }
   ],
   "source": [
    "ord(\"b\")"
   ]
  },
  {
   "cell_type": "code",
   "execution_count": 16,
   "id": "f441375c",
   "metadata": {},
   "outputs": [
    {
     "data": {
      "text/plain": [
       "'ABCDEFGHIJKLMNOPQRSTUVWXYZ'"
      ]
     },
     "execution_count": 16,
     "metadata": {},
     "output_type": "execute_result"
    }
   ],
   "source": [
    "import string\n",
    "string.ascii_uppercase"
   ]
  },
  {
   "cell_type": "code",
   "execution_count": 17,
   "id": "4eeeec57",
   "metadata": {},
   "outputs": [],
   "source": [
    "# ABCDEFGHIJKLMNOPQRSTUVWXYZ\n",
    "# FGHIJKLMNOPQRSTUVWXYZABCDE"
   ]
  },
  {
   "cell_type": "code",
   "execution_count": 19,
   "id": "d09eacf6",
   "metadata": {},
   "outputs": [],
   "source": [
    "# a (97) -> f (97+5 > 102)\n",
    "\n",
    "# z (122) -> e (101)"
   ]
  },
  {
   "cell_type": "code",
   "execution_count": 20,
   "id": "58417bfd",
   "metadata": {},
   "outputs": [
    {
     "data": {
      "text/plain": [
       "102"
      ]
     },
     "execution_count": 20,
     "metadata": {},
     "output_type": "execute_result"
    }
   ],
   "source": [
    "97+5"
   ]
  },
  {
   "cell_type": "code",
   "execution_count": 21,
   "id": "086ccf94",
   "metadata": {},
   "outputs": [
    {
     "data": {
      "text/plain": [
       "127"
      ]
     },
     "execution_count": 21,
     "metadata": {},
     "output_type": "execute_result"
    }
   ],
   "source": [
    "122 + 5"
   ]
  },
  {
   "cell_type": "code",
   "execution_count": 28,
   "id": "4f4d3be3",
   "metadata": {},
   "outputs": [],
   "source": [
    "f = (97 + 5 - 97) % 26 + 97\n",
    "\n"
   ]
  },
  {
   "cell_type": "code",
   "execution_count": 29,
   "id": "1b12910e",
   "metadata": {},
   "outputs": [],
   "source": [
    "e = (122 + 5 - 97) % 26 + 97"
   ]
  },
  {
   "cell_type": "code",
   "execution_count": 30,
   "id": "05e01bf5",
   "metadata": {},
   "outputs": [
    {
     "data": {
      "text/plain": [
       "('e', 'f')"
      ]
     },
     "execution_count": 30,
     "metadata": {},
     "output_type": "execute_result"
    }
   ],
   "source": [
    "chr(e), chr(f)"
   ]
  },
  {
   "cell_type": "code",
   "execution_count": 31,
   "id": "d8593212",
   "metadata": {},
   "outputs": [
    {
     "ename": "SyntaxError",
     "evalue": "invalid decimal literal (2473371485.py, line 1)",
     "output_type": "error",
     "traceback": [
      "\u001b[0;36m  Input \u001b[0;32mIn [31]\u001b[0;36m\u001b[0m\n\u001b[0;31m    https://github.com/rkorzen/k9042022powtorka/blob/master/02_powtorka_cd.ipynb\u001b[0m\n\u001b[0m                                                              ^\u001b[0m\n\u001b[0;31mSyntaxError\u001b[0m\u001b[0;31m:\u001b[0m invalid decimal literal\n"
     ]
    }
   ],
   "source": [
    "https://github.com/rkorzen/k9042022powtorka/blob/master/02_powtorka_cd.ipynb"
   ]
  },
  {
   "cell_type": "code",
   "execution_count": 32,
   "id": "956ffd98",
   "metadata": {},
   "outputs": [
    {
     "data": {
      "text/plain": [
       "32"
      ]
     },
     "execution_count": 32,
     "metadata": {},
     "output_type": "execute_result"
    }
   ],
   "source": [
    "ord(\" \")"
   ]
  },
  {
   "cell_type": "code",
   "execution_count": 33,
   "id": "dc76dd00",
   "metadata": {},
   "outputs": [
    {
     "data": {
      "text/plain": [
       "110"
      ]
     },
     "execution_count": 33,
     "metadata": {},
     "output_type": "execute_result"
    }
   ],
   "source": [
    "ord(\"n\")"
   ]
  },
  {
   "cell_type": "code",
   "execution_count": 35,
   "id": "b60e2121",
   "metadata": {},
   "outputs": [
    {
     "data": {
      "text/plain": [
       "114"
      ]
     },
     "execution_count": 35,
     "metadata": {},
     "output_type": "execute_result"
    }
   ],
   "source": [
    "(32+ 4 - 97) % 26 + 97"
   ]
  },
  {
   "cell_type": "markdown",
   "id": "f18eeb05",
   "metadata": {},
   "source": [
    "## \n",
    "\n",
    "utworz folder project_math\n",
    "Utwórz pakiet mathematics z dwoma modułami - algebra, geometry.\n",
    "Utwórz pakiet tests a w nim testy\n",
    "\n",
    "Algebra - zawiera proste funkcje dla operacji add, sub, div, mul, add_matrices, wyznaczanie pierwiastków równania kwadratowego.\n",
    "\n",
    "Geometry - zawiera proste funkcje dla obliczanie pól kwadratu, prostokąta, trójkąta, koła\n",
    "\n",
    "\n",
    "Rozwiąż zadanie metodyką TDD. Testy niech znajdują się w osobnym module\n",
    "\n",
    "Zacznij od testów dla jednej funkcji. Po napisaniu rozwiązania utwórz czytelny commit.\n",
    "\n",
    "Napisz testy w pytest\n",
    "\n",
    "\n",
    "    project_math\n",
    "        .gitignore\n",
    "        mathematics\n",
    "            __init__.py\n",
    "            algebra.py\n",
    "            geometry.py\n",
    "        tests\n",
    "            __init__.py\n",
    "            test_algebra.py\n",
    "            test_geometry.py\n",
    "\n",
    "\n",
    "    git init\n",
    "    utworzyc plik .gitignore (.idea, __pycache__)\n",
    "    git add .\n",
    "    git commit -m \"utworzoenie struktury\"\n",
    "    git tag structure\n",
    "    ...\n",
    "    \n",
    "    git add tests\\test_algebra.py\n",
    "    git commit - m \"testy dla funkcji add\"\n",
    "    \n",
    "    ...\n",
    "    git add mathematics\\algebra.py\n",
    "    git commit - m \"implementacja funkcji add\"\n",
    "\n",
    "\n",
    "    ...\n",
    "    git add .\n",
    "    git commit -m \"Finalna wersja algebry\"\n",
    "    git tag algebra_fin\n",
    "    \n",
    "    \n",
    "    "
   ]
  },
  {
   "cell_type": "code",
   "execution_count": null,
   "id": "73fae231",
   "metadata": {},
   "outputs": [],
   "source": []
  }
 ],
 "metadata": {
  "kernelspec": {
   "display_name": "Python 3 (ipykernel)",
   "language": "python",
   "name": "python3"
  },
  "language_info": {
   "codemirror_mode": {
    "name": "ipython",
    "version": 3
   },
   "file_extension": ".py",
   "mimetype": "text/x-python",
   "name": "python",
   "nbconvert_exporter": "python",
   "pygments_lexer": "ipython3",
   "version": "3.10.4"
  },
  "toc": {
   "base_numbering": 1,
   "nav_menu": {},
   "number_sections": true,
   "sideBar": true,
   "skip_h1_title": false,
   "title_cell": "Table of Contents",
   "title_sidebar": "Contents",
   "toc_cell": false,
   "toc_position": {},
   "toc_section_display": true,
   "toc_window_display": false
  }
 },
 "nbformat": 4,
 "nbformat_minor": 5
}
