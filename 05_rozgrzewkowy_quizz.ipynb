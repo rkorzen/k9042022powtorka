{
 "cells": [
  {
   "cell_type": "markdown",
   "id": "ab2f23ea",
   "metadata": {},
   "source": [
    "Jaki będzie wynik?"
   ]
  },
  {
   "cell_type": "code",
   "execution_count": 4,
   "id": "d25edc76",
   "metadata": {},
   "outputs": [
    {
     "data": {
      "text/plain": [
       "(True, False, True)"
      ]
     },
     "execution_count": 4,
     "metadata": {},
     "output_type": "execute_result"
    }
   ],
   "source": [
    "# 1 \n",
    "\n",
    "isinstance(True, object), isinstance(True, type), isinstance(True, bool)"
   ]
  },
  {
   "cell_type": "markdown",
   "id": "89747c1f",
   "metadata": {},
   "source": [
    "A) `(True, True, True)`\n",
    "\n",
    "B) `(True, False, True)`"
   ]
  },
  {
   "cell_type": "code",
   "execution_count": 2,
   "id": "e8b47610",
   "metadata": {},
   "outputs": [
    {
     "data": {
      "text/plain": [
       "(True, True, True, True)"
      ]
     },
     "execution_count": 2,
     "metadata": {},
     "output_type": "execute_result"
    }
   ],
   "source": [
    "# 2\n",
    "\n",
    "isinstance(type, object), isinstance(object, type), isinstance(object, object), isinstance(type, type)"
   ]
  },
  {
   "cell_type": "markdown",
   "id": "dcd4dbba",
   "metadata": {},
   "source": [
    "A) (False, False, True, True)\n",
    "\n",
    "B) (True, False, True, True)\n",
    "\n",
    "C) (True, True, True, True)\n"
   ]
  },
  {
   "cell_type": "code",
   "execution_count": 5,
   "id": "8f7f21b5",
   "metadata": {},
   "outputs": [],
   "source": [
    "## 3"
   ]
  },
  {
   "cell_type": "markdown",
   "id": "ea05c42d",
   "metadata": {},
   "source": [
    "```python\n",
    "any([]), all([])\n",
    "```\n",
    "\n",
    "A) `(False, False)`\n",
    "\n",
    "B) `(True, True)`\n",
    "\n",
    "C) `(False, True)`"
   ]
  },
  {
   "cell_type": "code",
   "execution_count": 6,
   "id": "7d9e2bc8",
   "metadata": {},
   "outputs": [
    {
     "data": {
      "text/plain": [
       "(False, True)"
      ]
     },
     "execution_count": 6,
     "metadata": {},
     "output_type": "execute_result"
    }
   ],
   "source": [
    "any([]), all([])"
   ]
  },
  {
   "cell_type": "markdown",
   "id": "b0ed064d",
   "metadata": {},
   "source": [
    "```python\n",
    "round(7 / 2), round(3 / 2), round(5 / 2)\n",
    "```\n",
    "\n",
    "A) `(4, 2, 2)`\n",
    "\n",
    "B) `(3, 2, 2)`\n",
    "\n",
    "C) `(3.5, 1.5, 2.5)`"
   ]
  },
  {
   "cell_type": "code",
   "execution_count": 7,
   "id": "58e44d64",
   "metadata": {},
   "outputs": [
    {
     "data": {
      "text/plain": [
       "(4, 2, 2)"
      ]
     },
     "execution_count": 7,
     "metadata": {},
     "output_type": "execute_result"
    }
   ],
   "source": [
    "round(7 / 2), round(3 / 2), round(5 / 2)"
   ]
  },
  {
   "cell_type": "code",
   "execution_count": 8,
   "id": "a69ff6b5",
   "metadata": {},
   "outputs": [
    {
     "data": {
      "text/plain": [
       "3"
      ]
     },
     "execution_count": 8,
     "metadata": {},
     "output_type": "execute_result"
    }
   ],
   "source": [
    "int(7/2)"
   ]
  },
  {
   "cell_type": "markdown",
   "id": "6b0b25a9",
   "metadata": {},
   "source": [
    "## Jaki będzie wynik\n",
    "\n",
    "```python\n",
    "class A:\n",
    "    answer = 42    \n",
    "    \n",
    "    def __init__(self):\n",
    "        self.answer = 21\n",
    "        self.__add__ = lambda x, y: x.answer + y    \n",
    "    \n",
    "    def __add__(self, y):\n",
    "        return self.answer - y\n",
    "\n",
    "print(A() + 5)\n",
    "```\n",
    "\n",
    "\n",
    "A) 47\n",
    "\n",
    "B) 37\n",
    "\n",
    "C) 26\n",
    "\n",
    "D) 16"
   ]
  },
  {
   "cell_type": "code",
   "execution_count": 9,
   "id": "8fcb47bc",
   "metadata": {},
   "outputs": [
    {
     "name": "stdout",
     "output_type": "stream",
     "text": [
      "16\n"
     ]
    }
   ],
   "source": [
    "class A:\n",
    "    answer = 42    \n",
    "\n",
    "    def __init__(self):\n",
    "        self.answer = 21\n",
    "        self.__add__ = lambda x, y: x.answer + y    \n",
    "\n",
    "    def __add__(self, y):\n",
    "        return self.answer - y\n",
    "\n",
    "print(A() + 5)"
   ]
  },
  {
   "cell_type": "markdown",
   "id": "5eb2729f",
   "metadata": {},
   "source": [
    "## Jaki będzie wynik:\n",
    "\n",
    "```python\n",
    "sum(\"\"), sum(\"\", []), sum(\"\", {})\n",
    "```\n",
    "\n",
    "A) `(0, 0, 0)`\n",
    "\n",
    "B) `(0, [], {})`\n",
    "\n",
    "C) Jakiś wyjątek"
   ]
  },
  {
   "cell_type": "code",
   "execution_count": 10,
   "id": "07e79188",
   "metadata": {},
   "outputs": [
    {
     "data": {
      "text/plain": [
       "(0, [], {})"
      ]
     },
     "execution_count": 10,
     "metadata": {},
     "output_type": "execute_result"
    }
   ],
   "source": [
    "sum(\"\"), sum(\"\", []), sum(\"\", {})"
   ]
  },
  {
   "cell_type": "code",
   "execution_count": 11,
   "id": "5b54b9b9",
   "metadata": {},
   "outputs": [],
   "source": [
    "sum?"
   ]
  },
  {
   "cell_type": "markdown",
   "id": "f5e8dbeb",
   "metadata": {},
   "source": [
    "## Jaki będzie wynik:\n",
    "\n",
    "```python\n",
    "class A:\n",
    "    def function(self):\n",
    "        return A()\n",
    "        \n",
    "a = A()\n",
    "A = int\n",
    "print(a.function())\n",
    "```\n",
    "\n",
    "A) coś w stylu: `<__main__.A object at 0x108645ff0>`\n",
    "\n",
    "B) 0\n",
    "\n",
    "C) `AttributeError`"
   ]
  },
  {
   "cell_type": "code",
   "execution_count": 12,
   "id": "f1c6d826",
   "metadata": {},
   "outputs": [
    {
     "name": "stdout",
     "output_type": "stream",
     "text": [
      "0\n"
     ]
    }
   ],
   "source": [
    "class A:\n",
    "    def function(self):\n",
    "        return A()\n",
    "\n",
    "a = A()\n",
    "A = int\n",
    "print(a.function())"
   ]
  },
  {
   "cell_type": "markdown",
   "id": "ff3fcbde",
   "metadata": {},
   "source": [
    "## Jaki będzie wynik\n",
    "\n",
    "```python\n",
    "\"a\" * 10, \"a\" * (-10)\n",
    "```\n",
    "A) `('aaaaaaaaaa', '')`\n",
    "\n",
    "B) `('aaaaaaaaaa', '-aaaaaaaaaa')`\n",
    "\n",
    "C) `TypeError`"
   ]
  },
  {
   "cell_type": "code",
   "execution_count": 13,
   "id": "84fe350d",
   "metadata": {},
   "outputs": [
    {
     "data": {
      "text/plain": [
       "('aaaaaaaaaa', '')"
      ]
     },
     "execution_count": 13,
     "metadata": {},
     "output_type": "execute_result"
    }
   ],
   "source": [
    "\"a\" * 10, \"a\" * (-10)"
   ]
  },
  {
   "cell_type": "markdown",
   "id": "ecfe2495",
   "metadata": {},
   "source": [
    "## Jaki będzie wynik\n",
    "\n",
    "```python\n",
    "max(-0.0, 0.0)\n",
    "```\n",
    "A) `0.0`\n",
    "\n",
    "B) `-0.0`\n",
    "\n",
    "C) `ValueError`"
   ]
  },
  {
   "cell_type": "code",
   "execution_count": 14,
   "id": "0e6087fb",
   "metadata": {},
   "outputs": [],
   "source": [
    "max?"
   ]
  },
  {
   "cell_type": "code",
   "execution_count": 15,
   "id": "5fa01a83",
   "metadata": {},
   "outputs": [
    {
     "data": {
      "text/plain": [
       "-0.0"
      ]
     },
     "execution_count": 15,
     "metadata": {},
     "output_type": "execute_result"
    }
   ],
   "source": [
    "max(-0.0, 0.0)"
   ]
  },
  {
   "cell_type": "markdown",
   "id": "1a077cda",
   "metadata": {},
   "source": [
    "1.10  Jaki będzie wynik\n",
    "```python\n",
    "x = (1 << 53) + 1\n",
    "\n",
    "x + 1.0 > x\n",
    "```\n",
    "A) True\n",
    "\n",
    "B) False\n",
    "\n",
    "C) ValueError"
   ]
  },
  {
   "cell_type": "code",
   "execution_count": 16,
   "id": "da88454d",
   "metadata": {},
   "outputs": [
    {
     "data": {
      "text/plain": [
       "4"
      ]
     },
     "execution_count": 16,
     "metadata": {},
     "output_type": "execute_result"
    }
   ],
   "source": [
    "2 << 1    # "
   ]
  },
  {
   "cell_type": "code",
   "execution_count": 19,
   "id": "e8aa80ec",
   "metadata": {},
   "outputs": [
    {
     "data": {
      "text/plain": [
       "8"
      ]
     },
     "execution_count": 19,
     "metadata": {},
     "output_type": "execute_result"
    }
   ],
   "source": [
    "1 << 3"
   ]
  },
  {
   "cell_type": "code",
   "execution_count": 20,
   "id": "f74a8cbc",
   "metadata": {},
   "outputs": [
    {
     "data": {
      "text/plain": [
       "False"
      ]
     },
     "execution_count": 20,
     "metadata": {},
     "output_type": "execute_result"
    }
   ],
   "source": [
    "x = (1 << 53) + 1\n",
    "x + 1.0 > x"
   ]
  },
  {
   "cell_type": "code",
   "execution_count": 21,
   "id": "f3ef8fba",
   "metadata": {},
   "outputs": [
    {
     "data": {
      "text/plain": [
       "9007199254740992"
      ]
     },
     "execution_count": 21,
     "metadata": {},
     "output_type": "execute_result"
    }
   ],
   "source": [
    "1 << 53"
   ]
  },
  {
   "cell_type": "code",
   "execution_count": 24,
   "id": "d4bf42b3",
   "metadata": {},
   "outputs": [
    {
     "data": {
      "text/plain": [
       "9007199254740993"
      ]
     },
     "execution_count": 24,
     "metadata": {},
     "output_type": "execute_result"
    }
   ],
   "source": [
    "(1 << 53) + 1"
   ]
  },
  {
   "cell_type": "code",
   "execution_count": 25,
   "id": "87642c40",
   "metadata": {},
   "outputs": [
    {
     "data": {
      "text/plain": [
       "9007199254740992.0"
      ]
     },
     "execution_count": 25,
     "metadata": {},
     "output_type": "execute_result"
    }
   ],
   "source": [
    "float((1 << 53) + 1)"
   ]
  },
  {
   "cell_type": "code",
   "execution_count": 33,
   "id": "e91aeff2",
   "metadata": {},
   "outputs": [
    {
     "data": {
      "text/plain": [
       "9007199254740994.0"
      ]
     },
     "execution_count": 33,
     "metadata": {},
     "output_type": "execute_result"
    }
   ],
   "source": [
    "(1 << 53) + 2.0 "
   ]
  },
  {
   "cell_type": "code",
   "execution_count": 34,
   "id": "ce28ca0a",
   "metadata": {},
   "outputs": [
    {
     "data": {
      "text/plain": [
       "9007199254740996.0"
      ]
     },
     "execution_count": 34,
     "metadata": {},
     "output_type": "execute_result"
    }
   ],
   "source": [
    "(1 << 53) + 2.0 + 1.0"
   ]
  },
  {
   "cell_type": "code",
   "execution_count": 35,
   "id": "a12edc58",
   "metadata": {},
   "outputs": [
    {
     "data": {
      "text/plain": [
       "9007199254740996.0"
      ]
     },
     "execution_count": 35,
     "metadata": {},
     "output_type": "execute_result"
    }
   ],
   "source": [
    "(1 << 53) + 2.0 + 2.0"
   ]
  },
  {
   "cell_type": "code",
   "execution_count": 37,
   "id": "8f0ecc80",
   "metadata": {},
   "outputs": [
    {
     "data": {
      "text/plain": [
       "9007199254741094.0"
      ]
     },
     "execution_count": 37,
     "metadata": {},
     "output_type": "execute_result"
    }
   ],
   "source": [
    "(1 << 53) + 100.0 + 2.0"
   ]
  },
  {
   "cell_type": "code",
   "execution_count": null,
   "id": "4b0d7de8",
   "metadata": {},
   "outputs": [],
   "source": []
  }
 ],
 "metadata": {
  "kernelspec": {
   "display_name": "Python 3 (ipykernel)",
   "language": "python",
   "name": "python3"
  },
  "language_info": {
   "codemirror_mode": {
    "name": "ipython",
    "version": 3
   },
   "file_extension": ".py",
   "mimetype": "text/x-python",
   "name": "python",
   "nbconvert_exporter": "python",
   "pygments_lexer": "ipython3",
   "version": "3.10.4"
  },
  "toc": {
   "base_numbering": 1,
   "nav_menu": {},
   "number_sections": true,
   "sideBar": true,
   "skip_h1_title": false,
   "title_cell": "Table of Contents",
   "title_sidebar": "Contents",
   "toc_cell": false,
   "toc_position": {},
   "toc_section_display": true,
   "toc_window_display": false
  }
 },
 "nbformat": 4,
 "nbformat_minor": 5
}
