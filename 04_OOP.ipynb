{
 "cells": [
  {
   "cell_type": "markdown",
   "id": "2e5bbf83",
   "metadata": {},
   "source": [
    "# Klasy\n",
    "\n",
    "## prosta definicja\n",
    "\n"
   ]
  },
  {
   "cell_type": "code",
   "execution_count": 1,
   "id": "31e39ad9",
   "metadata": {},
   "outputs": [
    {
     "data": {
      "text/plain": [
       "<__main__.Vehicle at 0x1088d2d40>"
      ]
     },
     "execution_count": 1,
     "metadata": {},
     "output_type": "execute_result"
    }
   ],
   "source": [
    "class Vehicle: pass\n",
    "\n",
    "v = Vehicle()  # instancja, obiet danej klasy\n",
    "v"
   ]
  },
  {
   "cell_type": "code",
   "execution_count": 2,
   "id": "09ec68d6",
   "metadata": {},
   "outputs": [],
   "source": [
    "v.name = \"Porshe\""
   ]
  },
  {
   "cell_type": "code",
   "execution_count": 3,
   "id": "7cf8813c",
   "metadata": {},
   "outputs": [
    {
     "data": {
      "text/plain": [
       "'Porshe'"
      ]
     },
     "execution_count": 3,
     "metadata": {},
     "output_type": "execute_result"
    }
   ],
   "source": [
    "v.name"
   ]
  },
  {
   "cell_type": "code",
   "execution_count": 5,
   "id": "6e926be4",
   "metadata": {},
   "outputs": [],
   "source": [
    "def foo(): pass\n",
    "\n",
    "\n",
    "foo.x = 1"
   ]
  },
  {
   "cell_type": "code",
   "execution_count": 7,
   "id": "73842854",
   "metadata": {},
   "outputs": [
    {
     "data": {
      "text/plain": [
       "1"
      ]
     },
     "execution_count": 7,
     "metadata": {},
     "output_type": "execute_result"
    }
   ],
   "source": [
    "\n",
    "foo.x"
   ]
  },
  {
   "cell_type": "markdown",
   "id": "65df4220",
   "metadata": {},
   "source": [
    "## atrybuty klasowe\n",
    "\n"
   ]
  },
  {
   "cell_type": "code",
   "execution_count": 8,
   "id": "dae22a87",
   "metadata": {},
   "outputs": [],
   "source": [
    "class Vehicle:\n",
    "    description: str = \"Vehicle\"\n",
    "        \n",
    "v1 = Vehicle()\n",
    "v2 = Vehicle()"
   ]
  },
  {
   "cell_type": "code",
   "execution_count": 9,
   "id": "88a34da9",
   "metadata": {},
   "outputs": [
    {
     "data": {
      "text/plain": [
       "'Vehicle'"
      ]
     },
     "execution_count": 9,
     "metadata": {},
     "output_type": "execute_result"
    }
   ],
   "source": [
    "v1.description"
   ]
  },
  {
   "cell_type": "code",
   "execution_count": 10,
   "id": "7d3d266c",
   "metadata": {},
   "outputs": [
    {
     "data": {
      "text/plain": [
       "'Vehicle'"
      ]
     },
     "execution_count": 10,
     "metadata": {},
     "output_type": "execute_result"
    }
   ],
   "source": [
    "v2.description"
   ]
  },
  {
   "cell_type": "code",
   "execution_count": 11,
   "id": "395188de",
   "metadata": {},
   "outputs": [
    {
     "data": {
      "text/plain": [
       "False"
      ]
     },
     "execution_count": 11,
     "metadata": {},
     "output_type": "execute_result"
    }
   ],
   "source": [
    "v1 == v2"
   ]
  },
  {
   "cell_type": "code",
   "execution_count": 12,
   "id": "a0c521b4",
   "metadata": {},
   "outputs": [
    {
     "data": {
      "text/plain": [
       "True"
      ]
     },
     "execution_count": 12,
     "metadata": {},
     "output_type": "execute_result"
    }
   ],
   "source": [
    "v1 is not v2"
   ]
  },
  {
   "cell_type": "code",
   "execution_count": 13,
   "id": "a728bee5",
   "metadata": {},
   "outputs": [],
   "source": [
    "v1.description = \"BMW\""
   ]
  },
  {
   "cell_type": "code",
   "execution_count": 14,
   "id": "3bd3ced9",
   "metadata": {},
   "outputs": [
    {
     "data": {
      "text/plain": [
       "'BMW'"
      ]
     },
     "execution_count": 14,
     "metadata": {},
     "output_type": "execute_result"
    }
   ],
   "source": [
    "v1.description"
   ]
  },
  {
   "cell_type": "code",
   "execution_count": 15,
   "id": "7845c095",
   "metadata": {},
   "outputs": [
    {
     "data": {
      "text/plain": [
       "'Vehicle'"
      ]
     },
     "execution_count": 15,
     "metadata": {},
     "output_type": "execute_result"
    }
   ],
   "source": [
    "v2.description"
   ]
  },
  {
   "cell_type": "code",
   "execution_count": 16,
   "id": "96588976",
   "metadata": {},
   "outputs": [
    {
     "data": {
      "text/plain": [
       "'Vehicle'"
      ]
     },
     "execution_count": 16,
     "metadata": {},
     "output_type": "execute_result"
    }
   ],
   "source": [
    "v1.__class__.description"
   ]
  },
  {
   "cell_type": "code",
   "execution_count": 17,
   "id": "30f40477",
   "metadata": {},
   "outputs": [
    {
     "data": {
      "text/plain": [
       "['__annotations__',\n",
       " '__class__',\n",
       " '__delattr__',\n",
       " '__dict__',\n",
       " '__dir__',\n",
       " '__doc__',\n",
       " '__eq__',\n",
       " '__format__',\n",
       " '__ge__',\n",
       " '__getattribute__',\n",
       " '__gt__',\n",
       " '__hash__',\n",
       " '__init__',\n",
       " '__init_subclass__',\n",
       " '__le__',\n",
       " '__lt__',\n",
       " '__module__',\n",
       " '__ne__',\n",
       " '__new__',\n",
       " '__reduce__',\n",
       " '__reduce_ex__',\n",
       " '__repr__',\n",
       " '__setattr__',\n",
       " '__sizeof__',\n",
       " '__str__',\n",
       " '__subclasshook__',\n",
       " '__weakref__',\n",
       " 'description']"
      ]
     },
     "execution_count": 17,
     "metadata": {},
     "output_type": "execute_result"
    }
   ],
   "source": [
    "dir(v1)"
   ]
  },
  {
   "cell_type": "code",
   "execution_count": 18,
   "id": "0c862831",
   "metadata": {},
   "outputs": [
    {
     "data": {
      "text/plain": [
       "{'description': 'BMW'}"
      ]
     },
     "execution_count": 18,
     "metadata": {},
     "output_type": "execute_result"
    }
   ],
   "source": [
    "v1.__dict__"
   ]
  },
  {
   "cell_type": "code",
   "execution_count": 19,
   "id": "49abb72b",
   "metadata": {},
   "outputs": [
    {
     "data": {
      "text/plain": [
       "mappingproxy({'__module__': '__main__',\n",
       "              '__annotations__': {'description': str},\n",
       "              'description': 'Vehicle',\n",
       "              '__dict__': <attribute '__dict__' of 'Vehicle' objects>,\n",
       "              '__weakref__': <attribute '__weakref__' of 'Vehicle' objects>,\n",
       "              '__doc__': None})"
      ]
     },
     "execution_count": 19,
     "metadata": {},
     "output_type": "execute_result"
    }
   ],
   "source": [
    "v1.__class__.__dict__"
   ]
  },
  {
   "cell_type": "code",
   "execution_count": 20,
   "id": "f0c33603",
   "metadata": {},
   "outputs": [],
   "source": [
    "v1 = Vehicle()\n",
    "v2 = Vehicle()"
   ]
  },
  {
   "cell_type": "code",
   "execution_count": 21,
   "id": "b6d92fc0",
   "metadata": {},
   "outputs": [
    {
     "data": {
      "text/plain": [
       "('Vehicle', 'Vehicle')"
      ]
     },
     "execution_count": 21,
     "metadata": {},
     "output_type": "execute_result"
    }
   ],
   "source": [
    "v1.description, v2.description"
   ]
  },
  {
   "cell_type": "code",
   "execution_count": 22,
   "id": "3e5ec7d6",
   "metadata": {},
   "outputs": [],
   "source": [
    "Vehicle.description = \"Ship\""
   ]
  },
  {
   "cell_type": "code",
   "execution_count": 23,
   "id": "74aa3cc5",
   "metadata": {},
   "outputs": [
    {
     "data": {
      "text/plain": [
       "('Ship', 'Ship')"
      ]
     },
     "execution_count": 23,
     "metadata": {},
     "output_type": "execute_result"
    }
   ],
   "source": [
    "v1.description, v2.description"
   ]
  },
  {
   "cell_type": "markdown",
   "id": "3c8dbf3f",
   "metadata": {},
   "source": [
    "### zadanie\n",
    "\n",
    "Napisz klasę `Foo` która posiada atrybut zliczajacy liczbe utworzony instancji:\n",
    "\n",
    "    >>> Foo.count\n",
    "    0\n",
    "    >>> f = Foo()\n",
    "    >>> f1 = Foo()\n",
    "    >>> Foo.count\n",
    "    2\n",
    "    >>> del f\n",
    "    >>> Foo.count\n",
    "    1"
   ]
  },
  {
   "cell_type": "code",
   "execution_count": 44,
   "id": "d50b5e1d",
   "metadata": {},
   "outputs": [],
   "source": [
    "class Foo:\n",
    "    count: int = 0   # ile razy bylo wywolane init\n",
    "    living: int = 0  # ile obiektow zyje  \n",
    "    def __init__(self):\n",
    "        # Foo.count += 1\n",
    "        self.__class__.count += 1\n",
    "        self.__class__.living += 1\n",
    "        \n",
    "    def __del__(self):\n",
    "        print(\"xxxxx\")\n",
    "        self.__class__.living -= 1\n",
    "        "
   ]
  },
  {
   "cell_type": "code",
   "execution_count": 45,
   "id": "37c2bc65",
   "metadata": {},
   "outputs": [
    {
     "name": "stdout",
     "output_type": "stream",
     "text": [
      "xxxxx\n"
     ]
    },
    {
     "data": {
      "text/plain": [
       "1"
      ]
     },
     "execution_count": 45,
     "metadata": {},
     "output_type": "execute_result"
    }
   ],
   "source": [
    "f = Foo()\n",
    "f = Foo()\n",
    "\n",
    "Foo.count\n",
    "Foo.living"
   ]
  },
  {
   "cell_type": "code",
   "execution_count": 43,
   "id": "9ba5f6a7",
   "metadata": {},
   "outputs": [
    {
     "name": "stdout",
     "output_type": "stream",
     "text": [
      "xxxxx\n",
      "xxxxx\n",
      "xxxxx\n"
     ]
    },
    {
     "data": {
      "text/plain": [
       "1"
      ]
     },
     "execution_count": 43,
     "metadata": {},
     "output_type": "execute_result"
    }
   ],
   "source": [
    "f1 = Foo()\n",
    "f2 = Foo()\n",
    "\n",
    "assert Foo.living == 2\n",
    "del f1\n",
    "Foo.living"
   ]
  },
  {
   "cell_type": "markdown",
   "id": "54cdeaa7",
   "metadata": {},
   "source": [
    "## atrybuty instancji\n",
    "\n"
   ]
  },
  {
   "cell_type": "code",
   "execution_count": 47,
   "id": "09ceaab4",
   "metadata": {},
   "outputs": [],
   "source": [
    "class Vehicle:\n",
    "\n",
    "    def __init__(self, name: str, year: int):\n",
    "        self.name = name\n",
    "        self.year = year\n",
    "        self.age = 2022 - self.year\n",
    "        self.doors = 4"
   ]
  },
  {
   "cell_type": "code",
   "execution_count": 51,
   "id": "c2922c3e",
   "metadata": {},
   "outputs": [
    {
     "data": {
      "text/plain": [
       "0.0"
      ]
     },
     "execution_count": 51,
     "metadata": {},
     "output_type": "execute_result"
    }
   ],
   "source": [
    "class Employee:\n",
    "    \n",
    "    def __init__(self, name: str, rate_per_hour: float ):\n",
    "        self.name = name\n",
    "        self.rate_per_hour = rate_per_hour\n",
    "        self.worked_hours = 0 \n",
    "    def register_time(self, t):\n",
    "        self.worked_hours = t\n",
    "        \n",
    "    def pay_salary(self):\n",
    "        return self.worked_hours * self.rate_per_hour\n",
    "    \n",
    "e = Employee(\"Stefan\", 100.0)\n",
    "# e.register_time(5)\n",
    "e.pay_salary()\n",
    "        "
   ]
  },
  {
   "cell_type": "markdown",
   "id": "fc47d995",
   "metadata": {},
   "source": [
    "## __str__"
   ]
  },
  {
   "cell_type": "code",
   "execution_count": 52,
   "id": "568259e4",
   "metadata": {},
   "outputs": [],
   "source": [
    "class Vehicle:\n",
    "\n",
    "    def __init__(self, name: str, year: int):\n",
    "        self.name = name\n",
    "        self.year = year\n",
    "        self.age = 2022 - self.year\n",
    "        self.doors = 4\n",
    "        \n",
    "    def __str__(self):\n",
    "        return f\"{self.name} ({self.year})\"\n",
    "    \n",
    "v = Vehicle(\"Ford\", 1968)"
   ]
  },
  {
   "cell_type": "code",
   "execution_count": 53,
   "id": "d9d2853e",
   "metadata": {},
   "outputs": [
    {
     "name": "stdout",
     "output_type": "stream",
     "text": [
      "Ford (1968)\n"
     ]
    }
   ],
   "source": [
    "print(v)"
   ]
  },
  {
   "cell_type": "code",
   "execution_count": 54,
   "id": "955868da",
   "metadata": {},
   "outputs": [
    {
     "data": {
      "text/plain": [
       "<__main__.Vehicle at 0x108830520>"
      ]
     },
     "execution_count": 54,
     "metadata": {},
     "output_type": "execute_result"
    }
   ],
   "source": [
    "v"
   ]
  },
  {
   "cell_type": "code",
   "execution_count": 55,
   "id": "1bd32719",
   "metadata": {},
   "outputs": [
    {
     "name": "stdout",
     "output_type": "stream",
     "text": [
      "[<__main__.Vehicle object at 0x108830520>]\n"
     ]
    }
   ],
   "source": [
    "print([v])"
   ]
  },
  {
   "cell_type": "code",
   "execution_count": 56,
   "id": "5c6fe123",
   "metadata": {},
   "outputs": [
    {
     "data": {
      "text/plain": [
       "'<__main__.Vehicle object at 0x108830520>'"
      ]
     },
     "execution_count": 56,
     "metadata": {},
     "output_type": "execute_result"
    }
   ],
   "source": [
    "repr(v)"
   ]
  },
  {
   "cell_type": "code",
   "execution_count": 62,
   "id": "27750406",
   "metadata": {},
   "outputs": [
    {
     "data": {
      "text/plain": [
       "Ford (1968)"
      ]
     },
     "execution_count": 62,
     "metadata": {},
     "output_type": "execute_result"
    }
   ],
   "source": [
    "class Vehicle:\n",
    "    \n",
    "\n",
    "    def __init__(self, name: str, year: int):\n",
    "        self.name = name\n",
    "        self.year = year\n",
    "        self.age = 2022 - self.year\n",
    "        self.doors = 4\n",
    "        \n",
    "    def __str__(self):\n",
    "        return f\"Vehicle: {self.name} ({self.year})\"\n",
    "    \n",
    "    def __repr__(self):\n",
    "        return f\"{self.name} ({self.year})\"\n",
    "    \n",
    "v = Vehicle(\"Ford\", 1968)\n",
    "v"
   ]
  },
  {
   "cell_type": "code",
   "execution_count": 63,
   "id": "c622cf59",
   "metadata": {},
   "outputs": [
    {
     "name": "stdout",
     "output_type": "stream",
     "text": [
      "Vehicle: Ford (1968)\n"
     ]
    }
   ],
   "source": [
    "print(v)"
   ]
  },
  {
   "cell_type": "code",
   "execution_count": 65,
   "id": "20e97450",
   "metadata": {},
   "outputs": [
    {
     "data": {
      "text/plain": [
       "'Vehicle: Ford (1968)'"
      ]
     },
     "execution_count": 65,
     "metadata": {},
     "output_type": "execute_result"
    }
   ],
   "source": [
    "str(v)"
   ]
  },
  {
   "cell_type": "code",
   "execution_count": 64,
   "id": "bc6d08b1",
   "metadata": {},
   "outputs": [
    {
     "data": {
      "text/plain": [
       "[Ford (1968)]"
      ]
     },
     "execution_count": 64,
     "metadata": {},
     "output_type": "execute_result"
    }
   ],
   "source": [
    "[v]"
   ]
  },
  {
   "cell_type": "code",
   "execution_count": 68,
   "id": "23122393",
   "metadata": {},
   "outputs": [
    {
     "ename": "AttributeError",
     "evalue": "'object' object has no attribute 'name'",
     "output_type": "error",
     "traceback": [
      "\u001b[0;31m---------------------------------------------------------------------------\u001b[0m",
      "\u001b[0;31mAttributeError\u001b[0m                            Traceback (most recent call last)",
      "Input \u001b[0;32mIn [68]\u001b[0m, in \u001b[0;36m<cell line: 3>\u001b[0;34m()\u001b[0m\n\u001b[1;32m      1\u001b[0m x \u001b[38;5;241m=\u001b[39m \u001b[38;5;28mobject\u001b[39m()\n\u001b[0;32m----> 3\u001b[0m \u001b[43mVehicle\u001b[49m\u001b[38;5;241;43m.\u001b[39;49m\u001b[38;5;21;43m__init__\u001b[39;49m\u001b[43m(\u001b[49m\u001b[43mx\u001b[49m\u001b[43m,\u001b[49m\u001b[43m \u001b[49m\u001b[38;5;124;43m\"\u001b[39;49m\u001b[38;5;124;43mFord\u001b[39;49m\u001b[38;5;124;43m\"\u001b[39;49m\u001b[43m,\u001b[49m\u001b[43m \u001b[49m\u001b[38;5;241;43m1998\u001b[39;49m\u001b[43m)\u001b[49m\n",
      "Input \u001b[0;32mIn [62]\u001b[0m, in \u001b[0;36mVehicle.__init__\u001b[0;34m(self, name, year)\u001b[0m\n\u001b[1;32m      3\u001b[0m \u001b[38;5;28;01mdef\u001b[39;00m \u001b[38;5;21m__init__\u001b[39m(\u001b[38;5;28mself\u001b[39m, name: \u001b[38;5;28mstr\u001b[39m, year: \u001b[38;5;28mint\u001b[39m):\n\u001b[0;32m----> 4\u001b[0m     \u001b[38;5;28mself\u001b[39m\u001b[38;5;241m.\u001b[39mname \u001b[38;5;241m=\u001b[39m name\n\u001b[1;32m      5\u001b[0m     \u001b[38;5;28mself\u001b[39m\u001b[38;5;241m.\u001b[39myear \u001b[38;5;241m=\u001b[39m year\n\u001b[1;32m      6\u001b[0m     \u001b[38;5;28mself\u001b[39m\u001b[38;5;241m.\u001b[39mage \u001b[38;5;241m=\u001b[39m \u001b[38;5;241m2022\u001b[39m \u001b[38;5;241m-\u001b[39m \u001b[38;5;28mself\u001b[39m\u001b[38;5;241m.\u001b[39myear\n",
      "\u001b[0;31mAttributeError\u001b[0m: 'object' object has no attribute 'name'"
     ]
    }
   ],
   "source": [
    "# x = object()\n",
    "\n",
    "# Vehicle.__init__(x, \"Ford\", 1998) ????"
   ]
  },
  {
   "cell_type": "markdown",
   "id": "6cb8a936",
   "metadata": {},
   "source": [
    "## metody\n"
   ]
  },
  {
   "cell_type": "code",
   "execution_count": 70,
   "id": "b222163b",
   "metadata": {},
   "outputs": [
    {
     "name": "stdout",
     "output_type": "stream",
     "text": [
      "Pojazd jedzie ...\n",
      "Pojazd stoi ...\n"
     ]
    }
   ],
   "source": [
    "class Vehicle:\n",
    "    \n",
    "    def drive(self):\n",
    "        print(\"Pojazd jedzie ...\")\n",
    "    \n",
    "    def stop(self):\n",
    "        print(\"Pojazd stoi ...\")\n",
    "        \n",
    "v = Vehicle()\n",
    "\n",
    "v.drive()\n",
    "v.stop()"
   ]
  },
  {
   "cell_type": "code",
   "execution_count": 71,
   "id": "c29364a5",
   "metadata": {},
   "outputs": [
    {
     "data": {
      "text/plain": [
       "['__class__',\n",
       " '__delattr__',\n",
       " '__dict__',\n",
       " '__dir__',\n",
       " '__doc__',\n",
       " '__eq__',\n",
       " '__format__',\n",
       " '__ge__',\n",
       " '__getattribute__',\n",
       " '__gt__',\n",
       " '__hash__',\n",
       " '__init__',\n",
       " '__init_subclass__',\n",
       " '__le__',\n",
       " '__lt__',\n",
       " '__module__',\n",
       " '__ne__',\n",
       " '__new__',\n",
       " '__reduce__',\n",
       " '__reduce_ex__',\n",
       " '__repr__',\n",
       " '__setattr__',\n",
       " '__sizeof__',\n",
       " '__str__',\n",
       " '__subclasshook__',\n",
       " '__weakref__',\n",
       " 'drive',\n",
       " 'stop']"
      ]
     },
     "execution_count": 71,
     "metadata": {},
     "output_type": "execute_result"
    }
   ],
   "source": [
    "dir(Vehicle)"
   ]
  },
  {
   "cell_type": "markdown",
   "id": "7d350ec6",
   "metadata": {},
   "source": [
    "## atrybut dynamiczny\n",
    "\n"
   ]
  },
  {
   "cell_type": "code",
   "execution_count": 75,
   "id": "e9712ca0",
   "metadata": {},
   "outputs": [
    {
     "data": {
      "text/plain": [
       "(1968, 54)"
      ]
     },
     "execution_count": 75,
     "metadata": {},
     "output_type": "execute_result"
    }
   ],
   "source": [
    "from datetime import datetime\n",
    "\n",
    "class Vehicle:\n",
    "    \n",
    "\n",
    "    def __init__(self, name: str, year: int):\n",
    "        self.name = name\n",
    "        self.year = year\n",
    "        self.doors = 4\n",
    "        self.energy = 100 \n",
    "        \n",
    "    def __str__(self):\n",
    "        return f\"Vehicle: {self.name} ({self.year})\"\n",
    "    \n",
    "    def __repr__(self):\n",
    "        return f\"{self.name} ({self.year})\"\n",
    "    \n",
    "    @property\n",
    "    def age(self):\n",
    "        return datetime.now().year - self.year\n",
    "        \n",
    "v = Vehicle(\"Ford\", 1968)\n",
    "v.year, v.age\n",
    "\n"
   ]
  },
  {
   "cell_type": "code",
   "execution_count": 76,
   "id": "fea32b5b",
   "metadata": {},
   "outputs": [],
   "source": [
    "v.energy = -100"
   ]
  },
  {
   "cell_type": "code",
   "execution_count": 77,
   "id": "928a52f9",
   "metadata": {},
   "outputs": [
    {
     "data": {
      "text/plain": [
       "-100"
      ]
     },
     "execution_count": 77,
     "metadata": {},
     "output_type": "execute_result"
    }
   ],
   "source": [
    "v.energy"
   ]
  },
  {
   "cell_type": "code",
   "execution_count": 78,
   "id": "046434de",
   "metadata": {},
   "outputs": [
    {
     "data": {
      "text/plain": [
       "100"
      ]
     },
     "execution_count": 78,
     "metadata": {},
     "output_type": "execute_result"
    }
   ],
   "source": [
    "from datetime import datetime\n",
    "\n",
    "class Vehicle:\n",
    "    \n",
    "\n",
    "    def __init__(self, name: str, year: int):\n",
    "        self.name = name\n",
    "        self.year = year\n",
    "        self.doors = 4\n",
    "        self._energy = 100 \n",
    "        \n",
    "    def __str__(self):\n",
    "        return f\"Vehicle: {self.name} ({self.year})\"\n",
    "    \n",
    "    def __repr__(self):\n",
    "        return f\"{self.name} ({self.year})\"\n",
    "    \n",
    "    @property\n",
    "    def age(self):\n",
    "        return datetime.now().year - self.year\n",
    "    \n",
    "    @property\n",
    "    def energy(self):\n",
    "        return self._energy\n",
    "    \n",
    "    \n",
    "    \n",
    "v = Vehicle(\"Ford\", 1968)\n",
    "v.energy\n"
   ]
  },
  {
   "cell_type": "code",
   "execution_count": 79,
   "id": "cb279722",
   "metadata": {},
   "outputs": [
    {
     "ename": "AttributeError",
     "evalue": "can't set attribute 'energy'",
     "output_type": "error",
     "traceback": [
      "\u001b[0;31m---------------------------------------------------------------------------\u001b[0m",
      "\u001b[0;31mAttributeError\u001b[0m                            Traceback (most recent call last)",
      "Input \u001b[0;32mIn [79]\u001b[0m, in \u001b[0;36m<cell line: 1>\u001b[0;34m()\u001b[0m\n\u001b[0;32m----> 1\u001b[0m v\u001b[38;5;241m.\u001b[39menergy \u001b[38;5;241m=\u001b[39m \u001b[38;5;241m-\u001b[39m\u001b[38;5;241m100\u001b[39m\n",
      "\u001b[0;31mAttributeError\u001b[0m: can't set attribute 'energy'"
     ]
    }
   ],
   "source": [
    "v.energy = -100"
   ]
  },
  {
   "cell_type": "code",
   "execution_count": 90,
   "id": "ff57fea0",
   "metadata": {},
   "outputs": [
    {
     "data": {
      "text/plain": [
       "100"
      ]
     },
     "execution_count": 90,
     "metadata": {},
     "output_type": "execute_result"
    }
   ],
   "source": [
    "\n",
    "from datetime import datetime\n",
    "\n",
    "class Vehicle:\n",
    "    \n",
    "\n",
    "    def __init__(self, name: str, year: int, energy: int):\n",
    "        self.name = name\n",
    "        self.year = year\n",
    "        self.doors = 4\n",
    "        self._energy = 100 \n",
    "        \n",
    "    def __str__(self):\n",
    "        return f\"Vehicle: {self.name} ({self.year})\"\n",
    "    \n",
    "    def __repr__(self):\n",
    "        return f\"{self.name} ({self.year})\"\n",
    "    \n",
    "    @property\n",
    "    def age(self):\n",
    "        return datetime.now().year - self.year\n",
    "    \n",
    "    @property\n",
    "    def energy(self):\n",
    "        return self._energy\n",
    "    \n",
    "    @energy.setter\n",
    "    def energy(self, value): # v.energy = 10 \n",
    "        if value > 0:\n",
    "            self._energy = value\n",
    "        else:\n",
    "            raise ValueError(\"Energia nie może być mniejsza niż 0\")\n",
    "    \n",
    "    \n",
    "v = Vehicle(\"Ford\", 1968, 100)\n",
    "v.energy"
   ]
  },
  {
   "cell_type": "code",
   "execution_count": 88,
   "id": "9cf9b66f",
   "metadata": {},
   "outputs": [],
   "source": [
    "v.energy = 10"
   ]
  },
  {
   "cell_type": "code",
   "execution_count": 89,
   "id": "be411850",
   "metadata": {},
   "outputs": [
    {
     "ename": "ValueError",
     "evalue": "Energia nie może być mniejsza niż 0",
     "output_type": "error",
     "traceback": [
      "\u001b[0;31m---------------------------------------------------------------------------\u001b[0m",
      "\u001b[0;31mValueError\u001b[0m                                Traceback (most recent call last)",
      "Input \u001b[0;32mIn [89]\u001b[0m, in \u001b[0;36m<cell line: 1>\u001b[0;34m()\u001b[0m\n\u001b[0;32m----> 1\u001b[0m v\u001b[38;5;241m.\u001b[39menergy \u001b[38;5;241m=\u001b[39m \u001b[38;5;241m-\u001b[39m\u001b[38;5;241m10\u001b[39m\n",
      "Input \u001b[0;32mIn [87]\u001b[0m, in \u001b[0;36mVehicle.energy\u001b[0;34m(self, value)\u001b[0m\n\u001b[1;32m     29\u001b[0m     \u001b[38;5;28mself\u001b[39m\u001b[38;5;241m.\u001b[39m_energy \u001b[38;5;241m=\u001b[39m value\n\u001b[1;32m     30\u001b[0m \u001b[38;5;28;01melse\u001b[39;00m:\n\u001b[0;32m---> 31\u001b[0m     \u001b[38;5;28;01mraise\u001b[39;00m \u001b[38;5;167;01mValueError\u001b[39;00m(\u001b[38;5;124m\"\u001b[39m\u001b[38;5;124mEnergia nie może być mniejsza niż 0\u001b[39m\u001b[38;5;124m\"\u001b[39m)\n",
      "\u001b[0;31mValueError\u001b[0m: Energia nie może być mniejsza niż 0"
     ]
    }
   ],
   "source": [
    "v.energy = -10"
   ]
  },
  {
   "cell_type": "code",
   "execution_count": 92,
   "id": "cdc9561d",
   "metadata": {},
   "outputs": [
    {
     "ename": "TypeError",
     "evalue": "'>' not supported between instances of 'Vehicle' and 'Vehicle'",
     "output_type": "error",
     "traceback": [
      "\u001b[0;31m---------------------------------------------------------------------------\u001b[0m",
      "\u001b[0;31mTypeError\u001b[0m                                 Traceback (most recent call last)",
      "Input \u001b[0;32mIn [92]\u001b[0m, in \u001b[0;36m<cell line: 1>\u001b[0;34m()\u001b[0m\n\u001b[0;32m----> 1\u001b[0m \u001b[43mv\u001b[49m\u001b[43m \u001b[49m\u001b[38;5;241;43m>\u001b[39;49m\u001b[43m \u001b[49m\u001b[43mv2\u001b[49m\n",
      "\u001b[0;31mTypeError\u001b[0m: '>' not supported between instances of 'Vehicle' and 'Vehicle'"
     ]
    }
   ],
   "source": [
    "v2 = Vehicle(\"BMW\", 2005, 200)\n",
    "\n",
    "v > v2"
   ]
  },
  {
   "cell_type": "markdown",
   "id": "d4cb3041",
   "metadata": {},
   "source": [
    "## przeciązanie operatorów\n",
    "\n"
   ]
  },
  {
   "cell_type": "code",
   "execution_count": 109,
   "id": "7f76e057",
   "metadata": {},
   "outputs": [
    {
     "name": "stdout",
     "output_type": "stream",
     "text": [
      "100 200\n"
     ]
    },
    {
     "data": {
      "text/plain": [
       "False"
      ]
     },
     "execution_count": 109,
     "metadata": {},
     "output_type": "execute_result"
    }
   ],
   "source": [
    "from datetime import datetime\n",
    "\n",
    "from functools import total_ordering\n",
    "\n",
    "\n",
    "@total_ordering\n",
    "class Vehicle:\n",
    "    \n",
    "\n",
    "    def __init__(self, name: str, year: int, energy: int):\n",
    "        self.name = name\n",
    "        self.year = year\n",
    "        self.doors = 4\n",
    "        self._energy = energy\n",
    "        \n",
    "    def __str__(self):\n",
    "        return f\"Vehicle: {self.name} ({self.year})\"\n",
    "    \n",
    "    def __repr__(self):\n",
    "        return f\"{self.name} ({self.year})\"\n",
    "    \n",
    "    @property\n",
    "    def age(self):\n",
    "        return datetime.now().year - self.year\n",
    "    \n",
    "    @property\n",
    "    def energy(self):\n",
    "        return self._energy\n",
    "    \n",
    "    @energy.setter\n",
    "    def energy(self, value): # v.energy = 10 \n",
    "        if value > 0:\n",
    "            self._energy = value\n",
    "        else:\n",
    "            raise ValueError(\"Energia nie może być mniejsza niż 0\")\n",
    "    \n",
    "    def __gt__(self, other):\n",
    "        print(f\"{self.energy} {other.energy}\")\n",
    "        return self.energy > other.energy\n",
    "    \n",
    "    def __ne__(self, other):\n",
    "        return self.energy != other.energy\n",
    "    \n",
    "    def __eq__(self, other):\n",
    "        return self.energy != other.energy\n",
    "    \n",
    "    \n",
    "    \n",
    "    # __ge__ >=\n",
    "    # __lt__ <\n",
    "    # __le__ <=\n",
    "    # __eq__ ==\n",
    "    # __ne__ !=\n",
    "    \n",
    "    # __add__ +\n",
    "    # __sub__ -\n",
    "    # __mul__ *\n",
    "    # / // %\n",
    "    \n",
    "    \n",
    "\n",
    "    \n",
    "    \n",
    "    \n",
    "v = Vehicle(\"Ford\", 1968, 100)\n",
    "v2 = Vehicle(\"BMW\", 2005, 200)\n",
    "\n",
    "v > v2  # False"
   ]
  },
  {
   "cell_type": "code",
   "execution_count": 110,
   "id": "c475cb14",
   "metadata": {},
   "outputs": [
    {
     "name": "stdout",
     "output_type": "stream",
     "text": [
      "200 100\n"
     ]
    },
    {
     "data": {
      "text/plain": [
       "True"
      ]
     },
     "execution_count": 110,
     "metadata": {},
     "output_type": "execute_result"
    }
   ],
   "source": [
    "v2 >= v"
   ]
  },
  {
   "cell_type": "code",
   "execution_count": 111,
   "id": "723fd5df",
   "metadata": {},
   "outputs": [
    {
     "data": {
      "text/plain": [
       "True"
      ]
     },
     "execution_count": 111,
     "metadata": {},
     "output_type": "execute_result"
    }
   ],
   "source": [
    "v != v2"
   ]
  },
  {
   "cell_type": "code",
   "execution_count": 112,
   "id": "9698dc12",
   "metadata": {},
   "outputs": [
    {
     "name": "stdout",
     "output_type": "stream",
     "text": [
      "100 200\n"
     ]
    },
    {
     "data": {
      "text/plain": [
       "True"
      ]
     },
     "execution_count": 112,
     "metadata": {},
     "output_type": "execute_result"
    }
   ],
   "source": [
    "v <= v2"
   ]
  },
  {
   "cell_type": "code",
   "execution_count": 113,
   "id": "8c9f85c4",
   "metadata": {},
   "outputs": [
    {
     "name": "stdout",
     "output_type": "stream",
     "text": [
      "100 100\n"
     ]
    },
    {
     "data": {
      "text/plain": [
       "False"
      ]
     },
     "execution_count": 113,
     "metadata": {},
     "output_type": "execute_result"
    }
   ],
   "source": [
    "v3 = Vehicle(\"Ford\", 1972, 100)\n",
    "v < v3"
   ]
  },
  {
   "cell_type": "markdown",
   "id": "4036032e",
   "metadata": {},
   "source": [
    "### zadanie\n",
    "\n",
    "Napisz klasę Integer, która zadziała wg tego schematu:\n",
    "    \n",
    "    a = Integer(3)\n",
    "    b = Integer(2)\n",
    "    a\n",
    "    \"3\"\n",
    "    \n",
    "    a + b\n",
    "    \"5\"\n",
    "    \n",
    "    a * b\n",
    "    \"6\"\n",
    "    \n",
    "    a / b\n",
    "    \"2\"\n",
    "    \n",
    "    a // 2\n",
    "    \"1\"\n",
    "    \n",
    "    a ** 0.5\n",
    "    \"2\"\n",
    "    \n",
    "    a % 2\n",
    "    \"1\"\n",
    "    \n",
    "    a % b\n",
    "    \"1\"\n",
    "    \n",
    "    a ** b\n",
    "    \"9\"\n",
    "    \n",
    "    type(a ** b)\n",
    "    Integer\n",
    "    \n",
    "Czyli zawsze zwraca napis reprezentujący liczbę całkowitą. "
   ]
  },
  {
   "cell_type": "code",
   "execution_count": 137,
   "id": "c982a050",
   "metadata": {},
   "outputs": [],
   "source": [
    "import math"
   ]
  },
  {
   "cell_type": "code",
   "execution_count": 138,
   "id": "3764479c",
   "metadata": {},
   "outputs": [
    {
     "data": {
      "text/plain": [
       "2"
      ]
     },
     "execution_count": 138,
     "metadata": {},
     "output_type": "execute_result"
    }
   ],
   "source": [
    "math.floor(2.7)"
   ]
  },
  {
   "cell_type": "code",
   "execution_count": 139,
   "id": "2a7921c5",
   "metadata": {},
   "outputs": [
    {
     "data": {
      "text/plain": [
       "3"
      ]
     },
     "execution_count": 139,
     "metadata": {},
     "output_type": "execute_result"
    }
   ],
   "source": [
    "math.ceil(2.2)"
   ]
  },
  {
   "cell_type": "code",
   "execution_count": 144,
   "id": "74c829d1",
   "metadata": {},
   "outputs": [
    {
     "ename": "TypeError",
     "evalue": "unsupported operand type(s) for //: 'Integer' and 'float'",
     "output_type": "error",
     "traceback": [
      "\u001b[0;31m---------------------------------------------------------------------------\u001b[0m",
      "\u001b[0;31mTypeError\u001b[0m                                 Traceback (most recent call last)",
      "Input \u001b[0;32mIn [144]\u001b[0m, in \u001b[0;36m<cell line: 33>\u001b[0;34m()\u001b[0m\n\u001b[1;32m     30\u001b[0m a \u001b[38;5;241m=\u001b[39m Integer(\u001b[38;5;241m3\u001b[39m)\n\u001b[1;32m     31\u001b[0m b \u001b[38;5;241m=\u001b[39m Integer(\u001b[38;5;241m8\u001b[39m)\n\u001b[0;32m---> 33\u001b[0m \u001b[43ma\u001b[49m\u001b[43m \u001b[49m\u001b[38;5;241;43m/\u001b[39;49m\u001b[38;5;241;43m/\u001b[39;49m\u001b[43m \u001b[49m\u001b[38;5;241;43m2.9\u001b[39;49m\n",
      "\u001b[0;31mTypeError\u001b[0m: unsupported operand type(s) for //: 'Integer' and 'float'"
     ]
    }
   ],
   "source": [
    "class Integer:\n",
    "    \n",
    "    def __init__(self, v: int):\n",
    "        self.v = v\n",
    "    \n",
    "    def __repr__(self):\n",
    "        return f\"\\\"{self.v}\\\"\"\n",
    "    \n",
    "    def __add__(self, other):\n",
    "        return self.__class__(self.v + other.v)\n",
    "\n",
    "    def __mul__(self, other):\n",
    "        return self.__class__(self.v * other.v)\n",
    "\n",
    "    def __mod__(self, other):\n",
    "        return self.__class__(self.v % other.v)\n",
    "    \n",
    "    \n",
    "    def __truediv__(self, other):\n",
    "        return self.__class__(math.ceil(self.v / other.v))    \n",
    "\n",
    "    def __floordiv__(self, other):\n",
    "        if isinstance(other, self.__class__):\n",
    "            return self.__class__(self.v // other.v)\n",
    "        elif isinstance(other, int):\n",
    "            return self.__class__(self.v // other)\n",
    "\n",
    "        return NotImplemented\n",
    "    \n",
    "a = Integer(3)\n",
    "b = Integer(8)\n",
    "\n",
    "a // 2.9"
   ]
  },
  {
   "cell_type": "code",
   "execution_count": 130,
   "id": "13bea324",
   "metadata": {},
   "outputs": [
    {
     "ename": "TypeError",
     "evalue": "unsupported operand type(s) for *: 'Integer' and 'Integer'",
     "output_type": "error",
     "traceback": [
      "\u001b[0;31m---------------------------------------------------------------------------\u001b[0m",
      "\u001b[0;31mTypeError\u001b[0m                                 Traceback (most recent call last)",
      "Input \u001b[0;32mIn [130]\u001b[0m, in \u001b[0;36m<cell line: 4>\u001b[0;34m()\u001b[0m\n\u001b[1;32m      1\u001b[0m a \u001b[38;5;241m=\u001b[39m Integer(\u001b[38;5;241m3\u001b[39m)\n\u001b[1;32m      2\u001b[0m b \u001b[38;5;241m=\u001b[39m Integer(\u001b[38;5;241m8\u001b[39m)\n\u001b[0;32m----> 4\u001b[0m \u001b[43ma\u001b[49m\u001b[43m \u001b[49m\u001b[38;5;241;43m*\u001b[39;49m\u001b[43m \u001b[49m\u001b[43mb\u001b[49m\n",
      "\u001b[0;31mTypeError\u001b[0m: unsupported operand type(s) for *: 'Integer' and 'Integer'"
     ]
    }
   ],
   "source": []
  },
  {
   "cell_type": "markdown",
   "id": "43b34e9b",
   "metadata": {},
   "source": [
    "## slots"
   ]
  },
  {
   "cell_type": "code",
   "execution_count": 145,
   "id": "f9dc8689",
   "metadata": {},
   "outputs": [],
   "source": [
    "class NormalClass:\n",
    "    classvar = \"foo\"\n",
    "    \n",
    "    def __init__(self):\n",
    "        self.x = 1\n",
    "        self.y = 2\n",
    "        \n",
    "n = NormalClass()"
   ]
  },
  {
   "cell_type": "code",
   "execution_count": 146,
   "id": "7fd8e8f3",
   "metadata": {},
   "outputs": [
    {
     "data": {
      "text/plain": [
       "1"
      ]
     },
     "execution_count": 146,
     "metadata": {},
     "output_type": "execute_result"
    }
   ],
   "source": [
    "n.x"
   ]
  },
  {
   "cell_type": "code",
   "execution_count": 147,
   "id": "a69a8f8e",
   "metadata": {},
   "outputs": [
    {
     "data": {
      "text/plain": [
       "{'x': 1, 'y': 2}"
      ]
     },
     "execution_count": 147,
     "metadata": {},
     "output_type": "execute_result"
    }
   ],
   "source": [
    "n.__dict__"
   ]
  },
  {
   "cell_type": "code",
   "execution_count": 148,
   "id": "7bcc517e",
   "metadata": {},
   "outputs": [],
   "source": [
    "n.z = 10"
   ]
  },
  {
   "cell_type": "code",
   "execution_count": 149,
   "id": "cff68d32",
   "metadata": {},
   "outputs": [
    {
     "data": {
      "text/plain": [
       "{'x': 1, 'y': 2, 'z': 10}"
      ]
     },
     "execution_count": 149,
     "metadata": {},
     "output_type": "execute_result"
    }
   ],
   "source": [
    "n.__dict__"
   ]
  },
  {
   "cell_type": "code",
   "execution_count": 150,
   "id": "7c48e3d0",
   "metadata": {},
   "outputs": [],
   "source": [
    "class SlottedClass:\n",
    "    classvar = \"foo\"\n",
    "    __slots__ = (\"x\", \"y\")\n",
    "    def __init__(self):\n",
    "        self.x = 1\n",
    "        self.y = 2\n",
    "        \n",
    "n = SlottedClass()"
   ]
  },
  {
   "cell_type": "code",
   "execution_count": 151,
   "id": "a7e5fef0",
   "metadata": {},
   "outputs": [
    {
     "data": {
      "text/plain": [
       "1"
      ]
     },
     "execution_count": 151,
     "metadata": {},
     "output_type": "execute_result"
    }
   ],
   "source": [
    "n.x"
   ]
  },
  {
   "cell_type": "code",
   "execution_count": 152,
   "id": "a5a3e953",
   "metadata": {},
   "outputs": [],
   "source": [
    "n.x =10"
   ]
  },
  {
   "cell_type": "code",
   "execution_count": 153,
   "id": "c044fe74",
   "metadata": {},
   "outputs": [
    {
     "ename": "AttributeError",
     "evalue": "'SlottedClass' object has no attribute 'z'",
     "output_type": "error",
     "traceback": [
      "\u001b[0;31m---------------------------------------------------------------------------\u001b[0m",
      "\u001b[0;31mAttributeError\u001b[0m                            Traceback (most recent call last)",
      "Input \u001b[0;32mIn [153]\u001b[0m, in \u001b[0;36m<cell line: 1>\u001b[0;34m()\u001b[0m\n\u001b[0;32m----> 1\u001b[0m n\u001b[38;5;241m.\u001b[39mz \u001b[38;5;241m=\u001b[39m \u001b[38;5;241m20\u001b[39m\n",
      "\u001b[0;31mAttributeError\u001b[0m: 'SlottedClass' object has no attribute 'z'"
     ]
    }
   ],
   "source": [
    "n.z = 20"
   ]
  },
  {
   "cell_type": "code",
   "execution_count": 154,
   "id": "fd26c775",
   "metadata": {},
   "outputs": [
    {
     "ename": "AttributeError",
     "evalue": "'SlottedClass' object has no attribute '__dict__'",
     "output_type": "error",
     "traceback": [
      "\u001b[0;31m---------------------------------------------------------------------------\u001b[0m",
      "\u001b[0;31mAttributeError\u001b[0m                            Traceback (most recent call last)",
      "Input \u001b[0;32mIn [154]\u001b[0m, in \u001b[0;36m<cell line: 1>\u001b[0;34m()\u001b[0m\n\u001b[0;32m----> 1\u001b[0m \u001b[43mn\u001b[49m\u001b[38;5;241;43m.\u001b[39;49m\u001b[38;5;18;43m__dict__\u001b[39;49m\n",
      "\u001b[0;31mAttributeError\u001b[0m: 'SlottedClass' object has no attribute '__dict__'"
     ]
    }
   ],
   "source": [
    "n.__dict__"
   ]
  },
  {
   "cell_type": "markdown",
   "id": "61a2f346",
   "metadata": {},
   "source": [
    "## Dziedziczenie"
   ]
  },
  {
   "cell_type": "code",
   "execution_count": 160,
   "id": "d8f9380f",
   "metadata": {},
   "outputs": [
    {
     "data": {
      "text/plain": [
       "Car: Ford"
      ]
     },
     "execution_count": 160,
     "metadata": {},
     "output_type": "execute_result"
    }
   ],
   "source": [
    "class Car(Vehicle):\n",
    "    \n",
    "    def __init__(self, name, year, energy, color):\n",
    "        super().__init__(name, year, energy)\n",
    "        self.color = color\n",
    "    \n",
    "    def __repr__(self):\n",
    "        return f\"Car: {self.name}\"\n",
    "\n",
    "    \n",
    "\n",
    "c = Car(\"Ford\", 1980, 2000, \"green\")\n",
    "c"
   ]
  },
  {
   "cell_type": "code",
   "execution_count": 178,
   "id": "507b3a7f",
   "metadata": {},
   "outputs": [],
   "source": [
    "class A:\n",
    "    \n",
    "    def foo(self):\n",
    "        print(\"Foo z A\")\n",
    "     \n",
    "    def a(self): pass\n",
    "    \n",
    "class B:\n",
    "    \n",
    "    def foo(self):\n",
    "        print(\"Foo z B\")\n",
    "        \n",
    "    def b(self): pass\n",
    "\n",
    "    \n",
    "class C(B):\n",
    "    \n",
    "    def foo(self):\n",
    "        print(\"Foo z C\")\n",
    "    def c(self): pass\n",
    "        \n",
    "class D(A, C): pass\n",
    "\n",
    "\n",
    "d = D()"
   ]
  },
  {
   "cell_type": "code",
   "execution_count": 177,
   "id": "9b1dbf22",
   "metadata": {},
   "outputs": [
    {
     "name": "stdout",
     "output_type": "stream",
     "text": [
      "Foo z A\n"
     ]
    }
   ],
   "source": [
    "d.foo()"
   ]
  },
  {
   "cell_type": "code",
   "execution_count": 175,
   "id": "efb0c4cf",
   "metadata": {},
   "outputs": [
    {
     "data": {
      "text/plain": [
       "[__main__.D, __main__.A, __main__.C, __main__.B, object]"
      ]
     },
     "execution_count": 175,
     "metadata": {},
     "output_type": "execute_result"
    }
   ],
   "source": [
    "D.mro()"
   ]
  },
  {
   "cell_type": "markdown",
   "id": "67552356",
   "metadata": {},
   "source": [
    "## metoda klasowa"
   ]
  },
  {
   "cell_type": "code",
   "execution_count": 198,
   "id": "a3db3318",
   "metadata": {},
   "outputs": [],
   "source": [
    "class C:\n",
    "\n",
    "    name = \"xxx\"\n",
    "    \n",
    "    @classmethod\n",
    "    def class_name(cls):\n",
    "        return cls.__name__\n",
    "    \n",
    "    @classmethod\n",
    "    def change_name(cls, value):\n",
    "        cls.name = value\n",
    "        \n",
    "    def change_class_name_througth_instance(self, value):\n",
    "        self.__class__.name = value\n",
    "    \n",
    "    \n",
    "c = C()\n",
    "c1 = C()"
   ]
  },
  {
   "cell_type": "code",
   "execution_count": 199,
   "id": "46e14cef",
   "metadata": {},
   "outputs": [
    {
     "data": {
      "text/plain": [
       "'xxx'"
      ]
     },
     "execution_count": 199,
     "metadata": {},
     "output_type": "execute_result"
    }
   ],
   "source": [
    "c.name"
   ]
  },
  {
   "cell_type": "code",
   "execution_count": 200,
   "id": "f572e2c2",
   "metadata": {},
   "outputs": [],
   "source": [
    "c.change_name(\"yyy\")"
   ]
  },
  {
   "cell_type": "code",
   "execution_count": 201,
   "id": "3ece1104",
   "metadata": {},
   "outputs": [
    {
     "data": {
      "text/plain": [
       "'yyy'"
      ]
     },
     "execution_count": 201,
     "metadata": {},
     "output_type": "execute_result"
    }
   ],
   "source": [
    "c.name"
   ]
  },
  {
   "cell_type": "code",
   "execution_count": 202,
   "id": "a55797c1",
   "metadata": {},
   "outputs": [
    {
     "data": {
      "text/plain": [
       "'yyy'"
      ]
     },
     "execution_count": 202,
     "metadata": {},
     "output_type": "execute_result"
    }
   ],
   "source": [
    "c1.name"
   ]
  },
  {
   "cell_type": "code",
   "execution_count": 204,
   "id": "921a335d",
   "metadata": {},
   "outputs": [
    {
     "data": {
      "text/plain": [
       "'xxxxx'"
      ]
     },
     "execution_count": 204,
     "metadata": {},
     "output_type": "execute_result"
    }
   ],
   "source": [
    "c.change_class_name_througth_instance(\"xxxxx\")\n",
    "c1.name"
   ]
  },
  {
   "cell_type": "code",
   "execution_count": 207,
   "id": "5c2a3de0",
   "metadata": {},
   "outputs": [],
   "source": [
    "class D:\n",
    "\n",
    "    name = \"xxx\"\n",
    "    \n",
    "    @classmethod\n",
    "    def class_name(cls):\n",
    "        return cls.__name__\n",
    "    \n",
    "    @classmethod\n",
    "    def change_name(cls, value):\n",
    "        cls.name = value\n",
    "        \n",
    "    def change_class_name_througth_instance(self, value):\n",
    "        self.__class__.name = value\n",
    "    "
   ]
  },
  {
   "cell_type": "code",
   "execution_count": 206,
   "id": "5a2b335d",
   "metadata": {},
   "outputs": [
    {
     "data": {
      "text/plain": [
       "'ksksks'"
      ]
     },
     "execution_count": 206,
     "metadata": {},
     "output_type": "execute_result"
    }
   ],
   "source": [
    "d = D()\n",
    "d.change_class_name_througth_instance(\"ksksks\")\n",
    "D.name"
   ]
  },
  {
   "cell_type": "code",
   "execution_count": 208,
   "id": "2f7ec4a3",
   "metadata": {},
   "outputs": [
    {
     "data": {
      "text/plain": [
       "'kakakakaka'"
      ]
     },
     "execution_count": 208,
     "metadata": {},
     "output_type": "execute_result"
    }
   ],
   "source": [
    "D.change_name(\"kakakakaka\")\n",
    "D.name"
   ]
  },
  {
   "cell_type": "markdown",
   "id": "2b8502c3",
   "metadata": {},
   "source": [
    "## staticmethod"
   ]
  },
  {
   "cell_type": "code",
   "execution_count": 209,
   "id": "9fba2a7d",
   "metadata": {},
   "outputs": [],
   "source": [
    "class Math:\n",
    "\n",
    "    @staticmethod\n",
    "    def pi():\n",
    "        return 3.14"
   ]
  },
  {
   "cell_type": "code",
   "execution_count": 211,
   "id": "398c6573",
   "metadata": {},
   "outputs": [
    {
     "data": {
      "text/plain": [
       "3.14"
      ]
     },
     "execution_count": 211,
     "metadata": {},
     "output_type": "execute_result"
    }
   ],
   "source": [
    "Math.pi()"
   ]
  },
  {
   "cell_type": "markdown",
   "id": "eea77c09",
   "metadata": {},
   "source": [
    "## klasa abstrakcyjna interfejs\n",
    "\n"
   ]
  },
  {
   "cell_type": "code",
   "execution_count": 214,
   "id": "8ebd004f",
   "metadata": {},
   "outputs": [
    {
     "name": "stdout",
     "output_type": "stream",
     "text": [
      "Dog eat\n"
     ]
    }
   ],
   "source": [
    "from abc import ABC, abstractmethod\n",
    "\n",
    "class Food: pass\n",
    "\n",
    "class Animal(ABC):\n",
    "    \n",
    "    @abstractmethod\n",
    "    def eat(self, food: Food): pass\n",
    "    \n",
    "    @abstractmethod\n",
    "    def move(self): pass\n",
    "    \n",
    "    @abstractmethod\n",
    "    def sleep(self): pass\n",
    "    \n",
    "    \n",
    "class Dog(Animal):\n",
    "    \n",
    "    def eat(self, food: Food): print(\"Dog eat\")\n",
    "\n",
    "    def move(self): print(\"Dog move fast\")\n",
    "\n",
    "    def sleep(self): print(\"Dog sleep\")\n",
    "\n",
    "\n",
    "d = Dog()\n",
    "d.eat()"
   ]
  },
  {
   "cell_type": "code",
   "execution_count": 215,
   "id": "7c2a927b",
   "metadata": {},
   "outputs": [
    {
     "ename": "TypeError",
     "evalue": "Can't instantiate abstract class Animal with abstract methods eat, move, sleep",
     "output_type": "error",
     "traceback": [
      "\u001b[0;31m---------------------------------------------------------------------------\u001b[0m",
      "\u001b[0;31mTypeError\u001b[0m                                 Traceback (most recent call last)",
      "Input \u001b[0;32mIn [215]\u001b[0m, in \u001b[0;36m<cell line: 1>\u001b[0;34m()\u001b[0m\n\u001b[0;32m----> 1\u001b[0m a \u001b[38;5;241m=\u001b[39m \u001b[43mAnimal\u001b[49m\u001b[43m(\u001b[49m\u001b[43m)\u001b[49m\n",
      "\u001b[0;31mTypeError\u001b[0m: Can't instantiate abstract class Animal with abstract methods eat, move, sleep"
     ]
    }
   ],
   "source": [
    "a = Animal()"
   ]
  },
  {
   "cell_type": "markdown",
   "id": "c816ae1c",
   "metadata": {},
   "source": [
    "### Zadanie\n",
    "\n",
    "1. Stwórz klasę reprezentującą okręg (Circle)\n",
    "\n",
    "Okrąg powinien mieć promień (radius), średnicę (diameter) i pole powierzchni (area) oraz przyjemną reprezentację napisową\n",
    "\n",
    "Np:\n",
    "\n",
    "```\n",
    "    >>> c = Circle(5)\n",
    "    >>> c\n",
    "    Circle(5)\n",
    "    >>> c.radius\n",
    "    5\n",
    "    >>> c.diameter\n",
    "    10\n",
    "    >>> c.area\n",
    "    78.53981633974483\n",
    "```\n",
    "\n",
    "2. Promień domyślnie powinien przyjemować wartość 1:\n",
    "\n",
    "```\n",
    "    >>> c = Circle()\n",
    "    >>> c.radius\n",
    "    1\n",
    "    >>> c.diameter\n",
    "    2\n",
    "```\n",
    "\n",
    "3. Kiedy promień się zmienia zmieniają się też średnica i pole powierzchni, np:\n",
    "\n",
    "```\n",
    "    >>> c = Circle(2)\n",
    "    >>> c.radius = 1\n",
    "    >>> c.diameter\n",
    "    2\n",
    "    >>> c.area\n",
    "    3.141592653589793\n",
    "    >>> c\n",
    "    Circle(1)\n",
    "```\n",
    "\n",
    "\n",
    "4. Można ustawić średnicę i wpływa to na promień i pole\n",
    "```\n",
    "    >>> c = Circle(1)\n",
    "    >>> c.diameter = 4\n",
    "    >>> c.radius\n",
    "    2.0\n",
    "```    \n",
    "5. Można ustawić pole powierzhni.\n",
    "\n",
    "```\n",
    "    >>> c = Circle(1)\n",
    "    >>> c.area = math.pi * 5 ** 2\n",
    "    >>> c.radius\n",
    "    5.0\n",
    "```\n",
    "6. Promień nie może być liczbą mniejszą od zera:\n",
    "```\n",
    "    >>> c = Circle(5)\n",
    "    >>> c.radius = 3\n",
    "    >>> c.radius = -2\n",
    "    Traceback (most recent call last):\n",
    "      File \"<stdin>\", line 1, in <module>\n",
    "      File \"circle.py\", line 27, in radius\n",
    "        raise ValueError(\"Radius cannot be negative\")\n",
    "    ValueError: R\n",
    "```\n",
    "\n",
    "\n",
    "### Zadanie 2\n",
    "\n",
    "1) Zmodyfikuj klasę Circle w ten sposób, by możliwe było porównywanie okręgów przy pomocy operatorów == > < >= <=\n",
    "\n",
    "    >>> c1 = Circle()\n",
    "    >>> c2 = Circle(2)\n",
    "    \n",
    "    >>> c1 == c2\n",
    "    False\n",
    "    \n",
    "    >>> c1 > c2\n",
    "    False\n",
    "    \n",
    "    >>> c1 <= c2\n",
    "    True\n",
    "    \n",
    "2) Wprowadź możliwość dodawania dwóch okręgów. Wynikiem jest okrąg o polu równym sumie pól okręgów\n",
    "\n",
    "    >>> c1 + c2\n",
    "    Circle(2.23606797749979)\n",
    "\n",
    "\n",
    "### Zadanie 3\n",
    "\n",
    "Dodaj klasę `Square`.\n",
    "\n",
    "Klasa ta ma mieć atrybuty takie jak side, area. \n",
    "\n",
    "Wprowadź możliwość porównywania i dodawania kwadratów.\n",
    "\n",
    "Wprowadź możliwość dodawania do siebie Cirlce i Square. \n",
    "\n",
    "Wynikiem dodawania jest nowy obiekt o polu równym sumie pol elementów składowych. Typ pochodzi z elementu po lewej stronie znaku.\n",
    "\n",
    "\n",
    "### Zadanie 4\n",
    "\n",
    "* Uprość klasy tworząc klasę bazową `Figure`. Wyłącz do niej to co może być wspólne. Skorzystaj z dziedziczenia\n",
    "\n",
    "* Utwórz interfejs, który będzie określał wymagane metody dla figury (pole powierzchni, metody porównania)\n",
    "\n",
    "* Utwórz klasę Triangle umożliwiając porównanie z innymi figurami oraz korzystanie z operatora +"
   ]
  },
  {
   "cell_type": "markdown",
   "id": "c80042f3",
   "metadata": {},
   "source": [
    "### Zadanie - PROJEKT SMART HOME"
   ]
  },
  {
   "cell_type": "markdown",
   "id": "010d6bdc",
   "metadata": {},
   "source": [
    "Utwórzymy projekt, w którym będziemy symulować obsługę inteligentnych urządzeń. \n",
    "Nasz projekt poprzez wysyłanie wiadomości do urządzeń potrafi uruchamiać różne ich funkcjonalności takie jak włączenie czy wyłączenie świateł. Włączenie głosników, odtworzenie muzyki, uniesienie czy opuszczenie zasłon\n",
    "\n",
    "Twoim zadaniem jest zaimplementować projekt w oparciu o poniższe wskazówki\n",
    "\n",
    "Projekt podzielimy na szereg modułów. W następującej strukturze:\n",
    "\n",
    "\n",
    "    .\n",
    "    ├── iot\n",
    "    │   ├── __init__.py\n",
    "    │   ├── device.py\n",
    "    │   ├── devices.py\n",
    "    │   ├── diagnostics.py\n",
    "    │   ├── message.py\n",
    "    │   └── service.py\n",
    "    └── main.py\n",
    "\n",
    "\n",
    "* `iot/message.py` zawierać będzie definicję wiadomości\n",
    "\n",
    "```python\n",
    "    from dataclasses import dataclass\n",
    "    from enum import Enum, auto\n",
    "\n",
    "\n",
    "    class MessageType(Enum):\n",
    "        SWITCH_ON = auto()\n",
    "        SWITCH_OFF = auto()\n",
    "        CHANGE_COLOR = auto()\n",
    "        PLAY_SONG = auto()\n",
    "        OPEN = auto()\n",
    "        CLOSE = auto()\n",
    "\n",
    "\n",
    "    @dataclass\n",
    "    class Message:\n",
    "        device_id: str\n",
    "        msg_type: MessageType\n",
    "        data: str = \"\"\n",
    "```\n",
    "\n",
    "* `iot/device.py` powinien zawierać interfejs opisujący urządzenie (`Device`). Powinien zawierać następujące abstrakcyjne metody:\n",
    "\n",
    "    \n",
    "    connect\n",
    "    \n",
    "        nie przyjmuje nic, zwraca None\n",
    "    \n",
    "    disconnect\n",
    "    \n",
    "        nie przyjmuje nic, zwraca None\n",
    "    \n",
    "    send_message\n",
    "     \n",
    "         przyjmuje message_type który jest klasy MessageType oraz data - napis\n",
    "    \n",
    "    def status_update(self) -> str:\n",
    "        \n",
    "        nie przyjmuje nic zwraca napis\n",
    "\n",
    "\n",
    "* `iot/devices.py` powinien zawierać klasy reprezentujące urządzenia. Mają one spełniać interfejs `Device`.\n",
    "\n",
    "Np. dla urządzenia Hue Light, metody mają mieć następujące działanie:\n",
    "\n",
    "    connect\n",
    "    \n",
    "        drukuje napis \"Connecting Hue Light\"\n",
    "        \n",
    "    disconnect\n",
    "    \n",
    "        drukuje napis \"Disconnecting Hue Light\"\n",
    "        \n",
    "    send_message \n",
    "    \n",
    "        przyjmuje odpowiedni MessageType i data i drukuje:\n",
    "        \n",
    "        Hue light handling message of type {message_type.name} with data [{data}].\n",
    "        \n",
    "    status_update\n",
    "    \n",
    "        drukuje napis hue_light_status_ok\n",
    "\n",
    "\n",
    "Oprócz Hue Light, zaimplementuj urządzenia SmartSpeaker i Curtains\n",
    "\n",
    "* `iot/diagnostics.py`\n",
    "\n",
    "Ma zawierać funkcję `collect_diagnostics`, która przyjmie jako argument device i zwróci None\n",
    "\n",
    "Wewnątrz powinna być implementacja która: \n",
    "wypisze tekst: \n",
    "    \n",
    "        Connecting to diagnostics server.\n",
    "\n",
    "wywoła dla device metodę `status_update` i zwróci napis\n",
    "\n",
    "    Sending status update <tutaj status> to server.\n",
    "    \n",
    "* `iot/service.py`\n",
    "\n",
    "powinien zawierać funkcję do generowania id `generate_id`, która zwróci losowy ciąg dużych liter o zadanej długości\n",
    "\n",
    "\n",
    "powinien zawierać klasę `IOTService`\n",
    "\n",
    "Będzie ona przechowywać zarejestrowane urządzenia\n",
    "\n",
    "Klasa ta powinna mieć metody:\n",
    "\n",
    "    register_device\n",
    "        przyjmuje Device\n",
    "        wywołuje metodę connect dla Device\n",
    "        generuje id: device_id\n",
    "        dodaje urządzenie do listy `devices`\n",
    "    \n",
    "    unregister_device\n",
    "        przyjmuje device_id\n",
    "        odłącza urządzenie wywołując metodę disconect dla device o zadanym id\n",
    "        usuwa urządzenie z listy\n",
    "\n",
    "    get_device\n",
    "        przyjmuje device_id\n",
    "        zwraca urzadzenie z listy\n",
    "        \n",
    "    run_program\n",
    "        przyjmuje listę zawierającą Message\n",
    "        drukuje: \"=====RUNNING PROGRAM======\"\n",
    "        dla każdej wiadomości \n",
    "        wywołuje dla wskazane w Message urządzenia metodę send_message z odpowiednimi danymi\n",
    "        drukuje \"=====END OF PROGRAM======\"\n",
    "        \n",
    "    test_devices\n",
    "        nie przyjmuje argumentow\n",
    "        drukuje: Start test devices\n",
    "        dla każdego urządzenia z listy wywołuje funkcję collect_diagnostics\n",
    "        \n",
    "\n",
    "* moduł `main.py`\n",
    "\n",
    "\n",
    "zawieraja i wywołuje funkcję `main`\n",
    " \n",
    "```\n",
    "\n",
    "    # tworzy instancję IOTService\n",
    "\n",
    "    # tworzy instancje dostępnych urządzeń\n",
    "    \n",
    "    # rejestruje urządzenia\n",
    "\n",
    "    # testuje urządzenia\n",
    "\n",
    "    # tworzy programy (listy Message)\n",
    "    \n",
    "        np program wake up\n",
    "        \n",
    "        włącza światłą (MessageType.SWITCH_ON)\n",
    "        włącza głośniki\n",
    "        odgrywa piosenkę (MessageType.PLAY_SONG)\n",
    "        otwiera zasłony\n",
    "        \n",
    "\n",
    "        program sleep\n",
    "        wyłącza światła ( MessageType.SWITCH_OFF)\n",
    "        wyłącza głośniki\n",
    "        zasłania zasłony (MessageType.CLOSE)\n",
    "        \n",
    "\n",
    "    # uruchamia programy\n",
    "    \n",
    "    # usuwa urządzenia\n",
    "    \n",
    "    # konczy program\n",
    "```"
   ]
  },
  {
   "cell_type": "code",
   "execution_count": 217,
   "id": "3be9582f",
   "metadata": {},
   "outputs": [],
   "source": [
    "from enum import Enum, auto\n",
    "\n",
    "\n",
    "class MessageType(Enum):\n",
    "        SWITCH_ON = auto()\n",
    "        SWITCH_OFF = auto()\n",
    "        CHANGE_COLOR = auto()\n",
    "        PLAY_SONG = auto()\n",
    "        OPEN = auto()\n",
    "        CLOSE = auto()"
   ]
  },
  {
   "cell_type": "code",
   "execution_count": 218,
   "id": "c374dd57",
   "metadata": {},
   "outputs": [
    {
     "data": {
      "text/plain": [
       "<MessageType.SWITCH_OFF: 2>"
      ]
     },
     "execution_count": 218,
     "metadata": {},
     "output_type": "execute_result"
    }
   ],
   "source": [
    "MessageType.SWITCH_OFF"
   ]
  },
  {
   "cell_type": "code",
   "execution_count": null,
   "id": "bde0f500",
   "metadata": {},
   "outputs": [],
   "source": []
  }
 ],
 "metadata": {
  "kernelspec": {
   "display_name": "Python 3 (ipykernel)",
   "language": "python",
   "name": "python3"
  },
  "language_info": {
   "codemirror_mode": {
    "name": "ipython",
    "version": 3
   },
   "file_extension": ".py",
   "mimetype": "text/x-python",
   "name": "python",
   "nbconvert_exporter": "python",
   "pygments_lexer": "ipython3",
   "version": "3.10.4"
  },
  "toc": {
   "base_numbering": 1,
   "nav_menu": {},
   "number_sections": true,
   "sideBar": true,
   "skip_h1_title": false,
   "title_cell": "Table of Contents",
   "title_sidebar": "Contents",
   "toc_cell": false,
   "toc_position": {},
   "toc_section_display": true,
   "toc_window_display": false
  }
 },
 "nbformat": 4,
 "nbformat_minor": 5
}
