{
 "cells": [
  {
   "cell_type": "code",
   "execution_count": 3,
   "id": "d900dabf",
   "metadata": {},
   "outputs": [
    {
     "data": {
      "text/plain": [
       "True"
      ]
     },
     "execution_count": 3,
     "metadata": {},
     "output_type": "execute_result"
    }
   ],
   "source": [
    "False ** False == True"
   ]
  },
  {
   "cell_type": "code",
   "execution_count": 1,
   "id": "e7666cb9",
   "metadata": {},
   "outputs": [
    {
     "data": {
      "text/plain": [
       "0"
      ]
     },
     "execution_count": 1,
     "metadata": {},
     "output_type": "execute_result"
    }
   ],
   "source": [
    "False  + False"
   ]
  },
  {
   "cell_type": "code",
   "execution_count": 2,
   "id": "9d29829c",
   "metadata": {},
   "outputs": [
    {
     "data": {
      "text/plain": [
       "True"
      ]
     },
     "execution_count": 2,
     "metadata": {},
     "output_type": "execute_result"
    }
   ],
   "source": [
    "1 == True"
   ]
  },
  {
   "cell_type": "code",
   "execution_count": 4,
   "id": "358a7c74",
   "metadata": {},
   "outputs": [
    {
     "data": {
      "text/plain": [
       "True"
      ]
     },
     "execution_count": 4,
     "metadata": {},
     "output_type": "execute_result"
    }
   ],
   "source": [
    "False ** True == False"
   ]
  },
  {
   "cell_type": "code",
   "execution_count": 5,
   "id": "ed04bb8b",
   "metadata": {},
   "outputs": [
    {
     "data": {
      "text/plain": [
       "True"
      ]
     },
     "execution_count": 5,
     "metadata": {},
     "output_type": "execute_result"
    }
   ],
   "source": [
    "True ** False == True"
   ]
  },
  {
   "cell_type": "code",
   "execution_count": 6,
   "id": "db9476cb",
   "metadata": {},
   "outputs": [
    {
     "data": {
      "text/plain": [
       "True"
      ]
     },
     "execution_count": 6,
     "metadata": {},
     "output_type": "execute_result"
    }
   ],
   "source": [
    "True ** True == True"
   ]
  },
  {
   "cell_type": "code",
   "execution_count": 7,
   "id": "2ab768f3",
   "metadata": {},
   "outputs": [
    {
     "data": {
      "text/plain": [
       "1"
      ]
     },
     "execution_count": 7,
     "metadata": {},
     "output_type": "execute_result"
    }
   ],
   "source": [
    "True ** True"
   ]
  },
  {
   "cell_type": "markdown",
   "id": "6d7a09b5",
   "metadata": {},
   "source": [
    "## Numerical\n",
    "\n"
   ]
  },
  {
   "cell_type": "code",
   "execution_count": 8,
   "id": "5a41649c",
   "metadata": {},
   "outputs": [],
   "source": [
    "x = (1 << 53) + 1"
   ]
  },
  {
   "cell_type": "code",
   "execution_count": 9,
   "id": "1e989d19",
   "metadata": {},
   "outputs": [
    {
     "data": {
      "text/plain": [
       "9007199254740993"
      ]
     },
     "execution_count": 9,
     "metadata": {},
     "output_type": "execute_result"
    }
   ],
   "source": [
    "x"
   ]
  },
  {
   "cell_type": "code",
   "execution_count": 10,
   "id": "37e6320d",
   "metadata": {},
   "outputs": [
    {
     "data": {
      "text/plain": [
       "True"
      ]
     },
     "execution_count": 10,
     "metadata": {},
     "output_type": "execute_result"
    }
   ],
   "source": [
    "x + 1.0 < x"
   ]
  },
  {
   "cell_type": "code",
   "execution_count": 11,
   "id": "da40a2a7",
   "metadata": {},
   "outputs": [
    {
     "data": {
      "text/plain": [
       "9007199254740992.0"
      ]
     },
     "execution_count": 11,
     "metadata": {},
     "output_type": "execute_result"
    }
   ],
   "source": [
    "x + 1.0"
   ]
  },
  {
   "cell_type": "code",
   "execution_count": 12,
   "id": "c1cef4ca",
   "metadata": {},
   "outputs": [
    {
     "data": {
      "text/plain": [
       "9007199254740994"
      ]
     },
     "execution_count": 12,
     "metadata": {},
     "output_type": "execute_result"
    }
   ],
   "source": [
    "x + 1"
   ]
  },
  {
   "cell_type": "markdown",
   "id": "71307354",
   "metadata": {},
   "source": [
    "## kolejność operatorów\n",
    "\n"
   ]
  },
  {
   "cell_type": "code",
   "execution_count": 13,
   "id": "744a64cf",
   "metadata": {},
   "outputs": [
    {
     "data": {
      "text/plain": [
       "False"
      ]
     },
     "execution_count": 13,
     "metadata": {},
     "output_type": "execute_result"
    }
   ],
   "source": [
    "(False == False) in [False]"
   ]
  },
  {
   "cell_type": "code",
   "execution_count": 14,
   "id": "ae27a48a",
   "metadata": {},
   "outputs": [
    {
     "data": {
      "text/plain": [
       "False"
      ]
     },
     "execution_count": 14,
     "metadata": {},
     "output_type": "execute_result"
    }
   ],
   "source": [
    "False == (False in [False])"
   ]
  },
  {
   "cell_type": "code",
   "execution_count": 15,
   "id": "785d898d",
   "metadata": {},
   "outputs": [
    {
     "data": {
      "text/plain": [
       "True"
      ]
     },
     "execution_count": 15,
     "metadata": {},
     "output_type": "execute_result"
    }
   ],
   "source": [
    "False == False in [False]"
   ]
  },
  {
   "cell_type": "code",
   "execution_count": 17,
   "id": "d93219f1",
   "metadata": {},
   "outputs": [
    {
     "data": {
      "text/plain": [
       "True"
      ]
     },
     "execution_count": 17,
     "metadata": {},
     "output_type": "execute_result"
    }
   ],
   "source": [
    "False == False and False in [False]"
   ]
  },
  {
   "cell_type": "markdown",
   "id": "93629c71",
   "metadata": {},
   "source": [
    "## iterable w porównaniach"
   ]
  },
  {
   "cell_type": "code",
   "execution_count": 18,
   "id": "13c0107f",
   "metadata": {},
   "outputs": [],
   "source": [
    "a = [0, 0]"
   ]
  },
  {
   "cell_type": "code",
   "execution_count": 19,
   "id": "7b7f2ff9",
   "metadata": {},
   "outputs": [],
   "source": [
    "(x, y) = a"
   ]
  },
  {
   "cell_type": "code",
   "execution_count": null,
   "id": "3fdb60f2",
   "metadata": {},
   "outputs": [],
   "source": [
    "x, y = 0, 0"
   ]
  },
  {
   "cell_type": "code",
   "execution_count": 20,
   "id": "a42e756a",
   "metadata": {},
   "outputs": [
    {
     "data": {
      "text/plain": [
       "(0, 0)"
      ]
     },
     "execution_count": 20,
     "metadata": {},
     "output_type": "execute_result"
    }
   ],
   "source": [
    "x, y"
   ]
  },
  {
   "cell_type": "code",
   "execution_count": 21,
   "id": "e0e71835",
   "metadata": {},
   "outputs": [
    {
     "data": {
      "text/plain": [
       "False"
      ]
     },
     "execution_count": 21,
     "metadata": {},
     "output_type": "execute_result"
    }
   ],
   "source": [
    "(x, y) == a"
   ]
  },
  {
   "cell_type": "code",
   "execution_count": 22,
   "id": "1bbdec29",
   "metadata": {},
   "outputs": [
    {
     "data": {
      "text/plain": [
       "True"
      ]
     },
     "execution_count": 22,
     "metadata": {},
     "output_type": "execute_result"
    }
   ],
   "source": [
    "[1, 2, 3] == sorted([1, 2, 3])"
   ]
  },
  {
   "cell_type": "code",
   "execution_count": 23,
   "id": "44f1c196",
   "metadata": {},
   "outputs": [
    {
     "data": {
      "text/plain": [
       "False"
      ]
     },
     "execution_count": 23,
     "metadata": {},
     "output_type": "execute_result"
    }
   ],
   "source": [
    "[1, 2, 3] is sorted([1, 2, 3])"
   ]
  },
  {
   "cell_type": "code",
   "execution_count": 24,
   "id": "e265b8e4",
   "metadata": {},
   "outputs": [
    {
     "data": {
      "text/plain": [
       "[1, 2, 3]"
      ]
     },
     "execution_count": 24,
     "metadata": {},
     "output_type": "execute_result"
    }
   ],
   "source": [
    "sorted((1, 2, 3))"
   ]
  },
  {
   "cell_type": "code",
   "execution_count": 25,
   "id": "3cfb50b4",
   "metadata": {},
   "outputs": [
    {
     "data": {
      "text/plain": [
       "False"
      ]
     },
     "execution_count": 25,
     "metadata": {},
     "output_type": "execute_result"
    }
   ],
   "source": [
    "(1, 2, 3) == sorted((1, 2, 3))"
   ]
  },
  {
   "cell_type": "markdown",
   "id": "6e4b0e25",
   "metadata": {},
   "source": [
    "## typy operacji arytmetycznych"
   ]
  },
  {
   "cell_type": "code",
   "execution_count": 27,
   "id": "bb6e64f7",
   "metadata": {},
   "outputs": [
    {
     "data": {
      "text/plain": [
       "True"
      ]
     },
     "execution_count": 27,
     "metadata": {},
     "output_type": "execute_result"
    }
   ],
   "source": [
    "type(1) == type(-1)"
   ]
  },
  {
   "cell_type": "code",
   "execution_count": 28,
   "id": "066b6bfb",
   "metadata": {},
   "outputs": [
    {
     "data": {
      "text/plain": [
       "True"
      ]
     },
     "execution_count": 28,
     "metadata": {},
     "output_type": "execute_result"
    }
   ],
   "source": [
    "1 ** 1 == 1 ** -1"
   ]
  },
  {
   "cell_type": "code",
   "execution_count": 29,
   "id": "69c93479",
   "metadata": {},
   "outputs": [
    {
     "data": {
      "text/plain": [
       "1.0"
      ]
     },
     "execution_count": 29,
     "metadata": {},
     "output_type": "execute_result"
    }
   ],
   "source": [
    "1 ** -1"
   ]
  },
  {
   "cell_type": "code",
   "execution_count": 31,
   "id": "a4c08eb1",
   "metadata": {},
   "outputs": [
    {
     "data": {
      "text/plain": [
       "1"
      ]
     },
     "execution_count": 31,
     "metadata": {},
     "output_type": "execute_result"
    }
   ],
   "source": [
    "1 ** 1"
   ]
  },
  {
   "cell_type": "code",
   "execution_count": 32,
   "id": "36aedb76",
   "metadata": {},
   "outputs": [
    {
     "data": {
      "text/plain": [
       "False"
      ]
     },
     "execution_count": 32,
     "metadata": {},
     "output_type": "execute_result"
    }
   ],
   "source": [
    "type(1 ** 1) == type( 1 ** -1)"
   ]
  },
  {
   "cell_type": "code",
   "execution_count": 33,
   "id": "2f7bfc3f",
   "metadata": {},
   "outputs": [],
   "source": [
    "a = 2, 1, 3"
   ]
  },
  {
   "cell_type": "code",
   "execution_count": 34,
   "id": "2572218c",
   "metadata": {},
   "outputs": [
    {
     "data": {
      "text/plain": [
       "True"
      ]
     },
     "execution_count": 34,
     "metadata": {},
     "output_type": "execute_result"
    }
   ],
   "source": [
    "sorted(a) == sorted(a)"
   ]
  },
  {
   "cell_type": "code",
   "execution_count": 37,
   "id": "9ea76800",
   "metadata": {},
   "outputs": [
    {
     "data": {
      "text/plain": [
       "[1, 2, 3]"
      ]
     },
     "execution_count": 37,
     "metadata": {},
     "output_type": "execute_result"
    }
   ],
   "source": [
    "sorted(a)"
   ]
  },
  {
   "cell_type": "code",
   "execution_count": 35,
   "id": "63872e50",
   "metadata": {},
   "outputs": [
    {
     "data": {
      "text/plain": [
       "False"
      ]
     },
     "execution_count": 35,
     "metadata": {},
     "output_type": "execute_result"
    }
   ],
   "source": [
    "reversed(a) == reversed(a)"
   ]
  },
  {
   "cell_type": "code",
   "execution_count": 36,
   "id": "07c6d70d",
   "metadata": {},
   "outputs": [
    {
     "data": {
      "text/plain": [
       "<reversed at 0x105b1ccd0>"
      ]
     },
     "execution_count": 36,
     "metadata": {},
     "output_type": "execute_result"
    }
   ],
   "source": [
    "reversed(a)"
   ]
  },
  {
   "cell_type": "code",
   "execution_count": 46,
   "id": "19c632d7",
   "metadata": {},
   "outputs": [],
   "source": [
    "b = reversed(a)"
   ]
  },
  {
   "cell_type": "code",
   "execution_count": 47,
   "id": "d2ab2f6f",
   "metadata": {},
   "outputs": [
    {
     "data": {
      "text/plain": [
       "False"
      ]
     },
     "execution_count": 47,
     "metadata": {},
     "output_type": "execute_result"
    }
   ],
   "source": [
    "sorted(b) == sorted(b)"
   ]
  },
  {
   "cell_type": "code",
   "execution_count": 45,
   "id": "58cf99cd",
   "metadata": {},
   "outputs": [
    {
     "data": {
      "text/plain": [
       "True"
      ]
     },
     "execution_count": 45,
     "metadata": {},
     "output_type": "execute_result"
    }
   ],
   "source": [
    "sorted(reversed(a)) == sorted(reversed(a))"
   ]
  },
  {
   "cell_type": "code",
   "execution_count": 56,
   "id": "fa705725",
   "metadata": {},
   "outputs": [],
   "source": [
    "b = reversed(a)"
   ]
  },
  {
   "cell_type": "code",
   "execution_count": 55,
   "id": "906b8959",
   "metadata": {},
   "outputs": [
    {
     "data": {
      "text/plain": [
       "[]"
      ]
     },
     "execution_count": 55,
     "metadata": {},
     "output_type": "execute_result"
    }
   ],
   "source": [
    "sorted(b)"
   ]
  },
  {
   "cell_type": "code",
   "execution_count": 57,
   "id": "8a7af8a0",
   "metadata": {},
   "outputs": [
    {
     "name": "stdout",
     "output_type": "stream",
     "text": [
      "3\n",
      "1\n",
      "2\n"
     ]
    }
   ],
   "source": [
    "for i in b: print(i)"
   ]
  },
  {
   "cell_type": "code",
   "execution_count": 59,
   "id": "0d199470",
   "metadata": {},
   "outputs": [
    {
     "data": {
      "text/plain": [
       "3"
      ]
     },
     "execution_count": 59,
     "metadata": {},
     "output_type": "execute_result"
    }
   ],
   "source": [
    "a = [1, 2, 3]\n",
    "\n",
    "len(a)"
   ]
  },
  {
   "cell_type": "code",
   "execution_count": 60,
   "id": "d7a01d00",
   "metadata": {},
   "outputs": [
    {
     "ename": "TypeError",
     "evalue": "object of type 'list_reverseiterator' has no len()",
     "output_type": "error",
     "traceback": [
      "\u001b[0;31m---------------------------------------------------------------------------\u001b[0m",
      "\u001b[0;31mTypeError\u001b[0m                                 Traceback (most recent call last)",
      "Input \u001b[0;32mIn [60]\u001b[0m, in \u001b[0;36m<cell line: 1>\u001b[0;34m()\u001b[0m\n\u001b[0;32m----> 1\u001b[0m \u001b[38;5;28;43mlen\u001b[39;49m\u001b[43m(\u001b[49m\u001b[38;5;28;43mreversed\u001b[39;49m\u001b[43m(\u001b[49m\u001b[43ma\u001b[49m\u001b[43m)\u001b[49m\u001b[43m)\u001b[49m\n",
      "\u001b[0;31mTypeError\u001b[0m: object of type 'list_reverseiterator' has no len()"
     ]
    }
   ],
   "source": [
    "# len(reversed(a))"
   ]
  },
  {
   "cell_type": "markdown",
   "id": "0ab63739",
   "metadata": {},
   "source": [
    "## typy\n"
   ]
  },
  {
   "cell_type": "code",
   "execution_count": 61,
   "id": "f0db5c48",
   "metadata": {},
   "outputs": [
    {
     "data": {
      "text/plain": [
       "True"
      ]
     },
     "execution_count": 61,
     "metadata": {},
     "output_type": "execute_result"
    }
   ],
   "source": [
    "isinstance(1, int)"
   ]
  },
  {
   "cell_type": "code",
   "execution_count": 62,
   "id": "33798f1c",
   "metadata": {},
   "outputs": [
    {
     "data": {
      "text/plain": [
       "False"
      ]
     },
     "execution_count": 62,
     "metadata": {},
     "output_type": "execute_result"
    }
   ],
   "source": [
    "isinstance(1, str)"
   ]
  },
  {
   "cell_type": "code",
   "execution_count": 63,
   "id": "96894293",
   "metadata": {},
   "outputs": [
    {
     "data": {
      "text/plain": [
       "True"
      ]
     },
     "execution_count": 63,
     "metadata": {},
     "output_type": "execute_result"
    }
   ],
   "source": [
    "isinstance(1, object)"
   ]
  },
  {
   "cell_type": "code",
   "execution_count": 64,
   "id": "80f84b6d",
   "metadata": {},
   "outputs": [
    {
     "data": {
      "text/plain": [
       "True"
      ]
     },
     "execution_count": 64,
     "metadata": {},
     "output_type": "execute_result"
    }
   ],
   "source": [
    "isinstance(object, object)"
   ]
  },
  {
   "cell_type": "code",
   "execution_count": 65,
   "id": "e1a4e427",
   "metadata": {},
   "outputs": [
    {
     "data": {
      "text/plain": [
       "False"
      ]
     },
     "execution_count": 65,
     "metadata": {},
     "output_type": "execute_result"
    }
   ],
   "source": [
    "type == object"
   ]
  },
  {
   "cell_type": "code",
   "execution_count": 66,
   "id": "f6caccf2",
   "metadata": {},
   "outputs": [
    {
     "data": {
      "text/plain": [
       "True"
      ]
     },
     "execution_count": 66,
     "metadata": {},
     "output_type": "execute_result"
    }
   ],
   "source": [
    "isinstance(type, object)"
   ]
  },
  {
   "cell_type": "code",
   "execution_count": 67,
   "id": "e431db13",
   "metadata": {},
   "outputs": [
    {
     "data": {
      "text/plain": [
       "True"
      ]
     },
     "execution_count": 67,
     "metadata": {},
     "output_type": "execute_result"
    }
   ],
   "source": [
    "isinstance(object, type)"
   ]
  },
  {
   "cell_type": "code",
   "execution_count": 68,
   "id": "1a6b3f33",
   "metadata": {},
   "outputs": [
    {
     "data": {
      "text/plain": [
       "True"
      ]
     },
     "execution_count": 68,
     "metadata": {},
     "output_type": "execute_result"
    }
   ],
   "source": [
    "isinstance(int, type)"
   ]
  },
  {
   "cell_type": "markdown",
   "id": "25d57c1a",
   "metadata": {},
   "source": [
    "## extend vs += dla list"
   ]
  },
  {
   "cell_type": "code",
   "execution_count": 71,
   "id": "9597ee7b",
   "metadata": {},
   "outputs": [
    {
     "data": {
      "text/plain": [
       "([],)"
      ]
     },
     "execution_count": 71,
     "metadata": {},
     "output_type": "execute_result"
    }
   ],
   "source": [
    "a = ([],)\n",
    "a"
   ]
  },
  {
   "cell_type": "code",
   "execution_count": 70,
   "id": "59ce96cc",
   "metadata": {},
   "outputs": [
    {
     "data": {
      "text/plain": [
       "'aabb'"
      ]
     },
     "execution_count": 70,
     "metadata": {},
     "output_type": "execute_result"
    }
   ],
   "source": [
    "(\"aa\"\n",
    "\"bb\")"
   ]
  },
  {
   "cell_type": "code",
   "execution_count": 72,
   "id": "eff7e02e",
   "metadata": {},
   "outputs": [],
   "source": [
    "a[0].extend([1])"
   ]
  },
  {
   "cell_type": "code",
   "execution_count": 74,
   "id": "7492dc09",
   "metadata": {},
   "outputs": [
    {
     "data": {
      "text/plain": [
       "[1]"
      ]
     },
     "execution_count": 74,
     "metadata": {},
     "output_type": "execute_result"
    }
   ],
   "source": [
    "a[0]"
   ]
  },
  {
   "cell_type": "code",
   "execution_count": 75,
   "id": "03a9f6e1",
   "metadata": {},
   "outputs": [
    {
     "ename": "TypeError",
     "evalue": "'tuple' object does not support item assignment",
     "output_type": "error",
     "traceback": [
      "\u001b[0;31m---------------------------------------------------------------------------\u001b[0m",
      "\u001b[0;31mTypeError\u001b[0m                                 Traceback (most recent call last)",
      "Input \u001b[0;32mIn [75]\u001b[0m, in \u001b[0;36m<cell line: 1>\u001b[0;34m()\u001b[0m\n\u001b[0;32m----> 1\u001b[0m a[\u001b[38;5;241m0\u001b[39m] \u001b[38;5;241m+\u001b[39m\u001b[38;5;241m=\u001b[39m [\u001b[38;5;241m2\u001b[39m]\n",
      "\u001b[0;31mTypeError\u001b[0m: 'tuple' object does not support item assignment"
     ]
    }
   ],
   "source": [
    "a[0] += [2]\n"
   ]
  },
  {
   "cell_type": "markdown",
   "id": "068e0e09",
   "metadata": {},
   "source": [
    "## indeksowanie\n",
    "\n"
   ]
  },
  {
   "cell_type": "code",
   "execution_count": 84,
   "id": "11f4e70e",
   "metadata": {},
   "outputs": [
    {
     "data": {
      "text/plain": [
       "[4, 3]"
      ]
     },
     "execution_count": 84,
     "metadata": {},
     "output_type": "execute_result"
    }
   ],
   "source": [
    "[4, 3][:2]"
   ]
  },
  {
   "cell_type": "code",
   "execution_count": 83,
   "id": "f8bd1281",
   "metadata": {},
   "outputs": [
    {
     "data": {
      "text/plain": [
       "[4, 3]"
      ]
     },
     "execution_count": 83,
     "metadata": {},
     "output_type": "execute_result"
    }
   ],
   "source": [
    "[4, 3][slice(2)] # [:2]"
   ]
  },
  {
   "cell_type": "code",
   "execution_count": 77,
   "id": "e075aedf",
   "metadata": {},
   "outputs": [
    {
     "name": "stderr",
     "output_type": "stream",
     "text": [
      "<>:1: SyntaxWarning: list indices must be integers or slices, not float; perhaps you missed a comma?\n",
      "<>:1: SyntaxWarning: list indices must be integers or slices, not float; perhaps you missed a comma?\n",
      "/var/folders/8l/t3zs7y694s5g088bzybz9czc0000gn/T/ipykernel_55974/132284286.py:1: SyntaxWarning: list indices must be integers or slices, not float; perhaps you missed a comma?\n",
      "  [4][0.0]\n",
      "/var/folders/8l/t3zs7y694s5g088bzybz9czc0000gn/T/ipykernel_55974/132284286.py:1: SyntaxWarning: list indices must be integers or slices, not float; perhaps you missed a comma?\n",
      "  [4][0.0]\n",
      "/var/folders/8l/t3zs7y694s5g088bzybz9czc0000gn/T/ipykernel_55974/132284286.py:1: SyntaxWarning: list indices must be integers or slices, not float; perhaps you missed a comma?\n",
      "  [4][0.0]\n"
     ]
    },
    {
     "ename": "TypeError",
     "evalue": "list indices must be integers or slices, not float",
     "output_type": "error",
     "traceback": [
      "\u001b[0;31m---------------------------------------------------------------------------\u001b[0m",
      "\u001b[0;31mTypeError\u001b[0m                                 Traceback (most recent call last)",
      "Input \u001b[0;32mIn [77]\u001b[0m, in \u001b[0;36m<cell line: 1>\u001b[0;34m()\u001b[0m\n\u001b[0;32m----> 1\u001b[0m \u001b[43m[\u001b[49m\u001b[38;5;241;43m4\u001b[39;49m\u001b[43m]\u001b[49m\u001b[43m[\u001b[49m\u001b[38;5;241;43m0.0\u001b[39;49m\u001b[43m]\u001b[49m\n",
      "\u001b[0;31mTypeError\u001b[0m: list indices must be integers or slices, not float"
     ]
    }
   ],
   "source": [
    "# [4][0.0]"
   ]
  },
  {
   "cell_type": "code",
   "execution_count": 85,
   "id": "c551399a",
   "metadata": {},
   "outputs": [
    {
     "data": {
      "text/plain": [
       "4"
      ]
     },
     "execution_count": 85,
     "metadata": {},
     "output_type": "execute_result"
    }
   ],
   "source": [
    "{0:4}[0]"
   ]
  },
  {
   "cell_type": "code",
   "execution_count": 86,
   "id": "2625ed94",
   "metadata": {},
   "outputs": [
    {
     "data": {
      "text/plain": [
       "4"
      ]
     },
     "execution_count": 86,
     "metadata": {},
     "output_type": "execute_result"
    }
   ],
   "source": [
    "{0:4}[0.0]"
   ]
  },
  {
   "cell_type": "markdown",
   "id": "8a05f0bb",
   "metadata": {},
   "source": [
    "## all"
   ]
  },
  {
   "cell_type": "code",
   "execution_count": 87,
   "id": "1c0ab563",
   "metadata": {},
   "outputs": [
    {
     "data": {
      "text/plain": [
       "True"
      ]
     },
     "execution_count": 87,
     "metadata": {},
     "output_type": "execute_result"
    }
   ],
   "source": [
    "all([1, 2, 3])"
   ]
  },
  {
   "cell_type": "code",
   "execution_count": 89,
   "id": "755a1cba",
   "metadata": {},
   "outputs": [
    {
     "data": {
      "text/plain": [
       "False"
      ]
     },
     "execution_count": 89,
     "metadata": {},
     "output_type": "execute_result"
    }
   ],
   "source": [
    "all([1,0])"
   ]
  },
  {
   "cell_type": "code",
   "execution_count": 90,
   "id": "e791906b",
   "metadata": {},
   "outputs": [
    {
     "data": {
      "text/plain": [
       "True"
      ]
     },
     "execution_count": 90,
     "metadata": {},
     "output_type": "execute_result"
    }
   ],
   "source": [
    "all([])"
   ]
  },
  {
   "cell_type": "code",
   "execution_count": 91,
   "id": "9816ad92",
   "metadata": {},
   "outputs": [
    {
     "ename": "TypeError",
     "evalue": "all() takes exactly one argument (0 given)",
     "output_type": "error",
     "traceback": [
      "\u001b[0;31m---------------------------------------------------------------------------\u001b[0m",
      "\u001b[0;31mTypeError\u001b[0m                                 Traceback (most recent call last)",
      "Input \u001b[0;32mIn [91]\u001b[0m, in \u001b[0;36m<cell line: 1>\u001b[0;34m()\u001b[0m\n\u001b[0;32m----> 1\u001b[0m \u001b[38;5;28;43mall\u001b[39;49m\u001b[43m(\u001b[49m\u001b[43m)\u001b[49m\n",
      "\u001b[0;31mTypeError\u001b[0m: all() takes exactly one argument (0 given)"
     ]
    }
   ],
   "source": [
    "# all()"
   ]
  },
  {
   "cell_type": "code",
   "execution_count": 92,
   "id": "eeea0d75",
   "metadata": {},
   "outputs": [
    {
     "data": {
      "text/plain": [
       "False"
      ]
     },
     "execution_count": 92,
     "metadata": {},
     "output_type": "execute_result"
    }
   ],
   "source": [
    "all([[],[]])  # all([False])"
   ]
  },
  {
   "cell_type": "code",
   "execution_count": null,
   "id": "d7c165a4",
   "metadata": {},
   "outputs": [],
   "source": [
    "all([[[]]])  # all([True])"
   ]
  },
  {
   "cell_type": "code",
   "execution_count": 93,
   "id": "66f36931",
   "metadata": {},
   "outputs": [
    {
     "data": {
      "text/plain": [
       "False"
      ]
     },
     "execution_count": 93,
     "metadata": {},
     "output_type": "execute_result"
    }
   ],
   "source": [
    "bool([])"
   ]
  },
  {
   "cell_type": "code",
   "execution_count": 94,
   "id": "88cf4307",
   "metadata": {},
   "outputs": [
    {
     "data": {
      "text/plain": [
       "True"
      ]
     },
     "execution_count": 94,
     "metadata": {},
     "output_type": "execute_result"
    }
   ],
   "source": [
    "bool([[]])"
   ]
  },
  {
   "cell_type": "markdown",
   "id": "42f998ea",
   "metadata": {},
   "source": [
    "## sum"
   ]
  },
  {
   "cell_type": "code",
   "execution_count": 95,
   "id": "811f1cf2",
   "metadata": {},
   "outputs": [
    {
     "data": {
      "text/plain": [
       "6"
      ]
     },
     "execution_count": 95,
     "metadata": {},
     "output_type": "execute_result"
    }
   ],
   "source": [
    "sum([1,2,3])"
   ]
  },
  {
   "cell_type": "code",
   "execution_count": 96,
   "id": "411c5f39",
   "metadata": {},
   "outputs": [
    {
     "ename": "TypeError",
     "evalue": "unsupported operand type(s) for +: 'int' and 'str'",
     "output_type": "error",
     "traceback": [
      "\u001b[0;31m---------------------------------------------------------------------------\u001b[0m",
      "\u001b[0;31mTypeError\u001b[0m                                 Traceback (most recent call last)",
      "Input \u001b[0;32mIn [96]\u001b[0m, in \u001b[0;36m<cell line: 1>\u001b[0;34m()\u001b[0m\n\u001b[0;32m----> 1\u001b[0m \u001b[38;5;28;43msum\u001b[39;49m\u001b[43m(\u001b[49m\u001b[38;5;124;43m'\u001b[39;49m\u001b[38;5;124;43m123\u001b[39;49m\u001b[38;5;124;43m'\u001b[39;49m\u001b[43m)\u001b[49m\n",
      "\u001b[0;31mTypeError\u001b[0m: unsupported operand type(s) for +: 'int' and 'str'"
     ]
    }
   ],
   "source": [
    "# sum('123')"
   ]
  },
  {
   "cell_type": "code",
   "execution_count": 97,
   "id": "3e2455cd",
   "metadata": {},
   "outputs": [
    {
     "data": {
      "text/plain": [
       "0"
      ]
     },
     "execution_count": 97,
     "metadata": {},
     "output_type": "execute_result"
    }
   ],
   "source": [
    "sum(\"\")"
   ]
  },
  {
   "cell_type": "code",
   "execution_count": 98,
   "id": "a6ca09ab",
   "metadata": {},
   "outputs": [
    {
     "data": {
      "text/plain": [
       "0"
      ]
     },
     "execution_count": 98,
     "metadata": {},
     "output_type": "execute_result"
    }
   ],
   "source": [
    "sum([])"
   ]
  },
  {
   "cell_type": "code",
   "execution_count": 103,
   "id": "d4f889f3",
   "metadata": {},
   "outputs": [
    {
     "data": {
      "text/plain": [
       "()"
      ]
     },
     "execution_count": 103,
     "metadata": {},
     "output_type": "execute_result"
    }
   ],
   "source": [
    "sum(\"\", ())"
   ]
  },
  {
   "cell_type": "code",
   "execution_count": 104,
   "id": "5d57ef8c",
   "metadata": {},
   "outputs": [
    {
     "data": {
      "text/plain": [
       "[]"
      ]
     },
     "execution_count": 104,
     "metadata": {},
     "output_type": "execute_result"
    }
   ],
   "source": [
    "sum(\"\", [])"
   ]
  },
  {
   "cell_type": "code",
   "execution_count": 105,
   "id": "a7d926d5",
   "metadata": {},
   "outputs": [
    {
     "data": {
      "text/plain": [
       "{}"
      ]
     },
     "execution_count": 105,
     "metadata": {},
     "output_type": "execute_result"
    }
   ],
   "source": [
    "sum(\"\", {})"
   ]
  },
  {
   "cell_type": "code",
   "execution_count": 109,
   "id": "eddc2f4d",
   "metadata": {},
   "outputs": [
    {
     "data": {
      "text/plain": [
       "set()"
      ]
     },
     "execution_count": 109,
     "metadata": {},
     "output_type": "execute_result"
    }
   ],
   "source": [
    "sum(\"\", set())"
   ]
  },
  {
   "cell_type": "code",
   "execution_count": 107,
   "id": "7d49450e",
   "metadata": {},
   "outputs": [
    {
     "ename": "TypeError",
     "evalue": "sum() can't sum strings [use ''.join(seq) instead]",
     "output_type": "error",
     "traceback": [
      "\u001b[0;31m---------------------------------------------------------------------------\u001b[0m",
      "\u001b[0;31mTypeError\u001b[0m                                 Traceback (most recent call last)",
      "Input \u001b[0;32mIn [107]\u001b[0m, in \u001b[0;36m<cell line: 1>\u001b[0;34m()\u001b[0m\n\u001b[0;32m----> 1\u001b[0m \u001b[38;5;28;43msum\u001b[39;49m\u001b[43m(\u001b[49m\u001b[38;5;124;43m\"\u001b[39;49m\u001b[38;5;124;43m\"\u001b[39;49m\u001b[43m,\u001b[49m\u001b[43m \u001b[49m\u001b[38;5;124;43m\"\u001b[39;49m\u001b[38;5;124;43m\"\u001b[39;49m\u001b[43m)\u001b[49m\n",
      "\u001b[0;31mTypeError\u001b[0m: sum() can't sum strings [use ''.join(seq) instead]"
     ]
    }
   ],
   "source": [
    "sum(\"\", \"\")"
   ]
  },
  {
   "cell_type": "markdown",
   "id": "58d2fc89",
   "metadata": {},
   "source": [
    "## NaN"
   ]
  },
  {
   "cell_type": "code",
   "execution_count": 110,
   "id": "ea2418e8",
   "metadata": {},
   "outputs": [
    {
     "data": {
      "text/plain": [
       "False"
      ]
     },
     "execution_count": 110,
     "metadata": {},
     "output_type": "execute_result"
    }
   ],
   "source": [
    "x = float(\"nan\")\n",
    "y = float(\"nan\")\n",
    "\n",
    "x == x"
   ]
  },
  {
   "cell_type": "code",
   "execution_count": 111,
   "id": "78584ba1",
   "metadata": {},
   "outputs": [
    {
     "data": {
      "text/plain": [
       "True"
      ]
     },
     "execution_count": 111,
     "metadata": {},
     "output_type": "execute_result"
    }
   ],
   "source": [
    "[x] == [x]"
   ]
  },
  {
   "cell_type": "code",
   "execution_count": 112,
   "id": "a7ff4b0d",
   "metadata": {},
   "outputs": [
    {
     "data": {
      "text/plain": [
       "False"
      ]
     },
     "execution_count": 112,
     "metadata": {},
     "output_type": "execute_result"
    }
   ],
   "source": [
    "[x] == [y]\n"
   ]
  },
  {
   "cell_type": "code",
   "execution_count": 113,
   "id": "e106b214",
   "metadata": {},
   "outputs": [
    {
     "data": {
      "text/plain": [
       "True"
      ]
     },
     "execution_count": 113,
     "metadata": {},
     "output_type": "execute_result"
    }
   ],
   "source": [
    "x is x"
   ]
  },
  {
   "cell_type": "code",
   "execution_count": 114,
   "id": "1e613a87",
   "metadata": {},
   "outputs": [
    {
     "data": {
      "text/plain": [
       "3"
      ]
     },
     "execution_count": 114,
     "metadata": {},
     "output_type": "execute_result"
    }
   ],
   "source": [
    "x = float(\"nan\")\n",
    "\n",
    "len({x, x, float(x), float(x), float(\"nan\"), float(\"nan\")})"
   ]
  },
  {
   "cell_type": "code",
   "execution_count": 115,
   "id": "d7ccbed3",
   "metadata": {},
   "outputs": [
    {
     "data": {
      "text/plain": [
       "2"
      ]
     },
     "execution_count": 115,
     "metadata": {},
     "output_type": "execute_result"
    }
   ],
   "source": [
    "len({x, float(x), float(\"nan\")})"
   ]
  },
  {
   "cell_type": "code",
   "execution_count": 116,
   "id": "ff619dc4",
   "metadata": {},
   "outputs": [
    {
     "data": {
      "text/plain": [
       "0.0"
      ]
     },
     "execution_count": 116,
     "metadata": {},
     "output_type": "execute_result"
    }
   ],
   "source": [
    "x = float(\"nan\")\n",
    "x.imag"
   ]
  },
  {
   "cell_type": "code",
   "execution_count": 118,
   "id": "365c09e7",
   "metadata": {},
   "outputs": [
    {
     "data": {
      "text/plain": [
       "0.0"
      ]
     },
     "execution_count": 118,
     "metadata": {},
     "output_type": "execute_result"
    }
   ],
   "source": [
    "(2 * x).imag"
   ]
  },
  {
   "cell_type": "code",
   "execution_count": 119,
   "id": "d523e356",
   "metadata": {},
   "outputs": [
    {
     "data": {
      "text/plain": [
       "nan"
      ]
     },
     "execution_count": 119,
     "metadata": {},
     "output_type": "execute_result"
    }
   ],
   "source": [
    "2 * x"
   ]
  },
  {
   "cell_type": "code",
   "execution_count": 120,
   "id": "37b4e376",
   "metadata": {},
   "outputs": [
    {
     "data": {
      "text/plain": [
       "(nan+0j)"
      ]
     },
     "execution_count": 120,
     "metadata": {},
     "output_type": "execute_result"
    }
   ],
   "source": [
    "complex(x)"
   ]
  },
  {
   "cell_type": "code",
   "execution_count": 121,
   "id": "e973ca2c",
   "metadata": {},
   "outputs": [
    {
     "data": {
      "text/plain": [
       "nan"
      ]
     },
     "execution_count": 121,
     "metadata": {},
     "output_type": "execute_result"
    }
   ],
   "source": [
    "(2 *  complex(x)).imag"
   ]
  },
  {
   "cell_type": "code",
   "execution_count": 122,
   "id": "077b2aec",
   "metadata": {},
   "outputs": [
    {
     "data": {
      "text/plain": [
       "0.0"
      ]
     },
     "execution_count": 122,
     "metadata": {},
     "output_type": "execute_result"
    }
   ],
   "source": [
    "(complex(x) + complex(x)).imag"
   ]
  },
  {
   "cell_type": "code",
   "execution_count": null,
   "id": "83a254ff",
   "metadata": {},
   "outputs": [],
   "source": []
  }
 ],
 "metadata": {
  "kernelspec": {
   "display_name": "Python 3 (ipykernel)",
   "language": "python",
   "name": "python3"
  },
  "language_info": {
   "codemirror_mode": {
    "name": "ipython",
    "version": 3
   },
   "file_extension": ".py",
   "mimetype": "text/x-python",
   "name": "python",
   "nbconvert_exporter": "python",
   "pygments_lexer": "ipython3",
   "version": "3.10.4"
  },
  "toc": {
   "base_numbering": 1,
   "nav_menu": {},
   "number_sections": true,
   "sideBar": true,
   "skip_h1_title": false,
   "title_cell": "Table of Contents",
   "title_sidebar": "Contents",
   "toc_cell": false,
   "toc_position": {},
   "toc_section_display": true,
   "toc_window_display": false
  }
 },
 "nbformat": 4,
 "nbformat_minor": 5
}
